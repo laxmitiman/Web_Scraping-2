{
 "cells": [
  {
   "cell_type": "markdown",
   "metadata": {},
   "source": [
    "### Q1: Write a python program to scrape data for “Data Analyst” Job position in “Bangalore” location. You have to scrape the job-title, job-location, company_name, experience_required. You have to scrape first 10 jobs data."
   ]
  },
  {
   "cell_type": "markdown",
   "metadata": {},
   "source": [
    "#### 1. first get the webpage https://www.naukri.com/"
   ]
  },
  {
   "cell_type": "code",
   "execution_count": 58,
   "metadata": {},
   "outputs": [],
   "source": [
    "import selenium\n",
    "import pandas as pd\n",
    "from selenium import webdriver"
   ]
  },
  {
   "cell_type": "code",
   "execution_count": 186,
   "metadata": {},
   "outputs": [],
   "source": [
    "import time\n",
    "from selenium.common.exceptions import NoSuchElementException"
   ]
  },
  {
   "cell_type": "code",
   "execution_count": 132,
   "metadata": {},
   "outputs": [],
   "source": [
    "driver=webdriver.Chrome(\"chromedriver.exe\")"
   ]
  },
  {
   "cell_type": "code",
   "execution_count": 133,
   "metadata": {},
   "outputs": [],
   "source": [
    "url='https://www.naukri.com/'\n",
    "driver.get(url)"
   ]
  },
  {
   "cell_type": "markdown",
   "metadata": {},
   "source": [
    "#### 2. Enter “Data Analyst” in “Skill,Designations,Companies” field and enter “Bangalore” in “enter the location” field."
   ]
  },
  {
   "cell_type": "code",
   "execution_count": 134,
   "metadata": {},
   "outputs": [
    {
     "data": {
      "text/plain": [
       "<selenium.webdriver.remote.webelement.WebElement (session=\"4c1a8a85d65737fccd04538d8ac22c4b\", element=\"3de75561-3305-4351-8e8b-19238fef8a6c\")>"
      ]
     },
     "execution_count": 134,
     "metadata": {},
     "output_type": "execute_result"
    }
   ],
   "source": [
    "search_job=driver.find_element_by_id('qsb-keyword-sugg')\n",
    "search_job"
   ]
  },
  {
   "cell_type": "code",
   "execution_count": 135,
   "metadata": {},
   "outputs": [],
   "source": [
    "search_job.send_keys(\"Data Scientist\")"
   ]
  },
  {
   "cell_type": "code",
   "execution_count": 136,
   "metadata": {},
   "outputs": [],
   "source": [
    "search_job=driver.find_element_by_id('qsb-location-sugg')\n",
    "search_job.send_keys('Bangalore')"
   ]
  },
  {
   "cell_type": "code",
   "execution_count": 137,
   "metadata": {},
   "outputs": [],
   "source": [
    "search_btn=driver.find_element_by_xpath('//button[@class=\"btn\"]')\n",
    "search_btn.click()"
   ]
  },
  {
   "cell_type": "code",
   "execution_count": 11,
   "metadata": {},
   "outputs": [
    {
     "data": {
      "text/plain": [
       "[<selenium.webdriver.remote.webelement.WebElement (session=\"a6efbc56f052fbf99873cbb9a6816277\", element=\"bdd07be1-cdac-4718-9980-6d27d730982d\")>,\n",
       " <selenium.webdriver.remote.webelement.WebElement (session=\"a6efbc56f052fbf99873cbb9a6816277\", element=\"bfbdddff-492a-48f8-95f3-53d8e5c7f3b9\")>,\n",
       " <selenium.webdriver.remote.webelement.WebElement (session=\"a6efbc56f052fbf99873cbb9a6816277\", element=\"ba1f83b9-e4aa-4194-ba14-4f7e8316fec4\")>,\n",
       " <selenium.webdriver.remote.webelement.WebElement (session=\"a6efbc56f052fbf99873cbb9a6816277\", element=\"b2226bc0-ae6b-4653-961c-6104ff70e752\")>,\n",
       " <selenium.webdriver.remote.webelement.WebElement (session=\"a6efbc56f052fbf99873cbb9a6816277\", element=\"ae5374ba-6a79-4528-bd96-849fded665b4\")>,\n",
       " <selenium.webdriver.remote.webelement.WebElement (session=\"a6efbc56f052fbf99873cbb9a6816277\", element=\"da5e06dd-8f54-4123-ae0e-b1562d307452\")>,\n",
       " <selenium.webdriver.remote.webelement.WebElement (session=\"a6efbc56f052fbf99873cbb9a6816277\", element=\"73a16209-bd42-46e7-88fc-5fa77b0bdde2\")>,\n",
       " <selenium.webdriver.remote.webelement.WebElement (session=\"a6efbc56f052fbf99873cbb9a6816277\", element=\"ea3a7e46-bacd-4313-8311-dffa3eaab92c\")>,\n",
       " <selenium.webdriver.remote.webelement.WebElement (session=\"a6efbc56f052fbf99873cbb9a6816277\", element=\"2e3c3ed7-b6f1-41ad-97b9-7040d204be04\")>,\n",
       " <selenium.webdriver.remote.webelement.WebElement (session=\"a6efbc56f052fbf99873cbb9a6816277\", element=\"5194f3c1-e3de-4f58-a66a-bee45560983c\")>,\n",
       " <selenium.webdriver.remote.webelement.WebElement (session=\"a6efbc56f052fbf99873cbb9a6816277\", element=\"695a721b-a3ca-45e5-bfee-fd4eb7ac3611\")>,\n",
       " <selenium.webdriver.remote.webelement.WebElement (session=\"a6efbc56f052fbf99873cbb9a6816277\", element=\"aba19dad-c2eb-4524-9b05-f137b775f3e6\")>,\n",
       " <selenium.webdriver.remote.webelement.WebElement (session=\"a6efbc56f052fbf99873cbb9a6816277\", element=\"20a645f9-c1e4-42e7-9007-487ed755adf5\")>,\n",
       " <selenium.webdriver.remote.webelement.WebElement (session=\"a6efbc56f052fbf99873cbb9a6816277\", element=\"53f1c194-e117-450f-84a5-aa219f315987\")>,\n",
       " <selenium.webdriver.remote.webelement.WebElement (session=\"a6efbc56f052fbf99873cbb9a6816277\", element=\"c417fdc9-72f4-44f2-8ba0-186919b459b8\")>,\n",
       " <selenium.webdriver.remote.webelement.WebElement (session=\"a6efbc56f052fbf99873cbb9a6816277\", element=\"bc7e1d2d-bf05-4da2-9e9e-7f79379bb459\")>,\n",
       " <selenium.webdriver.remote.webelement.WebElement (session=\"a6efbc56f052fbf99873cbb9a6816277\", element=\"4eaf19c2-8208-4788-9aac-55473c54230f\")>,\n",
       " <selenium.webdriver.remote.webelement.WebElement (session=\"a6efbc56f052fbf99873cbb9a6816277\", element=\"4ddd4e1d-97be-45c5-a1b3-ebe7b266b87d\")>,\n",
       " <selenium.webdriver.remote.webelement.WebElement (session=\"a6efbc56f052fbf99873cbb9a6816277\", element=\"80246e68-505c-40fe-a888-23a44d137018\")>,\n",
       " <selenium.webdriver.remote.webelement.WebElement (session=\"a6efbc56f052fbf99873cbb9a6816277\", element=\"8a0c09d2-2f89-4116-ade7-9275575d0f2d\")>]"
      ]
     },
     "execution_count": 11,
     "metadata": {},
     "output_type": "execute_result"
    }
   ],
   "source": [
    "title_tags=driver.find_elements_by_xpath(\"//a[@class='title fw500 ellipsis']\")\n",
    "title_tags"
   ]
  },
  {
   "cell_type": "code",
   "execution_count": 13,
   "metadata": {},
   "outputs": [
    {
     "data": {
      "text/plain": [
       "['Data Scientist',\n",
       " 'Data Scientist',\n",
       " 'Senior Data Scientist I',\n",
       " 'IDM - Lead Data Scientist',\n",
       " 'Senior/Lead Data Scientist',\n",
       " 'Principal Data Scientist',\n",
       " 'Data Scientist - Business Analytics',\n",
       " 'Data Scientist',\n",
       " 'Senior Data Scientist',\n",
       " 'SENIOR DATA SCIENTIST']"
      ]
     },
     "execution_count": 13,
     "metadata": {},
     "output_type": "execute_result"
    }
   ],
   "source": [
    "job_titles=[]\n",
    "for i in title_tags:\n",
    "    job_titles.append(i.text)\n",
    "job_titles[:10]"
   ]
  },
  {
   "cell_type": "code",
   "execution_count": 16,
   "metadata": {},
   "outputs": [],
   "source": [
    "import pandas as pd\n",
    "jobs=pd.DataFrame({})\n",
    "jobs['Jobs']=job_titles[:10]"
   ]
  },
  {
   "cell_type": "code",
   "execution_count": 17,
   "metadata": {},
   "outputs": [
    {
     "data": {
      "text/html": [
       "<div>\n",
       "<style scoped>\n",
       "    .dataframe tbody tr th:only-of-type {\n",
       "        vertical-align: middle;\n",
       "    }\n",
       "\n",
       "    .dataframe tbody tr th {\n",
       "        vertical-align: top;\n",
       "    }\n",
       "\n",
       "    .dataframe thead th {\n",
       "        text-align: right;\n",
       "    }\n",
       "</style>\n",
       "<table border=\"1\" class=\"dataframe\">\n",
       "  <thead>\n",
       "    <tr style=\"text-align: right;\">\n",
       "      <th></th>\n",
       "      <th>Jobs</th>\n",
       "    </tr>\n",
       "  </thead>\n",
       "  <tbody>\n",
       "    <tr>\n",
       "      <th>0</th>\n",
       "      <td>Data Scientist</td>\n",
       "    </tr>\n",
       "    <tr>\n",
       "      <th>1</th>\n",
       "      <td>Data Scientist</td>\n",
       "    </tr>\n",
       "    <tr>\n",
       "      <th>2</th>\n",
       "      <td>Senior Data Scientist I</td>\n",
       "    </tr>\n",
       "    <tr>\n",
       "      <th>3</th>\n",
       "      <td>IDM - Lead Data Scientist</td>\n",
       "    </tr>\n",
       "    <tr>\n",
       "      <th>4</th>\n",
       "      <td>Senior/Lead Data Scientist</td>\n",
       "    </tr>\n",
       "    <tr>\n",
       "      <th>5</th>\n",
       "      <td>Principal Data Scientist</td>\n",
       "    </tr>\n",
       "    <tr>\n",
       "      <th>6</th>\n",
       "      <td>Data Scientist - Business Analytics</td>\n",
       "    </tr>\n",
       "    <tr>\n",
       "      <th>7</th>\n",
       "      <td>Data Scientist</td>\n",
       "    </tr>\n",
       "    <tr>\n",
       "      <th>8</th>\n",
       "      <td>Senior Data Scientist</td>\n",
       "    </tr>\n",
       "    <tr>\n",
       "      <th>9</th>\n",
       "      <td>SENIOR DATA SCIENTIST</td>\n",
       "    </tr>\n",
       "  </tbody>\n",
       "</table>\n",
       "</div>"
      ],
      "text/plain": [
       "                                  Jobs\n",
       "0                       Data Scientist\n",
       "1                       Data Scientist\n",
       "2              Senior Data Scientist I\n",
       "3            IDM - Lead Data Scientist\n",
       "4           Senior/Lead Data Scientist\n",
       "5             Principal Data Scientist\n",
       "6  Data Scientist - Business Analytics\n",
       "7                       Data Scientist\n",
       "8                Senior Data Scientist\n",
       "9                SENIOR DATA SCIENTIST"
      ]
     },
     "execution_count": 17,
     "metadata": {},
     "output_type": "execute_result"
    }
   ],
   "source": [
    "jobs"
   ]
  },
  {
   "cell_type": "markdown",
   "metadata": {},
   "source": [
    "### Q2: Write a python program to scrape data for “Data Scientist” Job position in “Bangalore” location. You have to scrape the job-title, job-location, company_name, full job-description. You have to scrape first 10 jobs data."
   ]
  },
  {
   "cell_type": "code",
   "execution_count": 2,
   "metadata": {},
   "outputs": [],
   "source": [
    "driver=webdriver.Chrome(\"chromedriver.exe\")"
   ]
  },
  {
   "cell_type": "markdown",
   "metadata": {},
   "source": [
    "#### 1. first get the webpage https://www.naukri.com/"
   ]
  },
  {
   "cell_type": "code",
   "execution_count": 173,
   "metadata": {},
   "outputs": [],
   "source": [
    "url='https://www.naukri.com/'\n",
    "driver.get(url)"
   ]
  },
  {
   "cell_type": "markdown",
   "metadata": {},
   "source": [
    "#### 2. Enter “Data Scientist” in “Skill,Designations,Companies” field and enter “Bangalore” in “enter the location” field."
   ]
  },
  {
   "cell_type": "code",
   "execution_count": 174,
   "metadata": {},
   "outputs": [
    {
     "data": {
      "text/plain": [
       "<selenium.webdriver.remote.webelement.WebElement (session=\"4c1a8a85d65737fccd04538d8ac22c4b\", element=\"70df2d9e-a5b2-463b-9c56-a72452d019a3\")>"
      ]
     },
     "execution_count": 174,
     "metadata": {},
     "output_type": "execute_result"
    }
   ],
   "source": [
    "search_job=driver.find_element_by_id('qsb-keyword-sugg')\n",
    "search_job"
   ]
  },
  {
   "cell_type": "markdown",
   "metadata": {},
   "source": [
    "#### Enter “Data Scientist” in “Skill,Designations,Companies” field and enter “Bangalore” in “enter the location” field."
   ]
  },
  {
   "cell_type": "code",
   "execution_count": 175,
   "metadata": {},
   "outputs": [],
   "source": [
    "search_job.send_keys(\"Data Scientist\")"
   ]
  },
  {
   "cell_type": "code",
   "execution_count": 176,
   "metadata": {},
   "outputs": [],
   "source": [
    "search_job=driver.find_element_by_id('qsb-location-sugg')\n",
    "search_job.send_keys('Bangalore')"
   ]
  },
  {
   "cell_type": "markdown",
   "metadata": {},
   "source": [
    "#### Then click the search button."
   ]
  },
  {
   "cell_type": "code",
   "execution_count": 177,
   "metadata": {},
   "outputs": [],
   "source": [
    "search_btn=driver.find_element_by_xpath('//button[@class=\"btn\"]')\n",
    "search_btn.click()"
   ]
  },
  {
   "cell_type": "code",
   "execution_count": 178,
   "metadata": {},
   "outputs": [],
   "source": [
    "job_tags=driver.find_elements_by_xpath('//a[@class=\"subTitle ellipsis fleft\"]')\n"
   ]
  },
  {
   "cell_type": "code",
   "execution_count": 179,
   "metadata": {},
   "outputs": [
    {
     "data": {
      "text/plain": [
       "['Flipkart Internet Private Limited',\n",
       " 'bd',\n",
       " 'Inflexion Analytix Private Limited',\n",
       " 'Flipkart Internet Private Limited',\n",
       " 'Oracle India Pvt. Ltd.',\n",
       " 'IBM India Pvt. Limited',\n",
       " 'inVentiv International Pharma Services Pvt. Ltd.',\n",
       " 'Applied Materials',\n",
       " 'Gojek Tech',\n",
       " 'GO-JEK India']"
      ]
     },
     "execution_count": 179,
     "metadata": {},
     "output_type": "execute_result"
    }
   ],
   "source": [
    "company_names=[]\n",
    "\n",
    "for i in job_tags:\n",
    "    company_names.append(i.text)\n",
    "company_names[:10]"
   ]
  },
  {
   "cell_type": "code",
   "execution_count": 180,
   "metadata": {},
   "outputs": [],
   "source": [
    "location_tags=driver.find_elements_by_xpath('//li[@class=\"fleft grey-text br2 placeHolderLi location\"]//span')\n"
   ]
  },
  {
   "cell_type": "code",
   "execution_count": 181,
   "metadata": {},
   "outputs": [
    {
     "data": {
      "text/plain": [
       "['Bangalore/Bengaluru',\n",
       " 'Bangalore/Bengaluru',\n",
       " 'Hyderabad/Secunderabad, Chennai, Bangalore/Bengaluru',\n",
       " 'Bangalore/Bengaluru',\n",
       " 'Noida, Bangalore/Bengaluru',\n",
       " 'Bangalore/Bengaluru',\n",
       " 'Hyderabad/Secunderabad, Gurgaon/Gurugram, Bangalore/Bengaluru',\n",
       " 'Bangalore/Bengaluru',\n",
       " 'Bangalore/Bengaluru',\n",
       " 'Bangalore/Bengaluru']"
      ]
     },
     "execution_count": 181,
     "metadata": {},
     "output_type": "execute_result"
    }
   ],
   "source": [
    "location_lists=[]\n",
    "for i in location_tags:\n",
    "    location_lists.append(i.text)\n",
    "    \n",
    "location_lists[:10]"
   ]
  },
  {
   "cell_type": "code",
   "execution_count": 182,
   "metadata": {},
   "outputs": [],
   "source": [
    "urls=[]\n",
    "\n",
    "for i in driver.find_elements_by_xpath('//a[@class=\"title fw500 ellipsis\"]'):\n",
    "    urls.append(i.get_attribute('href'))\n",
    "\n"
   ]
  },
  {
   "cell_type": "code",
   "execution_count": 183,
   "metadata": {},
   "outputs": [
    {
     "data": {
      "text/plain": [
       "20"
      ]
     },
     "execution_count": 183,
     "metadata": {},
     "output_type": "execute_result"
    }
   ],
   "source": [
    "len(urls)"
   ]
  },
  {
   "cell_type": "code",
   "execution_count": 184,
   "metadata": {},
   "outputs": [],
   "source": [
    "job_title=[]\n",
    "job_description=[]"
   ]
  },
  {
   "cell_type": "code",
   "execution_count": 187,
   "metadata": {},
   "outputs": [],
   "source": [
    "\n",
    "for i in urls[:10]:\n",
    "    driver.get(i)\n",
    "    time.sleep(3)\n",
    "    try:\n",
    "        job=driver.find_element_by_xpath(\"//h1[@class='jd-header-title']\")\n",
    "        job_title.append(job.text)\n",
    "            \n",
    "        \n",
    "    except NoSuchElementException:\n",
    "        job_title.append('-')\n",
    "    \n",
    "    try:\n",
    "        job_desc=driver.find_element_by_xpath(\"//section[@class='job-desc']\")\n",
    "       \n",
    "        job_description.append(job_desc.text)\n",
    "                \n",
    "        \n",
    "    except NoSuchElementException:\n",
    "        job_description.append('-')\n",
    "   "
   ]
  },
  {
   "cell_type": "code",
   "execution_count": 188,
   "metadata": {},
   "outputs": [
    {
     "data": {
      "text/plain": [
       "10"
      ]
     },
     "execution_count": 188,
     "metadata": {},
     "output_type": "execute_result"
    }
   ],
   "source": [
    "len(job_description)"
   ]
  },
  {
   "cell_type": "code",
   "execution_count": 189,
   "metadata": {},
   "outputs": [
    {
     "data": {
      "text/plain": [
       "['Job description\\nAbout the role\\nA Senior Data Scientist in Flipkart is required to drive research and development of various Machine Learning and Statistical modules, keeping business goals and product planning at the front. The responsible person should be able to communicate and collaborate with multiple stakeholders representing various teams. The crux of the work is defined by developing innovative problem statements as well as end to end implementation of state of the art ML and statistical algorithms. The candidate is additionally expected to work proactively with a team of junior Data Scientists and guide them in various research projects with a view to publish their findings.\\nWhat you’ll do\\nUnderstand Business and product needs and use advanced modeling techniques to provide solutions to those in a time bound fashion.\\nDevelop research and hypothesis on problem statements around on-going work to provide additional value to the organisation.\\nKeep the team updated on current trends in the area of ML and Statistics, thereby ensuring that state of the art solutions are provided for the business problems.\\nRegular collaboration with various stakeholders from business or product to better understand the vision and gain insights which is to be leveraged for providing better solutions.\\n\\nWhat you’ll need:\\nB.Tech in CS or Statistics with demonstrable experience of over 8 years through publications/deployed solutions/projects.\\nM.Tech or PhD in CS or Statistics with demonstrable experience of over 5 years through publications/deployed solutions/projects.\\nA deep understanding of applied statistical analysis and predictive modeling is desired.\\nThe candidate must have a thorough grasp of the theory and application of broad ML algorithms namely, but not limited to regression, SVM, Tree, Random Forests, Boosting, Neural Network, clustering, forecasting, deep learning, text analysis etc. It is not expected that the candidate has actually worked on all these modules.\\nStrong proficiency in Python or R is necessary\\nRoleData Analyst\\nIndustry TypeInternet\\nFunctional AreaAnalytics & Business Intelligence\\nEmployment TypeFull Time, Permanent\\nRole CategoryAnalytics & BI\\nEducation\\nUG :B.A in Statistics, B.Sc in Statistics, B.Tech/B.E. in Computers\\nPG :MS/M.Sc(Science) in Statistics, M.Tech in Computers, M.A in Statistics\\nDoctorate :Ph.D/Doctorate in Statistics, Computers\\nKey Skills\\nData ScienceRSVMClusteringMachine LearningStatistical AnalysisStatisticsDeep LearningPython',\n",
       " 'Job description\\n\\nEvaluating business requirements and developing compelling user stories in collaboration with business stakeholders across various functions and regions\\nCollecting, interpreting, preparing and modelling data to provide actionable insights\\nPrototyping advanced data analytics solutions for presentation to business partners and stakeholders\\nApplying predictive analytics and machine learning methods and techniques appropriately to address business requirements\\nProvide expertise to guide business stakeholders in identifying opportunities for the use of BD s data assets for the purpose of advanced data analytics\\nWork closely with data engineering and DataOps peers to productionalize advanced data analytics use cases\\nQualifications\\nMaster s degree in STEM field or equivalent demonstrated work experience\\nExperience with Python, R, Hadoop, HIVE, SPARK, Jupyter and related advanced analytics / machine learning libraries (Scikitlearn, Tensorflow, Keras, )\\nMinimum 2 years of relevant work experience\\nAbility to translate complex solutions to a non-technical audience (storytelling visualization)\\nExpertise in machine learning, neural networks, clustering, classification, regression and other common advanced analytics methods and techniques\\nMature competency for critical thinking, problem solving, working with ambiguity, communications and collaboration\\nPreferred\\nExperience with technologies related to data preparation, processing optimization (e.g. Azure, HQL, SPARK SQL)\\nExperience with data visualization tools (Power BI)\\nFlexibility to accommodate meetings with international stakeholders in their respective time-zone\\nRoleAssociate/Senior Associate -(NonTechnical)\\nIndustry TypeMedical Services / Hospital\\nFunctional AreaITES, BPO, KPO, LPO, Customer Service, Operations\\nEmployment TypeFull Time, Permanent\\nRole CategoryVoice\\nEducation\\nUG :Any Graduate\\nPG :Post Graduation Not Required\\nKey Skills\\nadvanced analyticsNeural networksMachine learningHealthcareGeneticsData analyticsdata visualizationPredictive analyticsSQLBusiness operations',\n",
       " \"Job description\\nJob description\\n\\nJob Role: Data Scientist/Data Analyst /Business Analyst\\n\\nLocation: Chennai/Bangalore/Hyderabad\\n\\nGreetings from CAIA - Center for Artificial Intelligence & Advanced Analytics\\n43% of companies experienced a high deficit of skilled resources with Advanced Analytical skills and AI implementing capabilities in the year 2020. CAIA gives you a great opportunity to enter the world of future technologies and Innovations- Data Science, Analytics, AI, Data Visualization, and Cloud Computing.\\n\\nWhile 2020 was a year like no other, we are living in an interesting times where data is reshaping the world, and businesses are rapidly adopting technology to gain an edge over others. Hence, there's a substantial increase in demand for technology professionals who can implement systems in data science, machine learning, and AI in Tier 1 and Tier 2 organizations working closely with us.\\n\\nTo help you build a sustainable career we would like you to utilize data, software and Analytical approaches in Data Science and AI to upskill and get recruited into an organization appreciating your skilling journey.\\nApplications invited from all Freshers and experienced candidates (0-3 yrs) aspiring to make a career in Artificial Intelligence and Advanced Analytics and Data Science.\\nIf you wish to make a shift in your career or undergo a career transition, upskilling is essential since it allows you to learn more about the domain and acquire the required skills.\\n\\nCall to schedule interview Monday -Saturday from 10:00 am to 7 Pm\\n\\nKoodesh B- +91 73395 11107\\nManigandan B - +91 93444 57360\\n\\nEmail :\\n\\ncareerguidance.koodes@centerforaia.com\\nmanigandan@centerforaia.com\\n\\nWhat is needed from you?\\nFreshers who wish to start their career in Analytics and AI and professionals who wish to\\nupskill or change their domain to analytics and emerging technologies are free to apply.\\nEducational background in any one of the following- BE/B.Tech, ME/M Tech, MSc, BSc/MSc Math's and Statistics, B Com, BCA, BSc CS, BSC IT, MSC IT, MCA\\nSkills relating to Mathematics/Statistics.\\nNatural passion towards numbers, business, coding, Analytics, and Artificial Intelligence, Machine Learning, visualization\\nGood verbal and written communication skills\\nAbility to understand domains in businesses across various sectors\\n\\nSelection procedure includes\\nAptitude Test & Communication Exam - Online / Offline\\nSQL/Python test - Online / Offline\\nCandidates who clear the above will have one-one discussions with our Career Guidance Manager for further evaluation and processing of your Resume.\\n\\nAll the Shortlisted candidates will be eligible to continue the corporate training with CAIA\\nWhat you can expect from us?\\n\\nYou will get trained on the following modules for a period of 12-14 weeks:\\nSQL & PLSQL\\nData Wrangling using Python\\nData Visualization Using Power-BI\\nStatistics for Machine Learning\\nArtificial Intelligence, Data Interpretation\\nSupervised & Unsupervised Learning,\\nNLP & Deep Learning\\nCloud Data Lake\\nBusiness intelligence & Data Visualization\\nSimulation Projects\\nExpected Outcome?\\n\\nAt the end of the Training you are expected to be well versed with the following:\\nAnalysis of large and complex data sets from multiple sources\\nDevelopment and evaluation of data analytics models, algorithms, and solutions\\nUnderstanding/implementation of ML algorithms, performance tuning, and reporting\\nImplementation of algorithms to mine targeted data and the ability to convert data into a business story\\nTranslation of business requirements into technical requirements; Data extraction, preparation, and transformation\\nIdentification, development, and implementation of statistical techniques and algorithms that address business challenges and adds value to the organization\\nRequirement Analysis and communication of findings in the form of a meaningful story with the stakeholders\\nFinding analytical solutions to abstract business issues.\\nApply objective analysis of facts before coming to a conclusion\\n\\nRoleData Analyst\\nIndustry TypeIT Services & Consulting\\nFunctional AreaAnalytics & Business Intelligence\\nEmployment TypeFull Time, Permanent\\nRole CategoryAnalytics & BI\\nEducation\\nUG :BCA in Any Specialization, B.Sc in Any Specialization, B.Tech/B.E. in Any Specialization, B.Com in Any Specialization, Any Graduate, B.B.A/ B.M.S in Any Specialization\\nKey Skills\\nBusiness IntelligencePower BiData WranglingArtificial IntelligenceBig DataITMachine LearningStatisticsAnalyticsDeep LearningBusiness AnalysisSQLData ScienceNLPCloud ComputingData AnalysisData VisualizationData WarehousingData AnalyticsETLPython\",\n",
       " 'Job description\\nAbout the team\\nThe Data Sciences team at Flipkart is on a mission to build systemic intelligence across Flipkart products and the overarching ecosystem. Being India’s largest online marketplace and the most used e-commerce app in India, places Flipkart in a unique position and gives this team a distinctive opportunity — to decipher the richest possible data about Indian consumers. Add the dimension of a vast product selection and a proliferating seller base to that and what you get is a multitude of disruptive possibilities.\\nIn a nutshell, the terabytes of daily data compounded in Flipkart’s data centres offer a dynamic mix of numerical, structured, unstructured, image- and audio-based statistics, all set to define shopping in the future.\\nAt Flipkart, the work of a Data Scientist involves collaboration with the engineering and product teams to ensure a holistic outcome at the product delivery. The flat functional structure within Flipkart engineering enables data scientists to focus on excellence and create a deep sense of ownership at every stage of work.\\nIf you aspire to redefine ‘state-of-the-art’ and create an impact on India’s online shopping landscape, Flipkart’s Data Science team can offer you the right podium to solve challenging real-world problems and take a giant leap in your career as a Data Scientist.\\nAbout the role\\nA Data Scientist in Flipkart is required to develop and implement ML or statistical models for the various projects formulated from business and product views. The responsible person should be able to communicate and collaborate with multiple stakeholders representing various teams to better understand the problem at hand. At a fundamental level, the responsible person should be able to dive deep into a problem statement and extract interesting insights as well as solutions. In addition to being a quick learner, a DS is expected to get involved in active research projects with a view to publish them.\\nWhat you’ll do\\nUnderstand Business and product needs and use ML or statistical techniques to provide solutions to those in a time bound fashion.\\nCommunicate and collaborate with business and product teams to have a better understanding of the project so as to be able to drive it within the DS team.\\nGet involved in in-depth exploration of solutions using various methods and extract statistical insights from data as well as models, which are to be shared with business and product teams.\\nActive participation in working with new methods and learning new technologies, both in the area of data science and data engineering.\\nWhat you’ll need:\\nB.Tech or M.Tech in CS or Statistics with experience ranging from 0 to 5 years through publications/deployed solutions/projects.\\nDeep understanding of the algorithms (theory and application) that they have worked on.\\nGood grasp on the theory and practise of basic statistical models such as regression or clustering and general ML algorithms such as tree, Random Forests, SVM, Boosting, Neural Networks etc. It is not expected that the candidate has actually worked on all these modules.\\nStrong proficiency in Python or R is necessary.\\nSkills Required :\\nUnderstanding of text representation techniques\\nDesirable Skills :\\nFamiliarity with Big Data frameworks – Spark, Hadoop\\nRoleData Analyst\\nIndustry TypeInternet\\nFunctional AreaAnalytics & Business Intelligence\\nEmployment TypeFull Time, Permanent\\nRole CategoryAnalytics & BI\\nEducation\\nUG :B.Tech/B.E. in Computers\\nPG :M.Tech in Computers\\nKey Skills\\nPython SVMData ScientistRandom Forests Neural Networks Big Data frameworks Spark BoostingML algorithms Hadoop',\n",
       " '-',\n",
       " '-',\n",
       " '-',\n",
       " '-',\n",
       " 'Job description\\nAbout the Role\\n  They say no man is an island - a notion that holds particularly true for this role. As a Data Scientist, you ll be an instrumental cog in the Marketplace wheel of Gojek that directly impacts GoFoods revenue and user experience.\\n   Your main objective will be to utilize various quantitative techniques such as Machine Learning, Optimization, Simulation, and Bayesian Techniques to drive asymmetric values for our business at Gojek. The folks over at the Data Science Platform team will be your companions during this ride, as they help to bring your models to production. Best yet, you ll have the opportunity to flex and hone in on your skills in ideation, research, and building prototypes!\\n  What You Will Do\\nDesign and develop various machine learning solutions for improving search relevance\\nOwn the Data Science model end-to-end from data collection to model building to monitoring the model in production\\nAlong with Product Managers, own the business outcomes/metrics which the data science model/algorithm drives\\nIdentify ways to better leverage our content and improve its quality and attributes, to improve the overall search experience\\nWhat You Will Need\\nAt least 5 years of experience in building machine learning models for product applications\\nMust have the ability to understand business concerns and formulate them as technical problems that can be solved using data and math/stats/ML\\nFamiliarity with essential data science libraries, including Pandas, Numpy, Scipy, Scikit-Learn\\nExperience building scalable ML solutions to NLP problems\\nFamiliarity with ML infrastructure needs and best practices\\nExperience working with cross-functional teams including product, design, engineering, mobile to deliver product outcomes using data science\\n  RoleProduct Manager\\nIndustry TypeInternet\\nFunctional AreaIT Software - eCommerce, Internet Technologies\\nEmployment TypeFull Time, Permanent\\nRole CategoryProgramming & Design\\nEducation\\nUG :Any Graduate\\nPG :Post Graduation Not Required\\nKey Skills\\nDesign engineeringSimulationdata scienceMachine learningFlexData collectionProduct designQuantitative techniquesMonitoringAndroid',\n",
       " 'Job description\\n  About the Role\\n  They say no man is an island - a notion that holds particularly true for this role. As a Data Scientist, you ll be an instrumental cog in the Marketplace wheel of Gojek that directly impacts GoFoods revenue and user experience. Your main objective will be to utilize various quantitative techniques such as Machine Learning, Optimization, Simulation, and Bayesian Techniques to drive asymmetric values for our business at Gojek.\\n   The folks over at the Data Science Platform team will be your companions during this ride, as they help to bring your models to production. Best yet, you ll have the opportunity to flex and hone in on your skills in ideation, research, and building prototypes!\\n  What You Will Do\\nDesign and develop various machine learning solutions for improving search relevance\\nOwn the Data Science model end-to-end from data collection to model building to monitoring the model in production\\nAlong with Product Managers, own the business outcomes/metrics which the data science model/algorithm drives\\nIdentify ways to better leverage our content and improve its quality and attributes, to improve the overall search experience\\nWhat You Will Need\\nAt least 5 years of experience in building machine learning models for product applications\\nMust have the ability to understand business concerns and formulate them as technical problems that can be solved using data and math/stats/ML\\nFamiliarity with essential data science libraries, including Pandas, Numpy, Scipy, Scikit-Learn\\nExperience building scalable ML solutions to NLP problems\\nFamiliarity with ML infrastructure needs and best practices\\nExperience working with cross-functional teams including product, design, engineering, mobile to deliver product outcomes using data science\\nRoleProduct Manager\\nIndustry TypeIT Services & Consulting\\nFunctional AreaIT Software - eCommerce, Internet Technologies\\nEmployment TypeFull Time, Permanent\\nRole CategoryProgramming & Design\\nEducation\\nUG :Any Graduate\\nPG :Post Graduation Not Required\\nKey Skills\\nDesign engineeringSimulationdata scienceMachine learningFlexData collectionProduct designQuantitative techniquesMonitoringAndroid']"
      ]
     },
     "execution_count": 189,
     "metadata": {},
     "output_type": "execute_result"
    }
   ],
   "source": [
    "job_description"
   ]
  },
  {
   "cell_type": "code",
   "execution_count": 191,
   "metadata": {},
   "outputs": [],
   "source": [
    "import pandas as pd\n",
    "jobs=pd.DataFrame({})\n",
    "jobs['Jobs_title']=job_titles[:10]\n",
    "jobs['Company_Names']=company_names[:10]\n",
    "jobs['Locations']=location_lists[:10]\n",
    "jobs['Description']=job_description[:10]"
   ]
  },
  {
   "cell_type": "code",
   "execution_count": 193,
   "metadata": {},
   "outputs": [
    {
     "data": {
      "text/html": [
       "<div>\n",
       "<style scoped>\n",
       "    .dataframe tbody tr th:only-of-type {\n",
       "        vertical-align: middle;\n",
       "    }\n",
       "\n",
       "    .dataframe tbody tr th {\n",
       "        vertical-align: top;\n",
       "    }\n",
       "\n",
       "    .dataframe thead th {\n",
       "        text-align: right;\n",
       "    }\n",
       "</style>\n",
       "<table border=\"1\" class=\"dataframe\">\n",
       "  <thead>\n",
       "    <tr style=\"text-align: right;\">\n",
       "      <th></th>\n",
       "      <th>Jobs_title</th>\n",
       "      <th>Company_Names</th>\n",
       "      <th>Locations</th>\n",
       "      <th>Description</th>\n",
       "    </tr>\n",
       "  </thead>\n",
       "  <tbody>\n",
       "    <tr>\n",
       "      <th>0</th>\n",
       "      <td>Data Scientist/Data Analyst /Business Analyst</td>\n",
       "      <td>Flipkart Internet Private Limited</td>\n",
       "      <td>Bangalore/Bengaluru</td>\n",
       "      <td>Job description\\nAbout the role\\nA Senior Data...</td>\n",
       "    </tr>\n",
       "    <tr>\n",
       "      <th>1</th>\n",
       "      <td>Senior Data Scientist</td>\n",
       "      <td>bd</td>\n",
       "      <td>Bangalore/Bengaluru</td>\n",
       "      <td>Job description\\n\\nEvaluating business require...</td>\n",
       "    </tr>\n",
       "    <tr>\n",
       "      <th>2</th>\n",
       "      <td>Team Leader Operations/Data Scientist</td>\n",
       "      <td>Inflexion Analytix Private Limited</td>\n",
       "      <td>Hyderabad/Secunderabad, Chennai, Bangalore/Ben...</td>\n",
       "      <td>Job description\\nJob description\\n\\nJob Role: ...</td>\n",
       "    </tr>\n",
       "    <tr>\n",
       "      <th>3</th>\n",
       "      <td>Only Fresher / Data Scientist / Data Analyst /...</td>\n",
       "      <td>Flipkart Internet Private Limited</td>\n",
       "      <td>Bangalore/Bengaluru</td>\n",
       "      <td>Job description\\nAbout the team\\nThe Data Scie...</td>\n",
       "    </tr>\n",
       "    <tr>\n",
       "      <th>4</th>\n",
       "      <td>Data Scientist (Early Joiner)</td>\n",
       "      <td>Oracle India Pvt. Ltd.</td>\n",
       "      <td>Noida, Bangalore/Bengaluru</td>\n",
       "      <td>-</td>\n",
       "    </tr>\n",
       "    <tr>\n",
       "      <th>5</th>\n",
       "      <td>Data Scientist - Machine Learning/ NLP</td>\n",
       "      <td>IBM India Pvt. Limited</td>\n",
       "      <td>Bangalore/Bengaluru</td>\n",
       "      <td>-</td>\n",
       "    </tr>\n",
       "    <tr>\n",
       "      <th>6</th>\n",
       "      <td>Data Scientist</td>\n",
       "      <td>inVentiv International Pharma Services Pvt. Ltd.</td>\n",
       "      <td>Hyderabad/Secunderabad, Gurgaon/Gurugram, Bang...</td>\n",
       "      <td>-</td>\n",
       "    </tr>\n",
       "    <tr>\n",
       "      <th>7</th>\n",
       "      <td>Data Scientist || Python || C2H</td>\n",
       "      <td>Applied Materials</td>\n",
       "      <td>Bangalore/Bengaluru</td>\n",
       "      <td>-</td>\n",
       "    </tr>\n",
       "    <tr>\n",
       "      <th>8</th>\n",
       "      <td>Data Scientist || Python || C2H</td>\n",
       "      <td>Gojek Tech</td>\n",
       "      <td>Bangalore/Bengaluru</td>\n",
       "      <td>Job description\\nAbout the Role\\n  They say no...</td>\n",
       "    </tr>\n",
       "    <tr>\n",
       "      <th>9</th>\n",
       "      <td>Advanced Analytics -Data Scientist</td>\n",
       "      <td>GO-JEK India</td>\n",
       "      <td>Bangalore/Bengaluru</td>\n",
       "      <td>Job description\\n  About the Role\\n  They say ...</td>\n",
       "    </tr>\n",
       "  </tbody>\n",
       "</table>\n",
       "</div>"
      ],
      "text/plain": [
       "                                          Jobs_title  \\\n",
       "0      Data Scientist/Data Analyst /Business Analyst   \n",
       "1                              Senior Data Scientist   \n",
       "2              Team Leader Operations/Data Scientist   \n",
       "3  Only Fresher / Data Scientist / Data Analyst /...   \n",
       "4                      Data Scientist (Early Joiner)   \n",
       "5             Data Scientist - Machine Learning/ NLP   \n",
       "6                                     Data Scientist   \n",
       "7                    Data Scientist || Python || C2H   \n",
       "8                    Data Scientist || Python || C2H   \n",
       "9                 Advanced Analytics -Data Scientist   \n",
       "\n",
       "                                      Company_Names  \\\n",
       "0                 Flipkart Internet Private Limited   \n",
       "1                                                bd   \n",
       "2                Inflexion Analytix Private Limited   \n",
       "3                 Flipkart Internet Private Limited   \n",
       "4                            Oracle India Pvt. Ltd.   \n",
       "5                            IBM India Pvt. Limited   \n",
       "6  inVentiv International Pharma Services Pvt. Ltd.   \n",
       "7                                 Applied Materials   \n",
       "8                                        Gojek Tech   \n",
       "9                                      GO-JEK India   \n",
       "\n",
       "                                           Locations  \\\n",
       "0                                Bangalore/Bengaluru   \n",
       "1                                Bangalore/Bengaluru   \n",
       "2  Hyderabad/Secunderabad, Chennai, Bangalore/Ben...   \n",
       "3                                Bangalore/Bengaluru   \n",
       "4                         Noida, Bangalore/Bengaluru   \n",
       "5                                Bangalore/Bengaluru   \n",
       "6  Hyderabad/Secunderabad, Gurgaon/Gurugram, Bang...   \n",
       "7                                Bangalore/Bengaluru   \n",
       "8                                Bangalore/Bengaluru   \n",
       "9                                Bangalore/Bengaluru   \n",
       "\n",
       "                                         Description  \n",
       "0  Job description\\nAbout the role\\nA Senior Data...  \n",
       "1  Job description\\n\\nEvaluating business require...  \n",
       "2  Job description\\nJob description\\n\\nJob Role: ...  \n",
       "3  Job description\\nAbout the team\\nThe Data Scie...  \n",
       "4                                                  -  \n",
       "5                                                  -  \n",
       "6                                                  -  \n",
       "7                                                  -  \n",
       "8  Job description\\nAbout the Role\\n  They say no...  \n",
       "9  Job description\\n  About the Role\\n  They say ...  "
      ]
     },
     "execution_count": 193,
     "metadata": {},
     "output_type": "execute_result"
    }
   ],
   "source": [
    "jobs"
   ]
  },
  {
   "cell_type": "markdown",
   "metadata": {},
   "source": [
    "### Q.3"
   ]
  },
  {
   "cell_type": "code",
   "execution_count": 12,
   "metadata": {},
   "outputs": [],
   "source": [
    "driver=webdriver.Chrome(\"chromedriver.exe\")"
   ]
  },
  {
   "cell_type": "code",
   "execution_count": 140,
   "metadata": {},
   "outputs": [],
   "source": [
    "url='https://www.naukri.com/'\n",
    "driver.get(url)"
   ]
  },
  {
   "cell_type": "code",
   "execution_count": 141,
   "metadata": {},
   "outputs": [
    {
     "data": {
      "text/plain": [
       "<selenium.webdriver.remote.webelement.WebElement (session=\"4c1a8a85d65737fccd04538d8ac22c4b\", element=\"699c3f39-4d79-441a-87f7-1c3f6732349b\")>"
      ]
     },
     "execution_count": 141,
     "metadata": {},
     "output_type": "execute_result"
    }
   ],
   "source": [
    "search_job=driver.find_element_by_id('qsb-keyword-sugg')\n",
    "search_job"
   ]
  },
  {
   "cell_type": "code",
   "execution_count": 142,
   "metadata": {},
   "outputs": [],
   "source": [
    "search_job.send_keys(\"Data Scientist\")"
   ]
  },
  {
   "cell_type": "code",
   "execution_count": 143,
   "metadata": {},
   "outputs": [],
   "source": [
    "search_btn=driver.find_element_by_xpath(\"//button[@class='btn']\")\n",
    "search_btn.click()"
   ]
  },
  {
   "cell_type": "code",
   "execution_count": 144,
   "metadata": {},
   "outputs": [],
   "source": [
    "location_filter=driver.find_element_by_xpath('/html/body/div[1]/div[3]/div[2]/section[1]/div[2]/div[3]/div[2]/div[3]/label/i')\n",
    "location_filter.click()\n"
   ]
  },
  {
   "cell_type": "code",
   "execution_count": 145,
   "metadata": {},
   "outputs": [],
   "source": [
    "salary_filter=driver.find_element_by_xpath('/html/body/div[1]/div[3]/div[2]/section[1]/div[2]/div[4]/div[2]/div[2]/label/i')\n",
    "salary_filter.click()"
   ]
  },
  {
   "cell_type": "code",
   "execution_count": 146,
   "metadata": {},
   "outputs": [
    {
     "data": {
      "text/plain": [
       "[<selenium.webdriver.remote.webelement.WebElement (session=\"4c1a8a85d65737fccd04538d8ac22c4b\", element=\"552a8a6c-afef-426f-ba2b-833606a5e627\")>,\n",
       " <selenium.webdriver.remote.webelement.WebElement (session=\"4c1a8a85d65737fccd04538d8ac22c4b\", element=\"192c54e8-f90e-466e-9257-a11098d5156c\")>,\n",
       " <selenium.webdriver.remote.webelement.WebElement (session=\"4c1a8a85d65737fccd04538d8ac22c4b\", element=\"03baa44c-10e9-45e5-b6c7-bca53df0f39c\")>,\n",
       " <selenium.webdriver.remote.webelement.WebElement (session=\"4c1a8a85d65737fccd04538d8ac22c4b\", element=\"6c528fd5-11f6-4352-9e49-cfbfaa43e938\")>,\n",
       " <selenium.webdriver.remote.webelement.WebElement (session=\"4c1a8a85d65737fccd04538d8ac22c4b\", element=\"8f40360b-ac99-4329-a7e5-a1b65cfc5ba4\")>,\n",
       " <selenium.webdriver.remote.webelement.WebElement (session=\"4c1a8a85d65737fccd04538d8ac22c4b\", element=\"080b3d7c-b658-4c58-9822-2fb3deef69bb\")>,\n",
       " <selenium.webdriver.remote.webelement.WebElement (session=\"4c1a8a85d65737fccd04538d8ac22c4b\", element=\"4499c2a6-5ffc-4906-a50e-6c82b1c3435e\")>,\n",
       " <selenium.webdriver.remote.webelement.WebElement (session=\"4c1a8a85d65737fccd04538d8ac22c4b\", element=\"3ae3cc13-567b-4efa-aa38-d42583484cc6\")>,\n",
       " <selenium.webdriver.remote.webelement.WebElement (session=\"4c1a8a85d65737fccd04538d8ac22c4b\", element=\"86c71103-6128-499b-839c-51c00e5016e0\")>,\n",
       " <selenium.webdriver.remote.webelement.WebElement (session=\"4c1a8a85d65737fccd04538d8ac22c4b\", element=\"4761a10d-f5f4-4eb6-b0a4-50937db4a7ec\")>,\n",
       " <selenium.webdriver.remote.webelement.WebElement (session=\"4c1a8a85d65737fccd04538d8ac22c4b\", element=\"bb205de0-5982-422d-bdb4-e11dbebf6f31\")>,\n",
       " <selenium.webdriver.remote.webelement.WebElement (session=\"4c1a8a85d65737fccd04538d8ac22c4b\", element=\"0226a002-d146-4e2b-971f-428cf371e745\")>,\n",
       " <selenium.webdriver.remote.webelement.WebElement (session=\"4c1a8a85d65737fccd04538d8ac22c4b\", element=\"2f20d009-24a2-425f-a99a-6afeb6ec9b6c\")>,\n",
       " <selenium.webdriver.remote.webelement.WebElement (session=\"4c1a8a85d65737fccd04538d8ac22c4b\", element=\"8f93ad2a-c805-443e-b379-fbfed62d4a13\")>,\n",
       " <selenium.webdriver.remote.webelement.WebElement (session=\"4c1a8a85d65737fccd04538d8ac22c4b\", element=\"3b353c36-6864-4f41-8f7c-2861785faab3\")>,\n",
       " <selenium.webdriver.remote.webelement.WebElement (session=\"4c1a8a85d65737fccd04538d8ac22c4b\", element=\"5f5915ba-4e74-4ed0-9d0f-6384b95bf961\")>,\n",
       " <selenium.webdriver.remote.webelement.WebElement (session=\"4c1a8a85d65737fccd04538d8ac22c4b\", element=\"bbff8d5d-093e-40e0-9215-a7154ad0ac78\")>,\n",
       " <selenium.webdriver.remote.webelement.WebElement (session=\"4c1a8a85d65737fccd04538d8ac22c4b\", element=\"b493d030-48fa-4668-a43b-3bd5c5570056\")>,\n",
       " <selenium.webdriver.remote.webelement.WebElement (session=\"4c1a8a85d65737fccd04538d8ac22c4b\", element=\"5c093b7d-6692-4a8a-b4a1-b1a033e91ea2\")>,\n",
       " <selenium.webdriver.remote.webelement.WebElement (session=\"4c1a8a85d65737fccd04538d8ac22c4b\", element=\"7fb894b5-b4c6-46f5-944c-912cee692dac\")>]"
      ]
     },
     "execution_count": 146,
     "metadata": {},
     "output_type": "execute_result"
    }
   ],
   "source": [
    "title_tags=driver.find_elements_by_xpath(\"//a[@class='title fw500 ellipsis']\")\n",
    "title_tags"
   ]
  },
  {
   "cell_type": "code",
   "execution_count": 147,
   "metadata": {},
   "outputs": [
    {
     "data": {
      "text/plain": [
       "['Data Scientist/Data Analyst /Business Analyst',\n",
       " 'Senior Data Scientist',\n",
       " 'Team Leader Operations/Data Scientist',\n",
       " 'Only Fresher / Data Scientist / Data Analyst / Analytics - MNC Jobs',\n",
       " 'Data Scientist (Early Joiner)',\n",
       " 'Data Scientist - Machine Learning/ NLP',\n",
       " 'Data Scientist',\n",
       " 'Data Scientist || Python || C2H',\n",
       " 'Data Scientist || Python || C2H',\n",
       " 'Advanced Analytics -Data Scientist']"
      ]
     },
     "execution_count": 147,
     "metadata": {},
     "output_type": "execute_result"
    }
   ],
   "source": [
    "job_titles=[]\n",
    "for i in title_tags:\n",
    "    job_titles.append(i.text)\n",
    "job_titles[:10]"
   ]
  },
  {
   "cell_type": "code",
   "execution_count": 151,
   "metadata": {},
   "outputs": [],
   "source": [
    "c_names=driver.find_elements_by_xpath('//a[@class=\"subTitle ellipsis fleft\"]')"
   ]
  },
  {
   "cell_type": "code",
   "execution_count": 152,
   "metadata": {},
   "outputs": [
    {
     "data": {
      "text/plain": [
       "['Inflexion Analytix Private Limited',\n",
       " 'inVentiv International Pharma Services Pvt. Ltd.',\n",
       " 'Optimint Solutions Pvt. Ltd.',\n",
       " 'GABA Consultancy services',\n",
       " 'R Systems International Ltd.',\n",
       " 'TalPro',\n",
       " 'recruitment advisory line',\n",
       " 'Growel Softech Pvt. Ltd.',\n",
       " 'Growel Softech Pvt. Ltd.',\n",
       " 'ERM Placement Services (P) Ltd.',\n",
       " 'Fractal Analytics',\n",
       " 'CHANGE LEADERS CONSULTING',\n",
       " 'iNICU',\n",
       " 'BlackBuck',\n",
       " 'Country Veggie',\n",
       " 'Mahajan Imaging',\n",
       " 'Mahajan Imaging',\n",
       " 'Right Step Consulting',\n",
       " 'Blow Trumpet Solutions',\n",
       " 'Inference Labs']"
      ]
     },
     "execution_count": 152,
     "metadata": {},
     "output_type": "execute_result"
    }
   ],
   "source": [
    "Company_Names=[]\n",
    "for i in c_names:\n",
    "    Company_Names.append(i.text)\n",
    "Company_Names"
   ]
  },
  {
   "cell_type": "code",
   "execution_count": 164,
   "metadata": {},
   "outputs": [],
   "source": [
    "loc_tags=driver.find_elements_by_xpath('//li[@class=\"fleft grey-text br2 placeHolderLi location\"]/span')"
   ]
  },
  {
   "cell_type": "code",
   "execution_count": 165,
   "metadata": {},
   "outputs": [
    {
     "data": {
      "text/plain": [
       "['Pune, Delhi / NCR, Mumbai (All Areas)',\n",
       " 'Hyderabad/Secunderabad, Gurgaon/Gurugram, Bangalore/Bengaluru',\n",
       " 'Gurgaon/Gurugram, Delhi / NCR',\n",
       " 'Noida, Greater Noida, Delhi / NCR',\n",
       " 'Noida(Sector-59 Noida)',\n",
       " 'Gurgaon/Gurugram',\n",
       " 'Hyderabad/Secunderabad, Gurgaon/Gurugram, Bangalore/Bengaluru',\n",
       " 'Noida, Kolkata, Gurgaon/Gurugram, Bangalore/Bengaluru',\n",
       " 'Noida, Kolkata, Gurgaon/Gurugram, Bangalore/Bengaluru',\n",
       " 'New Delhi, Hyderabad/Secunderabad',\n",
       " 'Mumbai, Gurgaon/Gurugram, Bangalore/Bengaluru',\n",
       " 'New Delhi',\n",
       " 'Delhi',\n",
       " 'Gurgaon, Bengaluru',\n",
       " 'Bharuch, Jaipur, Bhopal, Mumbai, Jhansi, Nagpur, Ghaziabad, Jaunpur, Kanpur, New Delhi, Lucknow, Agra, Gurgaon/Gurugram, Rajkot, Bangalore/Bengaluru',\n",
       " 'Delhi',\n",
       " 'Delhi',\n",
       " 'Noida',\n",
       " 'New Delhi',\n",
       " 'Gurgaon']"
      ]
     },
     "execution_count": 165,
     "metadata": {},
     "output_type": "execute_result"
    }
   ],
   "source": [
    "Loc_Names=[]\n",
    "for i in loc_tags:\n",
    "    Loc_Names.append(i.text)\n",
    "Loc_Names"
   ]
  },
  {
   "cell_type": "code",
   "execution_count": 166,
   "metadata": {},
   "outputs": [
    {
     "data": {
      "text/plain": [
       "[<selenium.webdriver.remote.webelement.WebElement (session=\"4c1a8a85d65737fccd04538d8ac22c4b\", element=\"405bd3bc-f676-40ba-b08f-2e17fda96c3f\")>,\n",
       " <selenium.webdriver.remote.webelement.WebElement (session=\"4c1a8a85d65737fccd04538d8ac22c4b\", element=\"b8f119ab-e4fc-4e9e-b716-9a3a3a4777cc\")>,\n",
       " <selenium.webdriver.remote.webelement.WebElement (session=\"4c1a8a85d65737fccd04538d8ac22c4b\", element=\"0b87a4d2-ba92-4939-9a90-fd552aca4207\")>,\n",
       " <selenium.webdriver.remote.webelement.WebElement (session=\"4c1a8a85d65737fccd04538d8ac22c4b\", element=\"72ecf9fe-910a-4f80-bb42-2dafe7d4957a\")>,\n",
       " <selenium.webdriver.remote.webelement.WebElement (session=\"4c1a8a85d65737fccd04538d8ac22c4b\", element=\"7bc2b271-ada1-49bc-81c8-33064e4778a8\")>,\n",
       " <selenium.webdriver.remote.webelement.WebElement (session=\"4c1a8a85d65737fccd04538d8ac22c4b\", element=\"61161794-8a16-4c44-8d9f-ccf2a28ec2d8\")>,\n",
       " <selenium.webdriver.remote.webelement.WebElement (session=\"4c1a8a85d65737fccd04538d8ac22c4b\", element=\"c46a1431-b69e-4139-99f7-f83bf95059bd\")>,\n",
       " <selenium.webdriver.remote.webelement.WebElement (session=\"4c1a8a85d65737fccd04538d8ac22c4b\", element=\"dbe6a365-0448-4616-a035-00cf91a5f464\")>,\n",
       " <selenium.webdriver.remote.webelement.WebElement (session=\"4c1a8a85d65737fccd04538d8ac22c4b\", element=\"89348b9f-2732-4113-832d-88bfd4e7ea6c\")>,\n",
       " <selenium.webdriver.remote.webelement.WebElement (session=\"4c1a8a85d65737fccd04538d8ac22c4b\", element=\"e5de1207-5c96-4dcc-924c-f2227adfa3a3\")>,\n",
       " <selenium.webdriver.remote.webelement.WebElement (session=\"4c1a8a85d65737fccd04538d8ac22c4b\", element=\"e8e82730-5e8d-418f-84e5-cfa5ecbb6adf\")>,\n",
       " <selenium.webdriver.remote.webelement.WebElement (session=\"4c1a8a85d65737fccd04538d8ac22c4b\", element=\"c2163326-ce9e-487a-bf45-9fc9dbb13fec\")>,\n",
       " <selenium.webdriver.remote.webelement.WebElement (session=\"4c1a8a85d65737fccd04538d8ac22c4b\", element=\"a1b087f4-ec27-4f9f-9fb7-ae50bbe99743\")>,\n",
       " <selenium.webdriver.remote.webelement.WebElement (session=\"4c1a8a85d65737fccd04538d8ac22c4b\", element=\"76e7230f-a1db-463b-ba92-48ab305ad459\")>,\n",
       " <selenium.webdriver.remote.webelement.WebElement (session=\"4c1a8a85d65737fccd04538d8ac22c4b\", element=\"3484646c-3baf-4234-a26e-747d84ea49f6\")>,\n",
       " <selenium.webdriver.remote.webelement.WebElement (session=\"4c1a8a85d65737fccd04538d8ac22c4b\", element=\"440884c2-9a83-4452-8ccd-09f893c41b34\")>,\n",
       " <selenium.webdriver.remote.webelement.WebElement (session=\"4c1a8a85d65737fccd04538d8ac22c4b\", element=\"c53f1cd0-8e8b-4908-81d4-dd411b9c8706\")>,\n",
       " <selenium.webdriver.remote.webelement.WebElement (session=\"4c1a8a85d65737fccd04538d8ac22c4b\", element=\"0d3985ef-7c8c-43a8-a92a-9090d8b010d8\")>,\n",
       " <selenium.webdriver.remote.webelement.WebElement (session=\"4c1a8a85d65737fccd04538d8ac22c4b\", element=\"f6065831-c97a-42cd-9107-c27d6d0030dc\")>,\n",
       " <selenium.webdriver.remote.webelement.WebElement (session=\"4c1a8a85d65737fccd04538d8ac22c4b\", element=\"7e03ee14-9ce7-4e9d-a175-3a3019e683fd\")>]"
      ]
     },
     "execution_count": 166,
     "metadata": {},
     "output_type": "execute_result"
    }
   ],
   "source": [
    "exp_tags=driver.find_elements_by_xpath('//li[@class=\"fleft grey-text br2 placeHolderLi experience\"]')\n",
    "exp_tags"
   ]
  },
  {
   "cell_type": "code",
   "execution_count": 167,
   "metadata": {},
   "outputs": [
    {
     "data": {
      "text/plain": [
       "['0-3 Yrs',\n",
       " '3-6 Yrs',\n",
       " '2-5 Yrs',\n",
       " '0-0 Yrs',\n",
       " '4-8 Yrs',\n",
       " '2-6 Yrs',\n",
       " '3-6 Yrs',\n",
       " '4-6 Yrs',\n",
       " '4-6 Yrs',\n",
       " '3-7 Yrs']"
      ]
     },
     "execution_count": 167,
     "metadata": {},
     "output_type": "execute_result"
    }
   ],
   "source": [
    "experience=[]\n",
    "for i in exp_tags:\n",
    "    experience.append(i.text.strip())\n",
    "experience[:10]"
   ]
  },
  {
   "cell_type": "code",
   "execution_count": 170,
   "metadata": {},
   "outputs": [],
   "source": [
    "import pandas as pd\n",
    "jobs=pd.DataFrame({})\n",
    "jobs['Job_title']=job_titles[:10]\n",
    "jobs['Company_Names']=Company_Names[:10]\n",
    "jobs['Locations']=Loc_Names[:10]\n",
    "jobs['Experience']=experience[:10]"
   ]
  },
  {
   "cell_type": "code",
   "execution_count": 171,
   "metadata": {},
   "outputs": [
    {
     "data": {
      "text/html": [
       "<div>\n",
       "<style scoped>\n",
       "    .dataframe tbody tr th:only-of-type {\n",
       "        vertical-align: middle;\n",
       "    }\n",
       "\n",
       "    .dataframe tbody tr th {\n",
       "        vertical-align: top;\n",
       "    }\n",
       "\n",
       "    .dataframe thead th {\n",
       "        text-align: right;\n",
       "    }\n",
       "</style>\n",
       "<table border=\"1\" class=\"dataframe\">\n",
       "  <thead>\n",
       "    <tr style=\"text-align: right;\">\n",
       "      <th></th>\n",
       "      <th>Job_title</th>\n",
       "      <th>Company_Names</th>\n",
       "      <th>Locations</th>\n",
       "      <th>Experience</th>\n",
       "    </tr>\n",
       "  </thead>\n",
       "  <tbody>\n",
       "    <tr>\n",
       "      <th>0</th>\n",
       "      <td>Data Scientist/Data Analyst /Business Analyst</td>\n",
       "      <td>Inflexion Analytix Private Limited</td>\n",
       "      <td>Pune, Delhi / NCR, Mumbai (All Areas)</td>\n",
       "      <td>0-3 Yrs</td>\n",
       "    </tr>\n",
       "    <tr>\n",
       "      <th>1</th>\n",
       "      <td>Senior Data Scientist</td>\n",
       "      <td>inVentiv International Pharma Services Pvt. Ltd.</td>\n",
       "      <td>Hyderabad/Secunderabad, Gurgaon/Gurugram, Bang...</td>\n",
       "      <td>3-6 Yrs</td>\n",
       "    </tr>\n",
       "    <tr>\n",
       "      <th>2</th>\n",
       "      <td>Team Leader Operations/Data Scientist</td>\n",
       "      <td>Optimint Solutions Pvt. Ltd.</td>\n",
       "      <td>Gurgaon/Gurugram, Delhi / NCR</td>\n",
       "      <td>2-5 Yrs</td>\n",
       "    </tr>\n",
       "    <tr>\n",
       "      <th>3</th>\n",
       "      <td>Only Fresher / Data Scientist / Data Analyst /...</td>\n",
       "      <td>GABA Consultancy services</td>\n",
       "      <td>Noida, Greater Noida, Delhi / NCR</td>\n",
       "      <td>0-0 Yrs</td>\n",
       "    </tr>\n",
       "    <tr>\n",
       "      <th>4</th>\n",
       "      <td>Data Scientist (Early Joiner)</td>\n",
       "      <td>R Systems International Ltd.</td>\n",
       "      <td>Noida(Sector-59 Noida)</td>\n",
       "      <td>4-8 Yrs</td>\n",
       "    </tr>\n",
       "    <tr>\n",
       "      <th>5</th>\n",
       "      <td>Data Scientist - Machine Learning/ NLP</td>\n",
       "      <td>TalPro</td>\n",
       "      <td>Gurgaon/Gurugram</td>\n",
       "      <td>2-6 Yrs</td>\n",
       "    </tr>\n",
       "    <tr>\n",
       "      <th>6</th>\n",
       "      <td>Data Scientist</td>\n",
       "      <td>recruitment advisory line</td>\n",
       "      <td>Hyderabad/Secunderabad, Gurgaon/Gurugram, Bang...</td>\n",
       "      <td>3-6 Yrs</td>\n",
       "    </tr>\n",
       "    <tr>\n",
       "      <th>7</th>\n",
       "      <td>Data Scientist || Python || C2H</td>\n",
       "      <td>Growel Softech Pvt. Ltd.</td>\n",
       "      <td>Noida, Kolkata, Gurgaon/Gurugram, Bangalore/Be...</td>\n",
       "      <td>4-6 Yrs</td>\n",
       "    </tr>\n",
       "    <tr>\n",
       "      <th>8</th>\n",
       "      <td>Data Scientist || Python || C2H</td>\n",
       "      <td>Growel Softech Pvt. Ltd.</td>\n",
       "      <td>Noida, Kolkata, Gurgaon/Gurugram, Bangalore/Be...</td>\n",
       "      <td>4-6 Yrs</td>\n",
       "    </tr>\n",
       "    <tr>\n",
       "      <th>9</th>\n",
       "      <td>Advanced Analytics -Data Scientist</td>\n",
       "      <td>ERM Placement Services (P) Ltd.</td>\n",
       "      <td>New Delhi, Hyderabad/Secunderabad</td>\n",
       "      <td>3-7 Yrs</td>\n",
       "    </tr>\n",
       "  </tbody>\n",
       "</table>\n",
       "</div>"
      ],
      "text/plain": [
       "                                           Job_title  \\\n",
       "0      Data Scientist/Data Analyst /Business Analyst   \n",
       "1                              Senior Data Scientist   \n",
       "2              Team Leader Operations/Data Scientist   \n",
       "3  Only Fresher / Data Scientist / Data Analyst /...   \n",
       "4                      Data Scientist (Early Joiner)   \n",
       "5             Data Scientist - Machine Learning/ NLP   \n",
       "6                                     Data Scientist   \n",
       "7                    Data Scientist || Python || C2H   \n",
       "8                    Data Scientist || Python || C2H   \n",
       "9                 Advanced Analytics -Data Scientist   \n",
       "\n",
       "                                      Company_Names  \\\n",
       "0                Inflexion Analytix Private Limited   \n",
       "1  inVentiv International Pharma Services Pvt. Ltd.   \n",
       "2                      Optimint Solutions Pvt. Ltd.   \n",
       "3                         GABA Consultancy services   \n",
       "4                      R Systems International Ltd.   \n",
       "5                                            TalPro   \n",
       "6                         recruitment advisory line   \n",
       "7                          Growel Softech Pvt. Ltd.   \n",
       "8                          Growel Softech Pvt. Ltd.   \n",
       "9                   ERM Placement Services (P) Ltd.   \n",
       "\n",
       "                                           Locations Experience  \n",
       "0              Pune, Delhi / NCR, Mumbai (All Areas)    0-3 Yrs  \n",
       "1  Hyderabad/Secunderabad, Gurgaon/Gurugram, Bang...    3-6 Yrs  \n",
       "2                      Gurgaon/Gurugram, Delhi / NCR    2-5 Yrs  \n",
       "3                  Noida, Greater Noida, Delhi / NCR    0-0 Yrs  \n",
       "4                             Noida(Sector-59 Noida)    4-8 Yrs  \n",
       "5                                   Gurgaon/Gurugram    2-6 Yrs  \n",
       "6  Hyderabad/Secunderabad, Gurgaon/Gurugram, Bang...    3-6 Yrs  \n",
       "7  Noida, Kolkata, Gurgaon/Gurugram, Bangalore/Be...    4-6 Yrs  \n",
       "8  Noida, Kolkata, Gurgaon/Gurugram, Bangalore/Be...    4-6 Yrs  \n",
       "9                  New Delhi, Hyderabad/Secunderabad    3-7 Yrs  "
      ]
     },
     "execution_count": 171,
     "metadata": {},
     "output_type": "execute_result"
    }
   ],
   "source": [
    "jobs"
   ]
  },
  {
   "cell_type": "markdown",
   "metadata": {},
   "source": [
    "### Q4: Write a python program to scrape data for first 10 job results for Data scientist Designation in Noida location"
   ]
  },
  {
   "cell_type": "code",
   "execution_count": 2,
   "metadata": {},
   "outputs": [],
   "source": [
    "driver=webdriver.Chrome(\"chromedriver.exe\")"
   ]
  },
  {
   "cell_type": "code",
   "execution_count": 3,
   "metadata": {},
   "outputs": [],
   "source": [
    "url='https://www.glassdoor.co.in/index.htm'\n",
    "driver.get(url)"
   ]
  },
  {
   "cell_type": "code",
   "execution_count": 4,
   "metadata": {},
   "outputs": [
    {
     "data": {
      "text/plain": [
       "<selenium.webdriver.remote.webelement.WebElement (session=\"c86b499ae3c6cffb3e6322c36ba34f55\", element=\"66ebf091-f7f2-465d-9f5b-e2663d062197\")>"
      ]
     },
     "execution_count": 4,
     "metadata": {},
     "output_type": "execute_result"
    }
   ],
   "source": [
    "search_job=driver.find_element_by_id('sc.keyword')\n",
    "search_job"
   ]
  },
  {
   "cell_type": "code",
   "execution_count": 5,
   "metadata": {},
   "outputs": [],
   "source": [
    "search_job.send_keys(\"Data Scientist\")"
   ]
  },
  {
   "cell_type": "code",
   "execution_count": 6,
   "metadata": {},
   "outputs": [],
   "source": [
    "loc_job=driver.find_element_by_id('sc.location')\n",
    "loc_job.send_keys('Noida')"
   ]
  },
  {
   "cell_type": "code",
   "execution_count": 7,
   "metadata": {},
   "outputs": [],
   "source": [
    "search_btn=driver.find_element_by_xpath('//button[@class=\"gd-ui-button ml-std col-auto SearchStyles__newSearchButton css-iixdfr\"]')\n",
    "search_btn.click()"
   ]
  },
  {
   "cell_type": "code",
   "execution_count": 8,
   "metadata": {},
   "outputs": [],
   "source": [
    "company_tags=driver.find_elements_by_xpath('//a[@class=\" css-l2wjgv e1n63ojh0 jobLink\"]/span')"
   ]
  },
  {
   "cell_type": "code",
   "execution_count": 9,
   "metadata": {},
   "outputs": [
    {
     "data": {
      "text/plain": [
       "[<selenium.webdriver.remote.webelement.WebElement (session=\"ec86b052fcbac91c4faeb1276630cbd3\", element=\"d87a3a51-c715-4f80-a6ab-102fc86d4e93\")>,\n",
       " <selenium.webdriver.remote.webelement.WebElement (session=\"ec86b052fcbac91c4faeb1276630cbd3\", element=\"1e4dd7bd-b826-42e1-9ec6-65d1816723e1\")>,\n",
       " <selenium.webdriver.remote.webelement.WebElement (session=\"ec86b052fcbac91c4faeb1276630cbd3\", element=\"608b538a-e452-4344-8c76-66f60860ff36\")>,\n",
       " <selenium.webdriver.remote.webelement.WebElement (session=\"ec86b052fcbac91c4faeb1276630cbd3\", element=\"9494d81f-7909-4483-b295-beac61163bf7\")>,\n",
       " <selenium.webdriver.remote.webelement.WebElement (session=\"ec86b052fcbac91c4faeb1276630cbd3\", element=\"fc5407ad-83a1-4a87-8ac9-8881c931a14b\")>,\n",
       " <selenium.webdriver.remote.webelement.WebElement (session=\"ec86b052fcbac91c4faeb1276630cbd3\", element=\"f92a8cb2-c6f5-42ac-b154-07052ac94bb6\")>,\n",
       " <selenium.webdriver.remote.webelement.WebElement (session=\"ec86b052fcbac91c4faeb1276630cbd3\", element=\"a691b604-a440-492e-8ee2-770217f8ab76\")>,\n",
       " <selenium.webdriver.remote.webelement.WebElement (session=\"ec86b052fcbac91c4faeb1276630cbd3\", element=\"280f674a-8cb3-445f-9029-c2621a133128\")>,\n",
       " <selenium.webdriver.remote.webelement.WebElement (session=\"ec86b052fcbac91c4faeb1276630cbd3\", element=\"0dbd3992-56eb-4a9c-90d4-c685b21051e6\")>,\n",
       " <selenium.webdriver.remote.webelement.WebElement (session=\"ec86b052fcbac91c4faeb1276630cbd3\", element=\"37918c77-4d0f-4a38-8bde-aa9f9c18a98e\")>,\n",
       " <selenium.webdriver.remote.webelement.WebElement (session=\"ec86b052fcbac91c4faeb1276630cbd3\", element=\"3494681e-8310-479a-b375-d75e5b919c70\")>,\n",
       " <selenium.webdriver.remote.webelement.WebElement (session=\"ec86b052fcbac91c4faeb1276630cbd3\", element=\"18674e9f-0c40-4e06-ac6e-83f846c5fc45\")>,\n",
       " <selenium.webdriver.remote.webelement.WebElement (session=\"ec86b052fcbac91c4faeb1276630cbd3\", element=\"fd221b5f-55db-4e1f-9037-2d7f9f3d4be9\")>,\n",
       " <selenium.webdriver.remote.webelement.WebElement (session=\"ec86b052fcbac91c4faeb1276630cbd3\", element=\"bd786ffe-c7ad-4af2-9de2-72c154ef6b8a\")>,\n",
       " <selenium.webdriver.remote.webelement.WebElement (session=\"ec86b052fcbac91c4faeb1276630cbd3\", element=\"738e7a95-a968-4609-a6ad-4e698b795ab8\")>,\n",
       " <selenium.webdriver.remote.webelement.WebElement (session=\"ec86b052fcbac91c4faeb1276630cbd3\", element=\"091946d7-04af-43c0-ab51-0cee6aa9ea25\")>,\n",
       " <selenium.webdriver.remote.webelement.WebElement (session=\"ec86b052fcbac91c4faeb1276630cbd3\", element=\"1f056fde-f0ee-45df-8c39-d7dbf559574e\")>,\n",
       " <selenium.webdriver.remote.webelement.WebElement (session=\"ec86b052fcbac91c4faeb1276630cbd3\", element=\"9f8584d4-1cd7-4f54-86da-f91b7a64c260\")>,\n",
       " <selenium.webdriver.remote.webelement.WebElement (session=\"ec86b052fcbac91c4faeb1276630cbd3\", element=\"f0371635-4eca-4e07-b1a0-0f63a5a5ff41\")>,\n",
       " <selenium.webdriver.remote.webelement.WebElement (session=\"ec86b052fcbac91c4faeb1276630cbd3\", element=\"e2567c82-8623-4c04-9fac-1f8f9617ef6a\")>,\n",
       " <selenium.webdriver.remote.webelement.WebElement (session=\"ec86b052fcbac91c4faeb1276630cbd3\", element=\"6452d44f-e42a-43e4-a8be-bd7b37008f9a\")>,\n",
       " <selenium.webdriver.remote.webelement.WebElement (session=\"ec86b052fcbac91c4faeb1276630cbd3\", element=\"e9fdf925-f940-44f2-8bb4-4f8577d57d42\")>,\n",
       " <selenium.webdriver.remote.webelement.WebElement (session=\"ec86b052fcbac91c4faeb1276630cbd3\", element=\"36263bd2-88bc-4c15-8de7-3f6b421c0084\")>,\n",
       " <selenium.webdriver.remote.webelement.WebElement (session=\"ec86b052fcbac91c4faeb1276630cbd3\", element=\"33785652-896c-4f85-87b2-41dbb6971bdf\")>,\n",
       " <selenium.webdriver.remote.webelement.WebElement (session=\"ec86b052fcbac91c4faeb1276630cbd3\", element=\"4816eab8-3e6a-483d-89f5-0881794296c2\")>,\n",
       " <selenium.webdriver.remote.webelement.WebElement (session=\"ec86b052fcbac91c4faeb1276630cbd3\", element=\"4507222c-3235-45a5-b03f-1760655f0f70\")>,\n",
       " <selenium.webdriver.remote.webelement.WebElement (session=\"ec86b052fcbac91c4faeb1276630cbd3\", element=\"abed3137-6f0e-4c5e-aaf2-a1f282ba7027\")>,\n",
       " <selenium.webdriver.remote.webelement.WebElement (session=\"ec86b052fcbac91c4faeb1276630cbd3\", element=\"3b4b4eb7-aff3-430a-a056-cac6cd99ffaf\")>,\n",
       " <selenium.webdriver.remote.webelement.WebElement (session=\"ec86b052fcbac91c4faeb1276630cbd3\", element=\"f709c797-8fe7-4616-8e5e-2f884446427c\")>,\n",
       " <selenium.webdriver.remote.webelement.WebElement (session=\"ec86b052fcbac91c4faeb1276630cbd3\", element=\"582ccf86-32a6-41c6-8063-648efae04039\")>,\n",
       " <selenium.webdriver.remote.webelement.WebElement (session=\"ec86b052fcbac91c4faeb1276630cbd3\", element=\"8692986f-b00a-43e8-b60d-beb0ff67a65d\")>,\n",
       " <selenium.webdriver.remote.webelement.WebElement (session=\"ec86b052fcbac91c4faeb1276630cbd3\", element=\"ed8d949a-f8d8-4d63-9fe7-d13e083069d8\")>]"
      ]
     },
     "execution_count": 9,
     "metadata": {},
     "output_type": "execute_result"
    }
   ],
   "source": [
    "company_tags"
   ]
  },
  {
   "cell_type": "code",
   "execution_count": 10,
   "metadata": {},
   "outputs": [
    {
     "data": {
      "text/plain": [
       "['BlackRock',\n",
       " 'BlackRock',\n",
       " 'Ericsson',\n",
       " 'MobiKwik',\n",
       " 'Crowe',\n",
       " 'Ally wiredsoft solutions (P) ltd',\n",
       " 'Novo',\n",
       " 'Genpact',\n",
       " 'Siemens Technology and Services Private Limited',\n",
       " 'Lantern Digital Services']"
      ]
     },
     "execution_count": 10,
     "metadata": {},
     "output_type": "execute_result"
    }
   ],
   "source": [
    "com_names=[]\n",
    "for i in company_tags:\n",
    "    com_names.append(i.text)\n",
    "com_names[:10]"
   ]
  },
  {
   "cell_type": "code",
   "execution_count": 11,
   "metadata": {},
   "outputs": [],
   "source": [
    "job_post=driver.find_elements_by_xpath('//div[@class=\"d-flex align-items-end pl-std css-mi55ob\"]')"
   ]
  },
  {
   "cell_type": "code",
   "execution_count": 12,
   "metadata": {},
   "outputs": [
    {
     "data": {
      "text/plain": [
       "['7d', '16d', '14d', '23d', '7d', '24h', '5d', '24h', '20d', '1d']"
      ]
     },
     "execution_count": 12,
     "metadata": {},
     "output_type": "execute_result"
    }
   ],
   "source": [
    "Job_posted=[]\n",
    "for i in job_post:\n",
    "    Job_posted.append(i.text)\n",
    "Job_posted[:10]"
   ]
  },
  {
   "cell_type": "code",
   "execution_count": 21,
   "metadata": {},
   "outputs": [],
   "source": [
    "rating_tags=driver.find_elements_by_xpath('//span[@class=\"css-19pjha7 e1cjmv6j1\"]')"
   ]
  },
  {
   "cell_type": "code",
   "execution_count": 13,
   "metadata": {},
   "outputs": [],
   "source": [
    "\n",
    "page_urls = []\n",
    "# scrape next pages urls\n",
    "nxt_page = driver.find_elements_by_xpath(\"//a[@class='jobLink']\")\n",
    "for i in nxt_page:\n",
    "    page_urls.append(i.get_attribute('href'))\n",
    "    "
   ]
  },
  {
   "cell_type": "code",
   "execution_count": 14,
   "metadata": {},
   "outputs": [
    {
     "data": {
      "text/plain": [
       "['https://www.glassdoor.co.in/partner/jobListing.htm?pos=101&ao=1044074&s=149&guid=0000017a8b52a3bc88c05db142bd6b26&src=GD_JOB_AD&t=SRFJ&vt=w&uido=5556C77A6FC13C78C6E515ECB009D8ED&cs=1_07c1890c&cb=1625835086972&jobListingId=4128613675',\n",
       " 'https://www.glassdoor.co.in/partner/jobListing.htm?pos=102&ao=1044074&s=149&guid=0000017a8b52a3bc88c05db142bd6b26&src=GD_JOB_AD&t=SRFJ&vt=w&uido=5556C77A6FC13C78C6E515ECB009D8ED&cs=1_dc30a7f0&cb=1625835086973&jobListingId=4131692673',\n",
       " 'https://www.glassdoor.co.in/partner/jobListing.htm?pos=101&ao=1136006&s=58&guid=0000017a8b52a3bc87ac324097c4e7e4&src=GD_JOB_AD&t=SR&vt=w&uido=5556C77A6FC13C78C6E515ECB009D8ED&cs=1_1cadeb8d&cb=1625835086974&jobListingId=4128684844',\n",
       " 'https://www.glassdoor.co.in/partner/jobListing.htm?pos=102&ao=1136006&s=58&guid=0000017a8b52a3bc87ac324097c4e7e4&src=GD_JOB_AD&t=SR&vt=w&uido=5556C77A6FC13C78C6E515ECB009D8ED&cs=1_4ed88a7e&cb=1625835086976&jobListingId=4103595088',\n",
       " 'https://www.glassdoor.co.in/partner/jobListing.htm?pos=103&ao=1136006&s=58&guid=0000017a8b52a3bc87ac324097c4e7e4&src=GD_JOB_AD&t=SR&vt=w&uido=5556C77A6FC13C78C6E515ECB009D8ED&cs=1_ff91e3f2&cb=1625835086977&jobListingId=4112851138',\n",
       " 'https://www.glassdoor.co.in/partner/jobListing.htm?pos=104&ao=1136006&s=58&guid=0000017a8b52a3bc87ac324097c4e7e4&src=GD_JOB_AD&t=SR&vt=w&uido=5556C77A6FC13C78C6E515ECB009D8ED&cs=1_7212cc65&cb=1625835086980&jobListingId=4060803747',\n",
       " 'https://www.glassdoor.co.in/partner/jobListing.htm?pos=105&ao=1136006&s=58&guid=0000017a8b52a3bc87ac324097c4e7e4&src=GD_JOB_AD&t=SR&vt=w&uido=5556C77A6FC13C78C6E515ECB009D8ED&cs=1_eeb2b339&cb=1625835086981&jobListingId=3658580695',\n",
       " 'https://www.glassdoor.co.in/partner/jobListing.htm?pos=106&ao=1136006&s=58&guid=0000017a8b52a3bc87ac324097c4e7e4&src=GD_JOB_AD&t=SR&vt=w&uido=5556C77A6FC13C78C6E515ECB009D8ED&cs=1_8a17b432&cb=1625835086982&jobListingId=4115919312',\n",
       " 'https://www.glassdoor.co.in/partner/jobListing.htm?pos=107&ao=1136006&s=58&guid=0000017a8b52a3bc87ac324097c4e7e4&src=GD_JOB_AD&t=SR&vt=w&uido=5556C77A6FC13C78C6E515ECB009D8ED&ea=1&cs=1_43639175&cb=1625835086984&jobListingId=4130416723',\n",
       " 'https://www.glassdoor.co.in/partner/jobListing.htm?pos=108&ao=1136006&s=58&guid=0000017a8b52a3bc87ac324097c4e7e4&src=GD_JOB_AD&t=SR&vt=w&uido=5556C77A6FC13C78C6E515ECB009D8ED&ea=1&cs=1_80bea5bf&cb=1625835086986&jobListingId=3708259500',\n",
       " 'https://www.glassdoor.co.in/partner/jobListing.htm?pos=109&ao=1136006&s=58&guid=0000017a8b52a3bc87ac324097c4e7e4&src=GD_JOB_AD&t=SR&vt=w&uido=5556C77A6FC13C78C6E515ECB009D8ED&ea=1&cs=1_442e15e9&cb=1625835086986&jobListingId=4112227124',\n",
       " 'https://www.glassdoor.co.in/partner/jobListing.htm?pos=110&ao=1136006&s=58&guid=0000017a8b52a3bc87ac324097c4e7e4&src=GD_JOB_AD&t=SR&vt=w&uido=5556C77A6FC13C78C6E515ECB009D8ED&cs=1_bb8ccb17&cb=1625835086986&jobListingId=3658577512',\n",
       " 'https://www.glassdoor.co.in/partner/jobListing.htm?pos=111&ao=1136006&s=58&guid=0000017a8b52a3bc87ac324097c4e7e4&src=GD_JOB_AD&t=SR&vt=w&uido=5556C77A6FC13C78C6E515ECB009D8ED&cs=1_314417e1&cb=1625835086986&jobListingId=3684408484',\n",
       " 'https://www.glassdoor.co.in/partner/jobListing.htm?pos=112&ao=1136006&s=58&guid=0000017a8b52a3bc87ac324097c4e7e4&src=GD_JOB_AD&t=SR&vt=w&uido=5556C77A6FC13C78C6E515ECB009D8ED&ea=1&cs=1_ce14f9b0&cb=1625835086986&jobListingId=4127697886',\n",
       " 'https://www.glassdoor.co.in/partner/jobListing.htm?pos=113&ao=1136006&s=58&guid=0000017a8b52a3bc87ac324097c4e7e4&src=GD_JOB_AD&t=SR&vt=w&uido=5556C77A6FC13C78C6E515ECB009D8ED&cs=1_7c32e424&cb=1625835086987&jobListingId=4131411802',\n",
       " 'https://www.glassdoor.co.in/partner/jobListing.htm?pos=114&ao=1136006&s=58&guid=0000017a8b52a3bc87ac324097c4e7e4&src=GD_JOB_AD&t=SR&vt=w&uido=5556C77A6FC13C78C6E515ECB009D8ED&cs=1_ce06bf95&cb=1625835086987&jobListingId=4121649200',\n",
       " 'https://www.glassdoor.co.in/partner/jobListing.htm?pos=115&ao=1136006&s=58&guid=0000017a8b52a3bc87ac324097c4e7e4&src=GD_JOB_AD&t=SR&vt=w&uido=5556C77A6FC13C78C6E515ECB009D8ED&cs=1_2c6f7373&cb=1625835086987&jobListingId=3732980740',\n",
       " 'https://www.glassdoor.co.in/partner/jobListing.htm?pos=116&ao=1136006&s=58&guid=0000017a8b52a3bc87ac324097c4e7e4&src=GD_JOB_AD&t=SR&vt=w&uido=5556C77A6FC13C78C6E515ECB009D8ED&cs=1_fcd57ee2&cb=1625835086988&jobListingId=4125535199',\n",
       " 'https://www.glassdoor.co.in/partner/jobListing.htm?pos=117&ao=1136006&s=58&guid=0000017a8b52a3bc87ac324097c4e7e4&src=GD_JOB_AD&t=SR&vt=w&uido=5556C77A6FC13C78C6E515ECB009D8ED&cs=1_7b297be9&cb=1625835086988&jobListingId=4114963394',\n",
       " 'https://www.glassdoor.co.in/partner/jobListing.htm?pos=118&ao=1136006&s=58&guid=0000017a8b52a3bc87ac324097c4e7e4&src=GD_JOB_AD&t=SR&vt=w&uido=5556C77A6FC13C78C6E515ECB009D8ED&cs=1_2f1d4898&cb=1625835086988&jobListingId=3658587220',\n",
       " 'https://www.glassdoor.co.in/partner/jobListing.htm?pos=119&ao=1136006&s=58&guid=0000017a8b52a3bc87ac324097c4e7e4&src=GD_JOB_AD&t=SR&vt=w&uido=5556C77A6FC13C78C6E515ECB009D8ED&cs=1_41928139&cb=1625835086988&jobListingId=4099354086',\n",
       " 'https://www.glassdoor.co.in/partner/jobListing.htm?pos=120&ao=1136006&s=58&guid=0000017a8b52a3bc87ac324097c4e7e4&src=GD_JOB_AD&t=SR&vt=w&uido=5556C77A6FC13C78C6E515ECB009D8ED&cs=1_4c3d170d&cb=1625835086989&jobListingId=4130340738',\n",
       " 'https://www.glassdoor.co.in/partner/jobListing.htm?pos=121&ao=1136006&s=58&guid=0000017a8b52a3bc87ac324097c4e7e4&src=GD_JOB_AD&t=SR&vt=w&uido=5556C77A6FC13C78C6E515ECB009D8ED&cs=1_293e8709&cb=1625835086989&jobListingId=4114354280',\n",
       " 'https://www.glassdoor.co.in/partner/jobListing.htm?pos=122&ao=1136006&s=58&guid=0000017a8b52a3bc87ac324097c4e7e4&src=GD_JOB_AD&t=SR&vt=w&uido=5556C77A6FC13C78C6E515ECB009D8ED&cs=1_3f88a659&cb=1625835086989&jobListingId=3781816729',\n",
       " 'https://www.glassdoor.co.in/partner/jobListing.htm?pos=123&ao=1136006&s=58&guid=0000017a8b52a3bc87ac324097c4e7e4&src=GD_JOB_AD&t=SR&vt=w&uido=5556C77A6FC13C78C6E515ECB009D8ED&cs=1_26be9613&cb=1625835086990&jobListingId=3658291620',\n",
       " 'https://www.glassdoor.co.in/partner/jobListing.htm?pos=124&ao=1136006&s=58&guid=0000017a8b52a3bc87ac324097c4e7e4&src=GD_JOB_AD&t=SR&vt=w&uido=5556C77A6FC13C78C6E515ECB009D8ED&cs=1_8c041bad&cb=1625835086990&jobListingId=3658326011',\n",
       " 'https://www.glassdoor.co.in/partner/jobListing.htm?pos=125&ao=1136006&s=58&guid=0000017a8b52a3bc87ac324097c4e7e4&src=GD_JOB_AD&t=SR&vt=w&uido=5556C77A6FC13C78C6E515ECB009D8ED&cs=1_8de3463e&cb=1625835086992&jobListingId=3658326330',\n",
       " 'https://www.glassdoor.co.in/partner/jobListing.htm?pos=126&ao=1136006&s=58&guid=0000017a8b52a3bc87ac324097c4e7e4&src=GD_JOB_AD&t=SR&vt=w&uido=5556C77A6FC13C78C6E515ECB009D8ED&cs=1_c93530fa&cb=1625835086992&jobListingId=3754974555',\n",
       " 'https://www.glassdoor.co.in/partner/jobListing.htm?pos=127&ao=1136006&s=58&guid=0000017a8b52a3bc87ac324097c4e7e4&src=GD_JOB_AD&t=SR&vt=w&uido=5556C77A6FC13C78C6E515ECB009D8ED&cs=1_c9f083a7&cb=1625835086992&jobListingId=4072040347',\n",
       " 'https://www.glassdoor.co.in/partner/jobListing.htm?pos=128&ao=1136006&s=58&guid=0000017a8b52a3bc87ac324097c4e7e4&src=GD_JOB_AD&t=SR&vt=w&uido=5556C77A6FC13C78C6E515ECB009D8ED&ea=1&cs=1_260471bb&cb=1625835086993&jobListingId=4129459137',\n",
       " 'https://www.glassdoor.co.in/partner/jobListing.htm?pos=129&ao=1136006&s=58&guid=0000017a8b52a3bc87ac324097c4e7e4&src=GD_JOB_AD&t=SR&vt=w&uido=5556C77A6FC13C78C6E515ECB009D8ED&cs=1_ecadc6de&cb=1625835086993&jobListingId=3658290412',\n",
       " 'https://www.glassdoor.co.in/partner/jobListing.htm?pos=130&ao=1136006&s=58&guid=0000017a8b52a3bc87ac324097c4e7e4&src=GD_JOB_AD&t=SR&vt=w&uido=5556C77A6FC13C78C6E515ECB009D8ED&cs=1_2df8b640&cb=1625835086993&jobListingId=4126649373',\n",
       " 'https://www.glassdoor.co.in/partner/jobListing.htm?pos=101&ao=1044074&s=149&guid=0000017a8b52a3bc88c05db142bd6b26&src=GD_JOB_AD&t=SRFJ&vt=w&uido=5556C77A6FC13C78C6E515ECB009D8ED&cs=1_07c1890c&cb=1625835086972&jobListingId=4128613675',\n",
       " 'https://www.glassdoor.co.in/partner/jobListing.htm?pos=102&ao=1044074&s=149&guid=0000017a8b52a3bc88c05db142bd6b26&src=GD_JOB_AD&t=SRFJ&vt=w&uido=5556C77A6FC13C78C6E515ECB009D8ED&cs=1_dc30a7f0&cb=1625835086973&jobListingId=4131692673',\n",
       " 'https://www.glassdoor.co.in/partner/jobListing.htm?pos=101&ao=1136006&s=58&guid=0000017a8b52a3bc87ac324097c4e7e4&src=GD_JOB_AD&t=SR&vt=w&uido=5556C77A6FC13C78C6E515ECB009D8ED&cs=1_1cadeb8d&cb=1625835086974&jobListingId=4128684844',\n",
       " 'https://www.glassdoor.co.in/partner/jobListing.htm?pos=102&ao=1136006&s=58&guid=0000017a8b52a3bc87ac324097c4e7e4&src=GD_JOB_AD&t=SR&vt=w&uido=5556C77A6FC13C78C6E515ECB009D8ED&cs=1_4ed88a7e&cb=1625835086976&jobListingId=4103595088',\n",
       " 'https://www.glassdoor.co.in/partner/jobListing.htm?pos=103&ao=1136006&s=58&guid=0000017a8b52a3bc87ac324097c4e7e4&src=GD_JOB_AD&t=SR&vt=w&uido=5556C77A6FC13C78C6E515ECB009D8ED&cs=1_ff91e3f2&cb=1625835086977&jobListingId=4112851138',\n",
       " 'https://www.glassdoor.co.in/partner/jobListing.htm?pos=104&ao=1136006&s=58&guid=0000017a8b52a3bc87ac324097c4e7e4&src=GD_JOB_AD&t=SR&vt=w&uido=5556C77A6FC13C78C6E515ECB009D8ED&cs=1_7212cc65&cb=1625835086980&jobListingId=4060803747',\n",
       " 'https://www.glassdoor.co.in/partner/jobListing.htm?pos=105&ao=1136006&s=58&guid=0000017a8b52a3bc87ac324097c4e7e4&src=GD_JOB_AD&t=SR&vt=w&uido=5556C77A6FC13C78C6E515ECB009D8ED&cs=1_eeb2b339&cb=1625835086981&jobListingId=3658580695',\n",
       " 'https://www.glassdoor.co.in/partner/jobListing.htm?pos=106&ao=1136006&s=58&guid=0000017a8b52a3bc87ac324097c4e7e4&src=GD_JOB_AD&t=SR&vt=w&uido=5556C77A6FC13C78C6E515ECB009D8ED&cs=1_8a17b432&cb=1625835086982&jobListingId=4115919312',\n",
       " 'https://www.glassdoor.co.in/partner/jobListing.htm?pos=107&ao=1136006&s=58&guid=0000017a8b52a3bc87ac324097c4e7e4&src=GD_JOB_AD&t=SR&vt=w&uido=5556C77A6FC13C78C6E515ECB009D8ED&ea=1&cs=1_43639175&cb=1625835086984&jobListingId=4130416723',\n",
       " 'https://www.glassdoor.co.in/partner/jobListing.htm?pos=108&ao=1136006&s=58&guid=0000017a8b52a3bc87ac324097c4e7e4&src=GD_JOB_AD&t=SR&vt=w&uido=5556C77A6FC13C78C6E515ECB009D8ED&ea=1&cs=1_80bea5bf&cb=1625835086986&jobListingId=3708259500',\n",
       " 'https://www.glassdoor.co.in/partner/jobListing.htm?pos=109&ao=1136006&s=58&guid=0000017a8b52a3bc87ac324097c4e7e4&src=GD_JOB_AD&t=SR&vt=w&uido=5556C77A6FC13C78C6E515ECB009D8ED&ea=1&cs=1_442e15e9&cb=1625835086986&jobListingId=4112227124',\n",
       " 'https://www.glassdoor.co.in/partner/jobListing.htm?pos=110&ao=1136006&s=58&guid=0000017a8b52a3bc87ac324097c4e7e4&src=GD_JOB_AD&t=SR&vt=w&uido=5556C77A6FC13C78C6E515ECB009D8ED&cs=1_bb8ccb17&cb=1625835086986&jobListingId=3658577512',\n",
       " 'https://www.glassdoor.co.in/partner/jobListing.htm?pos=111&ao=1136006&s=58&guid=0000017a8b52a3bc87ac324097c4e7e4&src=GD_JOB_AD&t=SR&vt=w&uido=5556C77A6FC13C78C6E515ECB009D8ED&cs=1_314417e1&cb=1625835086986&jobListingId=3684408484',\n",
       " 'https://www.glassdoor.co.in/partner/jobListing.htm?pos=112&ao=1136006&s=58&guid=0000017a8b52a3bc87ac324097c4e7e4&src=GD_JOB_AD&t=SR&vt=w&uido=5556C77A6FC13C78C6E515ECB009D8ED&ea=1&cs=1_ce14f9b0&cb=1625835086986&jobListingId=4127697886',\n",
       " 'https://www.glassdoor.co.in/partner/jobListing.htm?pos=113&ao=1136006&s=58&guid=0000017a8b52a3bc87ac324097c4e7e4&src=GD_JOB_AD&t=SR&vt=w&uido=5556C77A6FC13C78C6E515ECB009D8ED&cs=1_7c32e424&cb=1625835086987&jobListingId=4131411802',\n",
       " 'https://www.glassdoor.co.in/partner/jobListing.htm?pos=114&ao=1136006&s=58&guid=0000017a8b52a3bc87ac324097c4e7e4&src=GD_JOB_AD&t=SR&vt=w&uido=5556C77A6FC13C78C6E515ECB009D8ED&cs=1_ce06bf95&cb=1625835086987&jobListingId=4121649200',\n",
       " 'https://www.glassdoor.co.in/partner/jobListing.htm?pos=115&ao=1136006&s=58&guid=0000017a8b52a3bc87ac324097c4e7e4&src=GD_JOB_AD&t=SR&vt=w&uido=5556C77A6FC13C78C6E515ECB009D8ED&cs=1_2c6f7373&cb=1625835086987&jobListingId=3732980740',\n",
       " 'https://www.glassdoor.co.in/partner/jobListing.htm?pos=116&ao=1136006&s=58&guid=0000017a8b52a3bc87ac324097c4e7e4&src=GD_JOB_AD&t=SR&vt=w&uido=5556C77A6FC13C78C6E515ECB009D8ED&cs=1_fcd57ee2&cb=1625835086988&jobListingId=4125535199',\n",
       " 'https://www.glassdoor.co.in/partner/jobListing.htm?pos=117&ao=1136006&s=58&guid=0000017a8b52a3bc87ac324097c4e7e4&src=GD_JOB_AD&t=SR&vt=w&uido=5556C77A6FC13C78C6E515ECB009D8ED&cs=1_7b297be9&cb=1625835086988&jobListingId=4114963394',\n",
       " 'https://www.glassdoor.co.in/partner/jobListing.htm?pos=118&ao=1136006&s=58&guid=0000017a8b52a3bc87ac324097c4e7e4&src=GD_JOB_AD&t=SR&vt=w&uido=5556C77A6FC13C78C6E515ECB009D8ED&cs=1_2f1d4898&cb=1625835086988&jobListingId=3658587220',\n",
       " 'https://www.glassdoor.co.in/partner/jobListing.htm?pos=119&ao=1136006&s=58&guid=0000017a8b52a3bc87ac324097c4e7e4&src=GD_JOB_AD&t=SR&vt=w&uido=5556C77A6FC13C78C6E515ECB009D8ED&cs=1_41928139&cb=1625835086988&jobListingId=4099354086',\n",
       " 'https://www.glassdoor.co.in/partner/jobListing.htm?pos=120&ao=1136006&s=58&guid=0000017a8b52a3bc87ac324097c4e7e4&src=GD_JOB_AD&t=SR&vt=w&uido=5556C77A6FC13C78C6E515ECB009D8ED&cs=1_4c3d170d&cb=1625835086989&jobListingId=4130340738',\n",
       " 'https://www.glassdoor.co.in/partner/jobListing.htm?pos=121&ao=1136006&s=58&guid=0000017a8b52a3bc87ac324097c4e7e4&src=GD_JOB_AD&t=SR&vt=w&uido=5556C77A6FC13C78C6E515ECB009D8ED&cs=1_293e8709&cb=1625835086989&jobListingId=4114354280',\n",
       " 'https://www.glassdoor.co.in/partner/jobListing.htm?pos=122&ao=1136006&s=58&guid=0000017a8b52a3bc87ac324097c4e7e4&src=GD_JOB_AD&t=SR&vt=w&uido=5556C77A6FC13C78C6E515ECB009D8ED&cs=1_3f88a659&cb=1625835086989&jobListingId=3781816729',\n",
       " 'https://www.glassdoor.co.in/partner/jobListing.htm?pos=123&ao=1136006&s=58&guid=0000017a8b52a3bc87ac324097c4e7e4&src=GD_JOB_AD&t=SR&vt=w&uido=5556C77A6FC13C78C6E515ECB009D8ED&cs=1_26be9613&cb=1625835086990&jobListingId=3658291620',\n",
       " 'https://www.glassdoor.co.in/partner/jobListing.htm?pos=124&ao=1136006&s=58&guid=0000017a8b52a3bc87ac324097c4e7e4&src=GD_JOB_AD&t=SR&vt=w&uido=5556C77A6FC13C78C6E515ECB009D8ED&cs=1_8c041bad&cb=1625835086990&jobListingId=3658326011',\n",
       " 'https://www.glassdoor.co.in/partner/jobListing.htm?pos=125&ao=1136006&s=58&guid=0000017a8b52a3bc87ac324097c4e7e4&src=GD_JOB_AD&t=SR&vt=w&uido=5556C77A6FC13C78C6E515ECB009D8ED&cs=1_8de3463e&cb=1625835086992&jobListingId=3658326330',\n",
       " 'https://www.glassdoor.co.in/partner/jobListing.htm?pos=126&ao=1136006&s=58&guid=0000017a8b52a3bc87ac324097c4e7e4&src=GD_JOB_AD&t=SR&vt=w&uido=5556C77A6FC13C78C6E515ECB009D8ED&cs=1_c93530fa&cb=1625835086992&jobListingId=3754974555',\n",
       " 'https://www.glassdoor.co.in/partner/jobListing.htm?pos=127&ao=1136006&s=58&guid=0000017a8b52a3bc87ac324097c4e7e4&src=GD_JOB_AD&t=SR&vt=w&uido=5556C77A6FC13C78C6E515ECB009D8ED&cs=1_c9f083a7&cb=1625835086992&jobListingId=4072040347',\n",
       " 'https://www.glassdoor.co.in/partner/jobListing.htm?pos=128&ao=1136006&s=58&guid=0000017a8b52a3bc87ac324097c4e7e4&src=GD_JOB_AD&t=SR&vt=w&uido=5556C77A6FC13C78C6E515ECB009D8ED&ea=1&cs=1_260471bb&cb=1625835086993&jobListingId=4129459137',\n",
       " 'https://www.glassdoor.co.in/partner/jobListing.htm?pos=129&ao=1136006&s=58&guid=0000017a8b52a3bc87ac324097c4e7e4&src=GD_JOB_AD&t=SR&vt=w&uido=5556C77A6FC13C78C6E515ECB009D8ED&cs=1_ecadc6de&cb=1625835086993&jobListingId=3658290412',\n",
       " 'https://www.glassdoor.co.in/partner/jobListing.htm?pos=130&ao=1136006&s=58&guid=0000017a8b52a3bc87ac324097c4e7e4&src=GD_JOB_AD&t=SR&vt=w&uido=5556C77A6FC13C78C6E515ECB009D8ED&cs=1_2df8b640&cb=1625835086993&jobListingId=4126649373']"
      ]
     },
     "execution_count": 14,
     "metadata": {},
     "output_type": "execute_result"
    }
   ],
   "source": [
    "page_urls"
   ]
  },
  {
   "cell_type": "code",
   "execution_count": 15,
   "metadata": {},
   "outputs": [],
   "source": [
    "Rating=[]\n",
    "for url in page_urls[:10]:\n",
    "    driver.get(url)\n",
    "    Names=driver.find_elements_by_xpath(\"//div[@class='css-16nw49e e11nt52q1']/span\") \n",
    "    for i in Names:\n",
    "        Rating.append(i.text.replace('\\n',''))\n",
    "    \n",
    "    \n",
    "        \n",
    "    #for scrapping shoe brand names\n",
    "    \n",
    "   "
   ]
  },
  {
   "cell_type": "code",
   "execution_count": 16,
   "metadata": {},
   "outputs": [
    {
     "data": {
      "text/plain": [
       "['4.5★', '4.0★', '4.1★', '3.8★', '4.0★', '3.5★', '3.7★', '4.1★', '3.9★']"
      ]
     },
     "execution_count": 16,
     "metadata": {},
     "output_type": "execute_result"
    }
   ],
   "source": [
    "Rating"
   ]
  },
  {
   "cell_type": "markdown",
   "metadata": {},
   "source": [
    "### Q5: Write a python program to scrape the salary data for Data Scientist designation in Noida location."
   ]
  },
  {
   "cell_type": "code",
   "execution_count": 59,
   "metadata": {},
   "outputs": [],
   "source": [
    "driver=webdriver.Chrome(\"chromedriver.exe\")"
   ]
  },
  {
   "cell_type": "code",
   "execution_count": 60,
   "metadata": {},
   "outputs": [],
   "source": [
    "url='https://www.glassdoor.co.in/Salaries/index.htm'\n",
    "driver.get(url)"
   ]
  },
  {
   "cell_type": "code",
   "execution_count": 61,
   "metadata": {},
   "outputs": [
    {
     "data": {
      "text/plain": [
       "<selenium.webdriver.remote.webelement.WebElement (session=\"808e88e44dc479dc86dc683a2679216c\", element=\"da446ee6-740d-4a2d-a997-83887d486457\")>"
      ]
     },
     "execution_count": 61,
     "metadata": {},
     "output_type": "execute_result"
    }
   ],
   "source": [
    "search_job=driver.find_element_by_id('KeywordSearch')\n",
    "search_job"
   ]
  },
  {
   "cell_type": "code",
   "execution_count": 62,
   "metadata": {},
   "outputs": [],
   "source": [
    "search_job.send_keys(\"Data Scientist\")"
   ]
  },
  {
   "cell_type": "code",
   "execution_count": 63,
   "metadata": {},
   "outputs": [],
   "source": [
    "loc_job=driver.find_element_by_id('LocationSearch')\n",
    "loc_job.send_keys('Noida(india)')"
   ]
  },
  {
   "cell_type": "code",
   "execution_count": 64,
   "metadata": {},
   "outputs": [],
   "source": [
    "search_btn=driver.find_element_by_xpath('//button[@class=\"gd-btn-mkt\"]')\n",
    "search_btn.click()"
   ]
  },
  {
   "cell_type": "code",
   "execution_count": 32,
   "metadata": {},
   "outputs": [
    {
     "data": {
      "text/plain": [
       "[<selenium.webdriver.remote.webelement.WebElement (session=\"39ea4d409e802d106a577aec449c4a32\", element=\"9e7e41db-4ea4-4ce9-a5cc-3a43d7a641ca\")>,\n",
       " <selenium.webdriver.remote.webelement.WebElement (session=\"39ea4d409e802d106a577aec449c4a32\", element=\"b7d442b2-13d4-4239-a3cb-47ddcdaeb237\")>,\n",
       " <selenium.webdriver.remote.webelement.WebElement (session=\"39ea4d409e802d106a577aec449c4a32\", element=\"4e7bd115-2d98-4d2e-8be3-42752f5d7bd1\")>,\n",
       " <selenium.webdriver.remote.webelement.WebElement (session=\"39ea4d409e802d106a577aec449c4a32\", element=\"be3de72c-48a4-433e-9c96-c78299c1cafa\")>,\n",
       " <selenium.webdriver.remote.webelement.WebElement (session=\"39ea4d409e802d106a577aec449c4a32\", element=\"c39f58e8-ff0c-4214-807e-4d72c1dbbc22\")>,\n",
       " <selenium.webdriver.remote.webelement.WebElement (session=\"39ea4d409e802d106a577aec449c4a32\", element=\"fb995e1d-48fd-481e-bee3-ad08a332c53b\")>,\n",
       " <selenium.webdriver.remote.webelement.WebElement (session=\"39ea4d409e802d106a577aec449c4a32\", element=\"53309d87-20e1-40a8-a71c-baa796b3641d\")>,\n",
       " <selenium.webdriver.remote.webelement.WebElement (session=\"39ea4d409e802d106a577aec449c4a32\", element=\"fd880f45-631e-49c0-a3ae-a87d85045e66\")>,\n",
       " <selenium.webdriver.remote.webelement.WebElement (session=\"39ea4d409e802d106a577aec449c4a32\", element=\"feab9c9c-23df-4982-8190-7b835a1c0c67\")>,\n",
       " <selenium.webdriver.remote.webelement.WebElement (session=\"39ea4d409e802d106a577aec449c4a32\", element=\"7a861f19-5bf1-4ba5-ba9d-aaeb5c79c302\")>,\n",
       " <selenium.webdriver.remote.webelement.WebElement (session=\"39ea4d409e802d106a577aec449c4a32\", element=\"0aa6b2d3-2196-4626-802b-700cc486b4d0\")>,\n",
       " <selenium.webdriver.remote.webelement.WebElement (session=\"39ea4d409e802d106a577aec449c4a32\", element=\"e4859692-c5d1-4b66-b2e1-bf8c7e4472bd\")>,\n",
       " <selenium.webdriver.remote.webelement.WebElement (session=\"39ea4d409e802d106a577aec449c4a32\", element=\"bac54fe0-c03b-48d6-97ec-4f5d0560c691\")>,\n",
       " <selenium.webdriver.remote.webelement.WebElement (session=\"39ea4d409e802d106a577aec449c4a32\", element=\"36b26d11-cfea-4c82-a7dd-74f077b2cf8a\")>,\n",
       " <selenium.webdriver.remote.webelement.WebElement (session=\"39ea4d409e802d106a577aec449c4a32\", element=\"0e825728-d0e5-4c1e-bde8-b9b52e8390fd\")>,\n",
       " <selenium.webdriver.remote.webelement.WebElement (session=\"39ea4d409e802d106a577aec449c4a32\", element=\"7fe48739-ae01-4882-b2ab-76cfbcd00495\")>,\n",
       " <selenium.webdriver.remote.webelement.WebElement (session=\"39ea4d409e802d106a577aec449c4a32\", element=\"6fb66a03-d939-4ea0-a85a-ef4effd29561\")>,\n",
       " <selenium.webdriver.remote.webelement.WebElement (session=\"39ea4d409e802d106a577aec449c4a32\", element=\"170e7a16-b3d7-40cb-af1f-fd1193bf1b64\")>,\n",
       " <selenium.webdriver.remote.webelement.WebElement (session=\"39ea4d409e802d106a577aec449c4a32\", element=\"71c5df55-2ac2-4292-bf76-8c40b13e6d99\")>,\n",
       " <selenium.webdriver.remote.webelement.WebElement (session=\"39ea4d409e802d106a577aec449c4a32\", element=\"fd30433a-cdcd-42bd-b879-a8e4d28080bd\")>]"
      ]
     },
     "execution_count": 32,
     "metadata": {},
     "output_type": "execute_result"
    }
   ],
   "source": [
    "Avg_salary=driver.find_elements_by_xpath('//div[@class=\"col-12 col-lg-4 px-lg-0 d-flex align-items-baseline\"]/h3')\n",
    "Avg_salary"
   ]
  },
  {
   "cell_type": "code",
   "execution_count": 34,
   "metadata": {},
   "outputs": [
    {
     "data": {
      "text/plain": [
       "['₹9,00,000',\n",
       " '₹6,15,289',\n",
       " '₹11,63,336',\n",
       " '₹12,18,244',\n",
       " '₹7,39,238',\n",
       " '₹13,00,000',\n",
       " '₹8,63,750',\n",
       " '₹11,10,000',\n",
       " '₹13,28,697',\n",
       " '₹11,42,356']"
      ]
     },
     "execution_count": 34,
     "metadata": {},
     "output_type": "execute_result"
    }
   ],
   "source": [
    "Avg_Salary=[]\n",
    "for i in Avg_salary:\n",
    "    Avg_Salary.append(i.text)\n",
    "Avg_Salary[:10]\n",
    "    "
   ]
  },
  {
   "cell_type": "code",
   "execution_count": 108,
   "metadata": {},
   "outputs": [],
   "source": [
    "\n",
    "low_salary=driver.find_elements_by_xpath('//div[@class=\"d-flex mt-xxsm css-79elbk epuxyqn0\"]/p')\n"
   ]
  },
  {
   "cell_type": "code",
   "execution_count": 112,
   "metadata": {},
   "outputs": [
    {
     "data": {
      "text/plain": [
       "['₹6L', '₹3L', '₹6L', '₹5L', '₹4L', '₹8L', '₹5L', '₹6L', '₹4L', '₹2L']"
      ]
     },
     "execution_count": 112,
     "metadata": {},
     "output_type": "execute_result"
    }
   ],
   "source": [
    "Min_Salary=[]\n",
    "for i in low_salary[:20]:\n",
    "    Min_Salary.append(i.text)\n",
    "C_Min=Min_Salary[::2]\n",
    "C_Min\n",
    "    "
   ]
  },
  {
   "cell_type": "code",
   "execution_count": 129,
   "metadata": {},
   "outputs": [
    {
     "data": {
      "text/plain": [
       "['₹27L',\n",
       " '₹13L',\n",
       " '₹22L',\n",
       " '₹1Cr',\n",
       " '₹16L',\n",
       " '₹15L',\n",
       " '₹15L',\n",
       " '₹15L',\n",
       " '₹22L',\n",
       " '₹18L']"
      ]
     },
     "execution_count": 129,
     "metadata": {},
     "output_type": "execute_result"
    }
   ],
   "source": [
    "Max_Salary=[]\n",
    "for i in low_salary[:20]:\n",
    "    Max_Salary.append(i.text)\n",
    "C_Max=Max_Salary[1::2]\n",
    "C_Max\n"
   ]
  },
  {
   "cell_type": "code",
   "execution_count": 92,
   "metadata": {},
   "outputs": [],
   "source": [
    "rating_tags=driver.find_elements_by_xpath('//span[@class=\"m-0 css-kyx745\"]')"
   ]
  },
  {
   "cell_type": "code",
   "execution_count": 93,
   "metadata": {},
   "outputs": [
    {
     "data": {
      "text/plain": [
       "['3.9', '3.9', '4', '3.9', '4', '3.7', '4.2', '3.6', '3.9', '4']"
      ]
     },
     "execution_count": 93,
     "metadata": {},
     "output_type": "execute_result"
    }
   ],
   "source": [
    "Rating=[]\n",
    "for i in rating_tags:\n",
    "    Rating.append(i.text.replace(\"\\n\",''))\n",
    "Rating[:10]"
   ]
  },
  {
   "cell_type": "code",
   "execution_count": 97,
   "metadata": {},
   "outputs": [],
   "source": [
    "company=driver.find_elements_by_xpath('//a[@class=\"css-f3vw95 e1aj7ssy3\"]')"
   ]
  },
  {
   "cell_type": "code",
   "execution_count": 98,
   "metadata": {},
   "outputs": [
    {
     "data": {
      "text/plain": [
       "['IBM',\n",
       " 'Tata Consultancy Services',\n",
       " 'Accenture',\n",
       " 'Delhivery',\n",
       " 'Ericsson-Worldwide',\n",
       " 'UnitedHealth Group',\n",
       " 'Valiance Solutions',\n",
       " 'EXL Service',\n",
       " 'Optum Global Solutions',\n",
       " 'ZS Associates']"
      ]
     },
     "execution_count": 98,
     "metadata": {},
     "output_type": "execute_result"
    }
   ],
   "source": [
    "Company=[]\n",
    "for i in company:\n",
    "    Company.append(i.text)\n",
    "Company[:10]"
   ]
  },
  {
   "cell_type": "code",
   "execution_count": 130,
   "metadata": {},
   "outputs": [],
   "source": [
    "import pandas as pd\n",
    "jobs=pd.DataFrame({})\n",
    "jobs['Company_Names']=Company[:10]\n",
    "jobs['Min_Salary']=C_Min[:10]\n",
    "jobs['Max_Salary']=C_Max[:10]\n",
    "jobs['Rating']=Rating[:10]\n",
    "    \n",
    "\n",
    "    \n",
    "    \n",
    "\n",
    "    "
   ]
  },
  {
   "cell_type": "code",
   "execution_count": 131,
   "metadata": {},
   "outputs": [
    {
     "data": {
      "text/html": [
       "<div>\n",
       "<style scoped>\n",
       "    .dataframe tbody tr th:only-of-type {\n",
       "        vertical-align: middle;\n",
       "    }\n",
       "\n",
       "    .dataframe tbody tr th {\n",
       "        vertical-align: top;\n",
       "    }\n",
       "\n",
       "    .dataframe thead th {\n",
       "        text-align: right;\n",
       "    }\n",
       "</style>\n",
       "<table border=\"1\" class=\"dataframe\">\n",
       "  <thead>\n",
       "    <tr style=\"text-align: right;\">\n",
       "      <th></th>\n",
       "      <th>Company_Names</th>\n",
       "      <th>Min_Salary</th>\n",
       "      <th>Max_Salary</th>\n",
       "      <th>Rating</th>\n",
       "    </tr>\n",
       "  </thead>\n",
       "  <tbody>\n",
       "    <tr>\n",
       "      <th>0</th>\n",
       "      <td>IBM</td>\n",
       "      <td>₹6L</td>\n",
       "      <td>₹27L</td>\n",
       "      <td>3.9</td>\n",
       "    </tr>\n",
       "    <tr>\n",
       "      <th>1</th>\n",
       "      <td>Tata Consultancy Services</td>\n",
       "      <td>₹3L</td>\n",
       "      <td>₹13L</td>\n",
       "      <td>3.9</td>\n",
       "    </tr>\n",
       "    <tr>\n",
       "      <th>2</th>\n",
       "      <td>Accenture</td>\n",
       "      <td>₹6L</td>\n",
       "      <td>₹22L</td>\n",
       "      <td>4</td>\n",
       "    </tr>\n",
       "    <tr>\n",
       "      <th>3</th>\n",
       "      <td>Delhivery</td>\n",
       "      <td>₹5L</td>\n",
       "      <td>₹1Cr</td>\n",
       "      <td>3.9</td>\n",
       "    </tr>\n",
       "    <tr>\n",
       "      <th>4</th>\n",
       "      <td>Ericsson-Worldwide</td>\n",
       "      <td>₹4L</td>\n",
       "      <td>₹16L</td>\n",
       "      <td>4</td>\n",
       "    </tr>\n",
       "    <tr>\n",
       "      <th>5</th>\n",
       "      <td>UnitedHealth Group</td>\n",
       "      <td>₹8L</td>\n",
       "      <td>₹15L</td>\n",
       "      <td>3.7</td>\n",
       "    </tr>\n",
       "    <tr>\n",
       "      <th>6</th>\n",
       "      <td>Valiance Solutions</td>\n",
       "      <td>₹5L</td>\n",
       "      <td>₹15L</td>\n",
       "      <td>4.2</td>\n",
       "    </tr>\n",
       "    <tr>\n",
       "      <th>7</th>\n",
       "      <td>EXL Service</td>\n",
       "      <td>₹6L</td>\n",
       "      <td>₹15L</td>\n",
       "      <td>3.6</td>\n",
       "    </tr>\n",
       "    <tr>\n",
       "      <th>8</th>\n",
       "      <td>Optum Global Solutions</td>\n",
       "      <td>₹4L</td>\n",
       "      <td>₹22L</td>\n",
       "      <td>3.9</td>\n",
       "    </tr>\n",
       "    <tr>\n",
       "      <th>9</th>\n",
       "      <td>ZS Associates</td>\n",
       "      <td>₹2L</td>\n",
       "      <td>₹18L</td>\n",
       "      <td>4</td>\n",
       "    </tr>\n",
       "  </tbody>\n",
       "</table>\n",
       "</div>"
      ],
      "text/plain": [
       "               Company_Names Min_Salary Max_Salary Rating\n",
       "0                        IBM        ₹6L       ₹27L    3.9\n",
       "1  Tata Consultancy Services        ₹3L       ₹13L    3.9\n",
       "2                  Accenture        ₹6L       ₹22L      4\n",
       "3                  Delhivery        ₹5L       ₹1Cr    3.9\n",
       "4         Ericsson-Worldwide        ₹4L       ₹16L      4\n",
       "5         UnitedHealth Group        ₹8L       ₹15L    3.7\n",
       "6         Valiance Solutions        ₹5L       ₹15L    4.2\n",
       "7                EXL Service        ₹6L       ₹15L    3.6\n",
       "8     Optum Global Solutions        ₹4L       ₹22L    3.9\n",
       "9              ZS Associates        ₹2L       ₹18L      4"
      ]
     },
     "execution_count": 131,
     "metadata": {},
     "output_type": "execute_result"
    }
   ],
   "source": [
    "jobs"
   ]
  },
  {
   "cell_type": "markdown",
   "metadata": {},
   "source": [
    "### Q6 : Scrape data of first 100 sunglasses listings on flipkart.com"
   ]
  },
  {
   "cell_type": "code",
   "execution_count": 2,
   "metadata": {},
   "outputs": [],
   "source": [
    "driver=webdriver.Chrome(\"chromedriver.exe\")"
   ]
  },
  {
   "cell_type": "code",
   "execution_count": 3,
   "metadata": {},
   "outputs": [],
   "source": [
    "url='https://www.flipkart.com/'\n",
    "driver.get(url)"
   ]
  },
  {
   "cell_type": "code",
   "execution_count": 6,
   "metadata": {},
   "outputs": [
    {
     "data": {
      "text/plain": [
       "<selenium.webdriver.remote.webelement.WebElement (session=\"c6afadcbcce460bd069d8ddd60a60660\", element=\"f731d326-f7b8-49f6-b489-b2057fa577ea\")>"
      ]
     },
     "execution_count": 6,
     "metadata": {},
     "output_type": "execute_result"
    }
   ],
   "source": [
    "search_item=driver.find_element_by_xpath('//input[@class=\"_3704LK\"]')\n",
    "search_item"
   ]
  },
  {
   "cell_type": "code",
   "execution_count": 7,
   "metadata": {},
   "outputs": [],
   "source": [
    "search_item.send_keys(\"sunglasses\")"
   ]
  },
  {
   "cell_type": "code",
   "execution_count": 99,
   "metadata": {},
   "outputs": [],
   "source": [
    "search_btn=driver.find_element_by_xpath('//button[@class=\"L0Z3Pu\"]')\n",
    "search_btn.click()"
   ]
  },
  {
   "cell_type": "code",
   "execution_count": 8,
   "metadata": {},
   "outputs": [],
   "source": [
    "import time\n",
    "from selenium.common.exceptions import NoSuchElementException"
   ]
  },
  {
   "cell_type": "code",
   "execution_count": 100,
   "metadata": {},
   "outputs": [],
   "source": [
    "Price=[]\n",
    "Discount=[]\n",
    "Brands=[]\n",
    "Product_description=[]\n",
    "for page in range(1,4):\n",
    "    \n",
    "    time.sleep(1)\n",
    "    \n",
    "    sunglass_brands=driver.find_elements_by_xpath('//div[@class=\"_2WkVRV\"]')\n",
    "    sunglass_tags=driver.find_elements_by_xpath('//a[@class=\"IRpwTa\"]')\n",
    "    sunglass_price=driver.find_elements_by_xpath('//div[@class=\"_30jeq3\"]')\n",
    "    sunglass_discount=driver.find_elements_by_xpath('//div[@class=\"_3Ay6Sb\"]')\n",
    "    \n",
    "    \n",
    "    for i in sunglass_tags:\n",
    "        Product_description.append(i.text)\n",
    "        \n",
    "    for i in sunglass_brands:\n",
    "        Brands.append(i.text)\n",
    "        \n",
    "    for i in sunglass_price:\n",
    "        Price.append(i.text)\n",
    "        \n",
    "    for i in sunglass_discount:\n",
    "        Discount.append(i.text)\n",
    "   \n",
    "   \n",
    "\n",
    "\n",
    "        \n",
    "   \n",
    "    \n",
    "   \n",
    "   \n",
    "    nxt_button=driver.find_elements_by_xpath(\"//a[@class='_1LKTO3']\")\n",
    "\n",
    "    try:\n",
    "                 \n",
    "        driver.get(nxt_button[1].get_attribute('href'))   \n",
    "       #getting the link from the list for next page\n",
    "        \n",
    "\n",
    "    except:\n",
    "\n",
    "        driver.get(nxt_button[0].get_attribute('href'))\n",
    "\n",
    "        \n",
    "    "
   ]
  },
  {
   "cell_type": "code",
   "execution_count": 102,
   "metadata": {},
   "outputs": [
    {
     "data": {
      "text/plain": [
       "120"
      ]
     },
     "execution_count": 102,
     "metadata": {},
     "output_type": "execute_result"
    }
   ],
   "source": [
    "len(Discount)"
   ]
  },
  {
   "cell_type": "code",
   "execution_count": 103,
   "metadata": {},
   "outputs": [
    {
     "data": {
      "text/plain": [
       "['32% off',\n",
       " '73% off',\n",
       " '24% off',\n",
       " '88% off',\n",
       " '35% off',\n",
       " '41% off',\n",
       " '85% off',\n",
       " '65% off',\n",
       " '27% off',\n",
       " '61% off',\n",
       " '86% off',\n",
       " '78% off',\n",
       " '78% off',\n",
       " '88% off',\n",
       " '41% off',\n",
       " '81% off',\n",
       " '28% off',\n",
       " '37% off',\n",
       " '34% off',\n",
       " '61% off',\n",
       " '80% off',\n",
       " '77% off',\n",
       " '31% off',\n",
       " '79% off',\n",
       " '22% off',\n",
       " '30% off',\n",
       " '79% off',\n",
       " '83% off',\n",
       " '85% off',\n",
       " '76% off',\n",
       " '40% off',\n",
       " '24% off',\n",
       " '72% off',\n",
       " '84% off',\n",
       " '79% off',\n",
       " '83% off',\n",
       " '68% off',\n",
       " '81% off',\n",
       " '83% off',\n",
       " '83% off',\n",
       " '80% off',\n",
       " '81% off',\n",
       " '77% off',\n",
       " '43% off',\n",
       " '87% off',\n",
       " '86% off',\n",
       " '52% off',\n",
       " '65% off',\n",
       " '68% off',\n",
       " '78% off',\n",
       " '78% off',\n",
       " '82% off',\n",
       " '70% off',\n",
       " '77% off',\n",
       " '54% off',\n",
       " '66% off',\n",
       " '76% off',\n",
       " '24% off',\n",
       " '41% off',\n",
       " '43% off',\n",
       " '67% off',\n",
       " '84% off',\n",
       " '85% off',\n",
       " '65% off',\n",
       " '80% off',\n",
       " '85% off',\n",
       " '78% off',\n",
       " '32% off',\n",
       " '27% off',\n",
       " '78% off',\n",
       " '65% off',\n",
       " '29% off',\n",
       " '32% off',\n",
       " '79% off',\n",
       " '85% off',\n",
       " '65% off',\n",
       " '80% off',\n",
       " '67% off',\n",
       " '26% off',\n",
       " '77% off',\n",
       " '71% off',\n",
       " '33% off',\n",
       " '84% off',\n",
       " '43% off',\n",
       " '82% off',\n",
       " '84% off',\n",
       " '81% off',\n",
       " '40% off',\n",
       " '25% off',\n",
       " '88% off',\n",
       " '30% off',\n",
       " '65% off',\n",
       " '66% off',\n",
       " '80% off',\n",
       " '50% off',\n",
       " '43% off',\n",
       " '26% off',\n",
       " '73% off',\n",
       " '85% off',\n",
       " '65% off',\n",
       " '30% off',\n",
       " '83% off',\n",
       " '78% off',\n",
       " '32% off',\n",
       " '66% off',\n",
       " '80% off',\n",
       " '49% off',\n",
       " '29% off',\n",
       " '24% off',\n",
       " '21% off',\n",
       " '10% off',\n",
       " '50% off',\n",
       " '81% off',\n",
       " '37% off',\n",
       " '62% off',\n",
       " '73% off',\n",
       " '32% off',\n",
       " '84% off',\n",
       " '73% off',\n",
       " '73% off']"
      ]
     },
     "execution_count": 103,
     "metadata": {},
     "output_type": "execute_result"
    }
   ],
   "source": [
    "Discount"
   ]
  },
  {
   "cell_type": "code",
   "execution_count": 94,
   "metadata": {},
   "outputs": [
    {
     "data": {
      "text/plain": [
       "['Others Wayfarer Sunglasses (Free Size)',\n",
       " 'by Lenskart UV Protection Wayfarer Sunglasses (49)',\n",
       " 'UV Protection Wayfarer Sunglasses (Free Size)',\n",
       " 'Mirrored, UV Protection Wayfarer Sunglasses (Free Size)',\n",
       " 'UV Protection Rectangular Sunglasses (Free Size)',\n",
       " 'UV Protection, Polarized Wayfarer Sunglasses (56)',\n",
       " 'UV Protection Aviator Sunglasses (54)',\n",
       " 'Polarized Wrap-around Sunglasses (66)',\n",
       " 'UV Protection Wayfarer Sunglasses (56)',\n",
       " 'Gradient Rectangular Sunglasses (56)',\n",
       " 'UV Protection Round Sunglasses (53)',\n",
       " 'Polarized Rectangular Sunglasses (65)',\n",
       " 'UV Protection Round Sunglasses (Free Size)',\n",
       " 'Mirrored, UV Protection Wayfarer Sunglasses (Free Size)',\n",
       " 'UV Protection Wrap-around Sunglasses (Free Size)',\n",
       " 'Toughened Glass Lens, UV Protection Wayfarer, Rectangul...',\n",
       " 'UV Protection Wayfarer Sunglasses (Free Size)',\n",
       " 'UV Protection Wayfarer Sunglasses (Free Size)',\n",
       " 'UV Protection Aviator Sunglasses (Free Size)',\n",
       " 'Polarized Wrap-around Sunglasses (66)',\n",
       " 'UV Protection Retro Square Sunglasses (Free Size)',\n",
       " 'UV Protection Retro Square Sunglasses (Free Size)',\n",
       " 'UV Protection Aviator Sunglasses (61)',\n",
       " 'by Lenskart UV Protection Wayfarer Sunglasses (49)',\n",
       " 'UV Protection Round Sunglasses (54)',\n",
       " 'UV Protection Aviator Sunglasses (58)',\n",
       " 'Gradient, UV Protection Wayfarer Sunglasses (Free Size)',\n",
       " 'UV Protection Retro Square Sunglasses (60)',\n",
       " 'UV Protection Aviator Sunglasses (Free Size)',\n",
       " 'UV Protection Aviator, Wayfarer Sunglasses (Free Size)',\n",
       " 'UV Protection Aviator Sunglasses (57)',\n",
       " 'Polarized Rectangular Sunglasses (65)',\n",
       " 'UV Protection Rectangular Sunglasses (55)',\n",
       " 'Gradient Aviator Sunglasses (Free Size)',\n",
       " 'UV Protection Aviator Sunglasses (58)',\n",
       " 'by Lenskart Polarized, UV Protection Retro Square Sungl...',\n",
       " 'UV Protection Aviator Sunglasses (58)',\n",
       " 'UV Protection Sports Sunglasses (Free Size)',\n",
       " 'UV Protection, Gradient Rectangular Sunglasses (Free Si...',\n",
       " 'Polarized Sports Sunglasses (65)',\n",
       " 'UV Protection, Riding Glasses Rectangular Sunglasses (F...',\n",
       " 'UV Protection, Mirrored Retro Square Sunglasses (53)',\n",
       " 'UV Protection Retro Square Sunglasses (Free Size)',\n",
       " 'Others Wayfarer Sunglasses (Free Size)',\n",
       " 'UV Protection Aviator Sunglasses (58)',\n",
       " 'Mirrored, Gradient, Riding Glasses Round Sunglasses (55...',\n",
       " 'UV Protection, Polarized, Riding Glasses Oval Sunglasse...',\n",
       " 'by Lenskart UV Protection Wayfarer Sunglasses (49)',\n",
       " 'UV Protection Rectangular Sunglasses (58)',\n",
       " 'UV Protection, Gradient Rectangular Sunglasses (Free Si...',\n",
       " 'UV Protection, Gradient Wayfarer Sunglasses (55)',\n",
       " 'Polarized Wrap-around Sunglasses (66)',\n",
       " 'UV Protection Aviator Sunglasses (Free Size)',\n",
       " 'UV Protection, Mirrored Wayfarer Sunglasses (53)',\n",
       " 'UV Protection Wrap-around Sunglasses (Free Size)',\n",
       " 'Toughened Glass Lens, UV Protection Wayfarer, Rectangul...',\n",
       " 'UV Protection, Gradient, Mirrored, Riding Glasses Recta...',\n",
       " 'UV Protection Rectangular Sunglasses (59)',\n",
       " 'UV Protection Wrap-around Sunglasses (Free Size)',\n",
       " 'Polarized Wrap-around Sunglasses (66)',\n",
       " 'UV Protection Wayfarer Sunglasses (Free Size)',\n",
       " 'UV Protection Clubmaster Sunglasses (Free Size)',\n",
       " 'UV Protection Aviator Sunglasses (54)',\n",
       " 'by Lenskart UV Protection Wayfarer Sunglasses (49)',\n",
       " 'Mirrored, UV Protection Wayfarer, Wayfarer, Wayfarer, W...',\n",
       " 'UV Protection, Night Vision, Riding Glasses Aviator Sun...',\n",
       " 'UV Protection Round Sunglasses (Free Size)',\n",
       " 'UV Protection Retro Square Sunglasses (60)',\n",
       " 'UV Protection Wayfarer Sunglasses (55)',\n",
       " 'Gradient, UV Protection Round Sunglasses (Free Size)',\n",
       " 'Polarized Rectangular Sunglasses (65)',\n",
       " 'Polarized Rectangular Sunglasses (65)',\n",
       " 'UV Protection Wayfarer Sunglasses (56)',\n",
       " 'UV Protection, Mirrored Round Sunglasses (54)',\n",
       " 'UV Protection Aviator Sunglasses (54)',\n",
       " 'by Lenskart Polarized, UV Protection Retro Square Sungl...',\n",
       " 'UV Protection, Mirrored Retro Square Sunglasses (Free S...',\n",
       " 'Others Rectangular Sunglasses (52)',\n",
       " 'UV Protection Wayfarer Sunglasses (Free Size)',\n",
       " 'UV Protection Rectangular, Cat-eye Sunglasses (58)',\n",
       " 'UV Protection Round Sunglasses (Free Size)',\n",
       " 'UV Protection Aviator Sunglasses (Free Size)',\n",
       " 'UV Protection, Gradient Round Sunglasses (Free Size)',\n",
       " 'UV Protection Aviator Sunglasses (57)',\n",
       " 'Riding Glasses, UV Protection, Others Aviator Sunglasse...',\n",
       " 'UV Protection, Mirrored Retro Square Sunglasses (53)',\n",
       " 'UV Protection Aviator Sunglasses (Free Size)',\n",
       " 'Night Vision, Riding Glasses Wayfarer Sunglasses (53)',\n",
       " 'Mirrored, UV Protection Wayfarer Sunglasses (Free Size)',\n",
       " 'Gradient Retro Square Sunglasses (60)',\n",
       " 'UV Protection, Night Vision, Gradient, Mirrored Round, ...',\n",
       " 'Polarized Sports Sunglasses (68)',\n",
       " 'Gradient Round Sunglasses (Free Size)',\n",
       " 'UV Protection Rectangular Sunglasses (Free Size)',\n",
       " 'UV Protection Wayfarer Sunglasses (32)',\n",
       " 'Gradient, UV Protection Wayfarer Sunglasses (Free Size)',\n",
       " 'UV Protection Rectangular Sunglasses (55)',\n",
       " 'UV Protection, Gradient Retro Square Sunglasses (Free S...',\n",
       " 'UV Protection Retro Square Sunglasses (58)',\n",
       " 'Mirrored, UV Protection Aviator Sunglasses (56)',\n",
       " 'UV Protection Retro Square Sunglasses (55)',\n",
       " 'UV Protection Shield Sunglasses (Free Size)',\n",
       " 'UV Protection Rectangular Sunglasses (59)',\n",
       " 'UV Protection Round Sunglasses (52)',\n",
       " 'UV Protection Retro Square Sunglasses (Free Size)',\n",
       " 'UV Protection Wayfarer Sunglasses (57)',\n",
       " 'Polarized, UV Protection Round Sunglasses (52)',\n",
       " 'UV Protection Wayfarer Sunglasses (Free Size)',\n",
       " 'UV Protection, Mirrored Clubmaster Sunglasses (Free Siz...',\n",
       " 'Gradient Aviator Sunglasses (60)',\n",
       " 'UV Protection Wayfarer Sunglasses (Free Size)',\n",
       " 'Gradient, Mirrored, UV Protection Aviator Sunglasses (5...',\n",
       " 'UV Protection Cat-eye Sunglasses (60)',\n",
       " 'Mirrored, UV Protection Wayfarer Sunglasses (Free Size)',\n",
       " 'UV Protection Wrap-around, Rectangular Sunglasses (Free...',\n",
       " 'UV Protection Oval Sunglasses (56)',\n",
       " 'UV Protection, Gradient, Night Vision Retro Square Sung...',\n",
       " 'UV Protection Round Sunglasses (50)',\n",
       " 'Gradient Wayfarer Sunglasses (Free Size)',\n",
       " 'UV Protection, Mirrored, Gradient Retro Square Sunglass...']"
      ]
     },
     "execution_count": 94,
     "metadata": {},
     "output_type": "execute_result"
    }
   ],
   "source": [
    "Product_description\n"
   ]
  },
  {
   "cell_type": "code",
   "execution_count": 95,
   "metadata": {},
   "outputs": [
    {
     "data": {
      "text/plain": [
       "['Villain',\n",
       " 'VINCENT CHASE',\n",
       " 'Fastrack',\n",
       " 'kingsunglasses',\n",
       " 'Fastrack',\n",
       " 'Fastrack',\n",
       " 'PIRASO',\n",
       " 'ROYAL SON',\n",
       " 'Fastrack',\n",
       " 'IRUS by IDEE',\n",
       " 'PHENOMENAL',\n",
       " 'ROYAL SON',\n",
       " 'kingsunglasses',\n",
       " 'kingsunglasses',\n",
       " 'Fastrack',\n",
       " 'AISLIN',\n",
       " 'Fastrack',\n",
       " 'Fastrack',\n",
       " 'Fastrack',\n",
       " 'ROYAL SON',\n",
       " 'PHENOMENAL',\n",
       " 'ROZZETTA CRAFT',\n",
       " 'Fastrack',\n",
       " 'VINCENT CHASE',\n",
       " 'kingsunglasses',\n",
       " 'Fastrack',\n",
       " 'Fastrack',\n",
       " 'ROYAL SON',\n",
       " 'PIRASO',\n",
       " 'DEIXELS',\n",
       " 'GANSTA',\n",
       " 'ROYAL SON',\n",
       " 'kingsunglasses',\n",
       " 'Fastrack',\n",
       " 'Fastrack',\n",
       " 'VINCENT CHASE',\n",
       " 'NuVew',\n",
       " 'hipe',\n",
       " 'ROZZETTA CRAFT',\n",
       " 'ROYAL SON',\n",
       " 'ROZZETTA CRAFT',\n",
       " 'PHENOMENAL',\n",
       " 'ROZZETTA CRAFT',\n",
       " 'Villain',\n",
       " 'PIRASO',\n",
       " 'hipe',\n",
       " 'Fastrack',\n",
       " 'VINCENT CHASE',\n",
       " 'ROYAL SON',\n",
       " 'ROZZETTA CRAFT',\n",
       " 'ROYAL SON',\n",
       " 'ROYAL SON',\n",
       " 'Singco India',\n",
       " 'GANSTA',\n",
       " 'Fastrack',\n",
       " 'AISLIN',\n",
       " 'hipe',\n",
       " 'Fastrack',\n",
       " 'Fastrack',\n",
       " 'ROYAL SON',\n",
       " 'Poland',\n",
       " 'PHENOMENAL',\n",
       " 'PIRASO',\n",
       " 'VINCENT CHASE',\n",
       " 'kingsunglasses',\n",
       " 'GANSTA',\n",
       " 'kingsunglasses',\n",
       " 'ROYAL SON',\n",
       " 'Fastrack',\n",
       " 'ROZZETTA CRAFT',\n",
       " 'ROYAL SON',\n",
       " 'ROYAL SON',\n",
       " 'Fastrack',\n",
       " 'kingsunglasses',\n",
       " 'PIRASO',\n",
       " 'VINCENT CHASE',\n",
       " 'PHENOMENAL',\n",
       " 'FOSSIL',\n",
       " 'Fastrack',\n",
       " 'AISLIN',\n",
       " 'elegante',\n",
       " 'Fastrack',\n",
       " 'ROZZETTA CRAFT',\n",
       " 'GANSTA',\n",
       " 'Singco India',\n",
       " 'PHENOMENAL',\n",
       " 'Fastrack',\n",
       " 'GANSTA',\n",
       " 'Fastrack',\n",
       " 'ROYAL SON',\n",
       " 'hipe',\n",
       " 'ROYAL SON',\n",
       " 'Fastrack',\n",
       " 'ROZZETTA CRAFT',\n",
       " 'PIRASO',\n",
       " 'Fastrack',\n",
       " 'kingsunglasses',\n",
       " 'ROZZETTA CRAFT',\n",
       " 'ROYAL SON',\n",
       " 'kingsunglasses',\n",
       " 'FLYING MACHINE',\n",
       " 'Fastrack',\n",
       " 'Fastrack',\n",
       " 'Fastrack',\n",
       " 'Flizz',\n",
       " 'Fastrack',\n",
       " 'ROYAL SON',\n",
       " 'Fastrack',\n",
       " 'PHENOMENAL',\n",
       " 'IDEE',\n",
       " 'Fastrack',\n",
       " 'United Colors of Benetton',\n",
       " 'NuVew',\n",
       " 'kingsunglasses',\n",
       " 'Fastrack',\n",
       " 'Silver Kartz',\n",
       " 'Fravy',\n",
       " 'ROYAL SON',\n",
       " 'Fastrack',\n",
       " 'PHENOMENAL']"
      ]
     },
     "execution_count": 95,
     "metadata": {},
     "output_type": "execute_result"
    }
   ],
   "source": [
    "Brands"
   ]
  },
  {
   "cell_type": "code",
   "execution_count": 104,
   "metadata": {},
   "outputs": [],
   "source": [
    "import pandas as pd\n",
    "jobs=pd.DataFrame({})\n",
    "jobs['Brands']=Brands[:100]\n",
    "jobs['Product_Description']=Product_description[:100]\n",
    "jobs['Price']=Price[:100]\n",
    "jobs['Discount']=Discount[:100]"
   ]
  },
  {
   "cell_type": "code",
   "execution_count": 105,
   "metadata": {},
   "outputs": [
    {
     "data": {
      "text/html": [
       "<div>\n",
       "<style scoped>\n",
       "    .dataframe tbody tr th:only-of-type {\n",
       "        vertical-align: middle;\n",
       "    }\n",
       "\n",
       "    .dataframe tbody tr th {\n",
       "        vertical-align: top;\n",
       "    }\n",
       "\n",
       "    .dataframe thead th {\n",
       "        text-align: right;\n",
       "    }\n",
       "</style>\n",
       "<table border=\"1\" class=\"dataframe\">\n",
       "  <thead>\n",
       "    <tr style=\"text-align: right;\">\n",
       "      <th></th>\n",
       "      <th>Brands</th>\n",
       "      <th>Product_Description</th>\n",
       "      <th>Price</th>\n",
       "      <th>Discount</th>\n",
       "    </tr>\n",
       "  </thead>\n",
       "  <tbody>\n",
       "    <tr>\n",
       "      <th>0</th>\n",
       "      <td>VINCENT CHASE</td>\n",
       "      <td>by Lenskart Polarized, UV Protection Cat-eye S...</td>\n",
       "      <td>₹1,344</td>\n",
       "      <td>32% off</td>\n",
       "    </tr>\n",
       "    <tr>\n",
       "      <th>1</th>\n",
       "      <td>AISLIN</td>\n",
       "      <td>Toughened Glass Lens, UV Protection Aviator Su...</td>\n",
       "      <td>₹975</td>\n",
       "      <td>73% off</td>\n",
       "    </tr>\n",
       "    <tr>\n",
       "      <th>2</th>\n",
       "      <td>Fastrack</td>\n",
       "      <td>UV Protection Wayfarer Sunglasses (Free Size)</td>\n",
       "      <td>₹682</td>\n",
       "      <td>24% off</td>\n",
       "    </tr>\n",
       "    <tr>\n",
       "      <th>3</th>\n",
       "      <td>kingsunglasses</td>\n",
       "      <td>Mirrored, UV Protection Wayfarer Sunglasses (F...</td>\n",
       "      <td>₹299</td>\n",
       "      <td>88% off</td>\n",
       "    </tr>\n",
       "    <tr>\n",
       "      <th>4</th>\n",
       "      <td>Fastrack</td>\n",
       "      <td>UV Protection Rectangular Sunglasses (Free Size)</td>\n",
       "      <td>₹513</td>\n",
       "      <td>35% off</td>\n",
       "    </tr>\n",
       "    <tr>\n",
       "      <th>...</th>\n",
       "      <td>...</td>\n",
       "      <td>...</td>\n",
       "      <td>...</td>\n",
       "      <td>...</td>\n",
       "    </tr>\n",
       "    <tr>\n",
       "      <th>95</th>\n",
       "      <td>VINCENT CHASE</td>\n",
       "      <td>by Lenskart UV Protection Wayfarer Sunglasses ...</td>\n",
       "      <td>₹1,120</td>\n",
       "      <td>43% off</td>\n",
       "    </tr>\n",
       "    <tr>\n",
       "      <th>96</th>\n",
       "      <td>Fastrack</td>\n",
       "      <td>Gradient Round Sunglasses (Free Size)</td>\n",
       "      <td>₹1,462</td>\n",
       "      <td>26% off</td>\n",
       "    </tr>\n",
       "    <tr>\n",
       "      <th>97</th>\n",
       "      <td>ROZZETTA CRAFT</td>\n",
       "      <td>UV Protection Rectangular Sunglasses (Free Size)</td>\n",
       "      <td>₹398</td>\n",
       "      <td>73% off</td>\n",
       "    </tr>\n",
       "    <tr>\n",
       "      <th>98</th>\n",
       "      <td>PIRASO</td>\n",
       "      <td>UV Protection Wayfarer Sunglasses (32)</td>\n",
       "      <td>₹237</td>\n",
       "      <td>85% off</td>\n",
       "    </tr>\n",
       "    <tr>\n",
       "      <th>99</th>\n",
       "      <td>ROYAL SON</td>\n",
       "      <td>Polarized Rectangular Sunglasses (65)</td>\n",
       "      <td>₹699</td>\n",
       "      <td>65% off</td>\n",
       "    </tr>\n",
       "  </tbody>\n",
       "</table>\n",
       "<p>100 rows × 4 columns</p>\n",
       "</div>"
      ],
      "text/plain": [
       "            Brands                                Product_Description   Price  \\\n",
       "0    VINCENT CHASE  by Lenskart Polarized, UV Protection Cat-eye S...  ₹1,344   \n",
       "1           AISLIN  Toughened Glass Lens, UV Protection Aviator Su...    ₹975   \n",
       "2         Fastrack      UV Protection Wayfarer Sunglasses (Free Size)    ₹682   \n",
       "3   kingsunglasses  Mirrored, UV Protection Wayfarer Sunglasses (F...    ₹299   \n",
       "4         Fastrack   UV Protection Rectangular Sunglasses (Free Size)    ₹513   \n",
       "..             ...                                                ...     ...   \n",
       "95   VINCENT CHASE  by Lenskart UV Protection Wayfarer Sunglasses ...  ₹1,120   \n",
       "96        Fastrack              Gradient Round Sunglasses (Free Size)  ₹1,462   \n",
       "97  ROZZETTA CRAFT   UV Protection Rectangular Sunglasses (Free Size)    ₹398   \n",
       "98          PIRASO             UV Protection Wayfarer Sunglasses (32)    ₹237   \n",
       "99       ROYAL SON              Polarized Rectangular Sunglasses (65)    ₹699   \n",
       "\n",
       "   Discount  \n",
       "0   32% off  \n",
       "1   73% off  \n",
       "2   24% off  \n",
       "3   88% off  \n",
       "4   35% off  \n",
       "..      ...  \n",
       "95  43% off  \n",
       "96  26% off  \n",
       "97  73% off  \n",
       "98  85% off  \n",
       "99  65% off  \n",
       "\n",
       "[100 rows x 4 columns]"
      ]
     },
     "execution_count": 105,
     "metadata": {},
     "output_type": "execute_result"
    }
   ],
   "source": [
    "jobs"
   ]
  },
  {
   "cell_type": "markdown",
   "metadata": {},
   "source": [
    "### Q7: Scrape 100 reviews data from flipkart.com for iphone11 phone."
   ]
  },
  {
   "cell_type": "code",
   "execution_count": null,
   "metadata": {},
   "outputs": [],
   "source": [
    "import selenium\n",
    "import pandas as pd\n",
    "from selenium import webdriver"
   ]
  },
  {
   "cell_type": "code",
   "execution_count": 2,
   "metadata": {},
   "outputs": [],
   "source": [
    "driver=webdriver.Chrome(\"chromedriver.exe\")"
   ]
  },
  {
   "cell_type": "code",
   "execution_count": 19,
   "metadata": {},
   "outputs": [],
   "source": [
    "url='https://www.flipkart.com/apple-iphone-11-black-64-gb-includes-earpods-power-adapter/p/itm0f37c2240b217?pid=MOBFKCTSVZAXUHGR&lid=LSTMOBFKCTSVZAXUHGREPBFGI&marketplace.'\n",
    "driver.get(url)"
   ]
  },
  {
   "cell_type": "code",
   "execution_count": 20,
   "metadata": {},
   "outputs": [],
   "source": [
    "review_btn=driver.find_element_by_xpath('//div[@class=\"_3UAT2v _16PBlm\"]')\n",
    "review_btn.click()"
   ]
  },
  {
   "cell_type": "code",
   "execution_count": 6,
   "metadata": {},
   "outputs": [],
   "source": [
    "import time\n",
    "from selenium.common.exceptions import NoSuchElementException"
   ]
  },
  {
   "cell_type": "code",
   "execution_count": 16,
   "metadata": {},
   "outputs": [],
   "source": [
    "Rating=[]\n",
    "Review_summary=[]\n",
    "Full_Review=[]\n",
    "\n",
    "for page in range(1,11):\n",
    "    \n",
    "    time.sleep(1)\n",
    "    \n",
    "    rating=driver.find_elements_by_xpath('//div[@class=\"_3LWZlK _1BLPMq\"]')\n",
    "    review_summary=driver.find_elements_by_xpath('//p[@class=\"_2-N8zT\"]')\n",
    "    full_review=driver.find_elements_by_xpath('//div[@class=\"t-ZTKy\"]')\n",
    " \n",
    "    \n",
    "    \n",
    "    for i in rating:\n",
    "        Rating.append(i.text)\n",
    "        \n",
    "    for i in review_summary:\n",
    "        Review_summary.append(i.text)\n",
    "        \n",
    "    for i in full_review:\n",
    "        Full_Review.append(i.text)\n",
    "        \n",
    "    \n",
    "        \n",
    "    \n",
    "    \n",
    "    \n",
    "    \n",
    "      \n",
    "    nxt_button=driver.find_elements_by_xpath(\"//a[@class='_1LKTO3']\")\n",
    "\n",
    "    try:\n",
    "                 \n",
    "        driver.get(nxt_button[1].get_attribute('href'))   \n",
    "       #getting the link from the list for next page\n",
    "        \n",
    "\n",
    "    except:\n",
    "\n",
    "        driver.get(nxt_button[0].get_attribute('href'))\n",
    "    \n",
    "    \n",
    "        \n",
    "\n",
    "   "
   ]
  },
  {
   "cell_type": "code",
   "execution_count": 17,
   "metadata": {},
   "outputs": [
    {
     "name": "stdout",
     "output_type": "stream",
     "text": [
      "98 100 100\n"
     ]
    }
   ],
   "source": [
    "print(len(Rating),len(Review_summary),len(Full_Review))"
   ]
  },
  {
   "cell_type": "code",
   "execution_count": 18,
   "metadata": {},
   "outputs": [
    {
     "data": {
      "text/plain": [
       "['5',\n",
       " '5',\n",
       " '5',\n",
       " '5',\n",
       " '5',\n",
       " '5',\n",
       " '4',\n",
       " '5',\n",
       " '5',\n",
       " '5',\n",
       " '5',\n",
       " '5',\n",
       " '5',\n",
       " '5',\n",
       " '5',\n",
       " '5',\n",
       " '5',\n",
       " '4',\n",
       " '5',\n",
       " '5',\n",
       " '5',\n",
       " '5',\n",
       " '5',\n",
       " '4',\n",
       " '5',\n",
       " '5',\n",
       " '5',\n",
       " '5',\n",
       " '5',\n",
       " '5',\n",
       " '5',\n",
       " '5',\n",
       " '4',\n",
       " '5',\n",
       " '5',\n",
       " '5',\n",
       " '5',\n",
       " '5',\n",
       " '5',\n",
       " '5',\n",
       " '5',\n",
       " '5',\n",
       " '5',\n",
       " '4',\n",
       " '5',\n",
       " '5',\n",
       " '5',\n",
       " '5',\n",
       " '5',\n",
       " '5',\n",
       " '5',\n",
       " '5',\n",
       " '5',\n",
       " '5',\n",
       " '5',\n",
       " '5',\n",
       " '5',\n",
       " '5',\n",
       " '5',\n",
       " '5',\n",
       " '5',\n",
       " '5',\n",
       " '5',\n",
       " '4',\n",
       " '5',\n",
       " '5',\n",
       " '4',\n",
       " '5',\n",
       " '4',\n",
       " '5',\n",
       " '5',\n",
       " '5',\n",
       " '5',\n",
       " '5',\n",
       " '5',\n",
       " '4',\n",
       " '5',\n",
       " '5',\n",
       " '5',\n",
       " '4',\n",
       " '5',\n",
       " '5',\n",
       " '5',\n",
       " '5',\n",
       " '5',\n",
       " '3',\n",
       " '4',\n",
       " '3',\n",
       " '5',\n",
       " '5',\n",
       " '5',\n",
       " '5',\n",
       " '5',\n",
       " '5',\n",
       " '5',\n",
       " '4',\n",
       " '4',\n",
       " '4']"
      ]
     },
     "execution_count": 18,
     "metadata": {},
     "output_type": "execute_result"
    }
   ],
   "source": [
    "Rating"
   ]
  },
  {
   "cell_type": "code",
   "execution_count": 21,
   "metadata": {},
   "outputs": [
    {
     "data": {
      "text/plain": [
       "['Brilliant',\n",
       " 'Perfect product!',\n",
       " 'Worth every penny',\n",
       " 'Fabulous!',\n",
       " 'Great product',\n",
       " 'Simply awesome',\n",
       " 'Good choice',\n",
       " 'Worth every penny',\n",
       " 'Highly recommended',\n",
       " 'Perfect product!',\n",
       " 'Perfect product!',\n",
       " 'Worth every penny',\n",
       " 'Perfect product!',\n",
       " 'Highly recommended',\n",
       " 'Worth every penny',\n",
       " 'Simply awesome',\n",
       " 'Terrific',\n",
       " 'Nice product',\n",
       " 'Highly recommended',\n",
       " 'Classy product',\n",
       " 'Wonderful',\n",
       " 'Brilliant',\n",
       " 'Must buy!',\n",
       " 'Good choice',\n",
       " 'Perfect product!',\n",
       " 'Terrific purchase',\n",
       " 'Wonderful',\n",
       " 'Simply awesome',\n",
       " 'Great product',\n",
       " 'Mind-blowing purchase',\n",
       " 'Terrific purchase',\n",
       " 'Simply awesome',\n",
       " 'Good quality product',\n",
       " 'Very poor',\n",
       " 'Best in the market!',\n",
       " 'Perfect product!',\n",
       " 'Must buy!',\n",
       " 'Fabulous!',\n",
       " 'Mind-blowing purchase',\n",
       " 'Mind-blowing purchase',\n",
       " 'Wonderful',\n",
       " 'Worth every penny',\n",
       " 'Great product',\n",
       " 'Just wow!',\n",
       " 'Very Good',\n",
       " 'Super!',\n",
       " 'Perfect product!',\n",
       " 'Classy product',\n",
       " 'Perfect product!',\n",
       " 'Just wow!',\n",
       " 'Awesome',\n",
       " 'Terrific',\n",
       " 'Terrific purchase',\n",
       " 'Awesome',\n",
       " 'Perfect product!',\n",
       " 'Brilliant',\n",
       " 'Perfect product!',\n",
       " 'Classy product',\n",
       " 'Awesome',\n",
       " 'Perfect product!',\n",
       " 'Excellent',\n",
       " 'Not recommended at all',\n",
       " 'Fabulous!',\n",
       " 'Excellent',\n",
       " 'Must buy!',\n",
       " 'Value-for-money',\n",
       " 'Brilliant',\n",
       " 'Terrific purchase',\n",
       " 'Good quality product',\n",
       " 'Perfect product!',\n",
       " 'Value-for-money',\n",
       " 'Just wow!',\n",
       " 'Super!',\n",
       " 'Best in the market!',\n",
       " 'Mind-blowing purchase',\n",
       " 'Excellent',\n",
       " 'Excellent',\n",
       " 'Pretty good',\n",
       " 'Must buy!',\n",
       " 'Worth every penny',\n",
       " 'Mind-blowing purchase',\n",
       " 'Good quality product',\n",
       " 'Fabulous!',\n",
       " 'Awesome',\n",
       " 'Awesome',\n",
       " 'Terrific purchase',\n",
       " 'Awesome',\n",
       " 'Decent product',\n",
       " 'Pretty good',\n",
       " 'Does the job',\n",
       " 'Wonderful',\n",
       " 'Classy product',\n",
       " 'Super!',\n",
       " 'Fabulous!',\n",
       " 'Excellent',\n",
       " 'Best in the market!',\n",
       " 'Brilliant',\n",
       " 'Wonderful',\n",
       " 'Nice product',\n",
       " 'Good quality product']"
      ]
     },
     "execution_count": 21,
     "metadata": {},
     "output_type": "execute_result"
    }
   ],
   "source": [
    "Review_summary"
   ]
  },
  {
   "cell_type": "code",
   "execution_count": 22,
   "metadata": {},
   "outputs": [
    {
     "data": {
      "text/plain": [
       "['The Best Phone for the Money\\n\\nThe iPhone 11 offers superb cameras, a more durable design and excellent battery life for an affordable price.\\n\\nCompelling ultra-wide camera\\nNew Night mode is excellent\\nLong battery life',\n",
       " 'Amazing phone with great cameras and better battery which gives you the best performance. I just love the camera .',\n",
       " 'Previously I was using one plus 3t it was a great phone\\nAnd then I decided to upgrade I am stuck between Samsung s10 plus or iPhone 11\\nI have seen the specs and everything were good except the display it’s somewhere between 720-1080 and it’s not even an amoled it’s an LCD display\\nBut I decided to go with iPhone because I have never used an IOS device I have Been an android user from the past 9 years I ordered IPhone 11 (128gb) product red\\nMy experience after using 3 weeks\\n1. The delivery ...\\nREAD MORE',\n",
       " 'This is my first iOS phone. I am very happy with this product. Very much satisfied with this. I love this phone.',\n",
       " 'Amazing Powerful and Durable Gadget.\\n\\nI’m am very happy with the camera picture quality, Amazing face id unlocked in dark room, Strong battery with perfect screen size as you can carry easily in pocket. This is my third iPhone.\\n\\nI shifted from android Samsung Note series to iPhone because of the strong build quality and peace of mind for next 3-4 years.\\n\\nDon’t think to much just go for it and I suggest you to go for minimum 128gb variant or more 256gb.\\n\\nI’ve attached my puppy pics and no fi...\\nREAD MORE',\n",
       " 'Really satisfied with the Product I received... It’s totally genuine and the packaging was also really good so if ur planning to buy just go for it.',\n",
       " 'So far it’s been an AMAZING experience coming back to iOS after nearly a decade but it’s not as versatile as android though phone is sturdy dropped it accidentally a couple of times and nothing happened fortunately camera is awesome',\n",
       " 'i11 is worthy to buy, too much happy with the product. Thank u flipkart I received the item on time..loved it..',\n",
       " 'iphone 11 is a very good phone to buy only if you can compromise for the display. The display on this is device is pretty good but you can get other options with better displays in this price segment.\\nIf you can survive with an HD+ LCD panel with thicker bezels and a notch up top then this is a very good phone for you.\\nCameras are awesome, battery backup excellent, great performance and a decent premium look. Good job Apple !',\n",
       " 'It’s a must buy who is looking for an upgrade from previous generation of iPhones. If you are using XR then still you can hold on for sometime and upgrade to 2020 model else this phone is a must buy . Camera quality is amazing and wide angle is something to count upon. Performance wise it’s amazing and feels premium while holding in hand. So a big YES for this device. Go for 128 GB variant as the 4K videos will occupy lots of space and the storage can get over very quickly. Try to buy it with...\\nREAD MORE',\n",
       " 'Value for money❤️❤️\\nIts awesome mobile phone in the world ...\\nDisplay was very good and bright ..\\nTrust me freinds you r never regret after Buying..\\nJust go for it....\\nI love this phone and i switch to iphone x to 11',\n",
       " 'Best budget Iphone till date ❤️ go for it guys without second thought. Let me explain you guys about Camera, Display, battery, and performance.\\n\\nCamera: at this price range there is no comparison of camera, you’ll love the picture quality as well as video quality. I am a Vlogger I wanted an iPhone with 4k video by front camera and I got this phone and I am more than happy 😃\\n\\nBattery: I use this phone roughly as I am active social media person and I have a youtube channel. so the battery ba...\\nREAD MORE',\n",
       " \"Iphone is just awesome.. battery backup is very very nice.. continuously for 10 hours we can use it.camera is just awesome.. display is just fab.i love it alot..i had to wait 15 days for it as i pre ordered it..overalll it's worth the price..these all images are clicked by my iPhone..and i love it.\",\n",
       " 'What a camera .....just awesome ..you can feel this iPhone just awesome . Good for gaming also ...try pubg in hd it’s just wow',\n",
       " 'It’s been almost a month since I have been using this phone. I upgraded from an iPhone 8. The main issue with my 8 was battery and this phone is just awesome when it comes to battery. It lasts a day and a half for me with my regular use , internet connected always with 4g\\nCan’t move forward without saying this. Battery of this phone is a life saver when I am traveling or at work when I don’t get the option to charge\\nCamera is superb. Front cam selfies and back cam photos are just awesome.\\n...\\nREAD MORE',\n",
       " 'Excellent camera, good performance, no lag. The lcd display is also good.. but difference come when we watch movie in prime and Netflix, the colours are not vibrant.. as we see in amoled display.. and the charger in box is of 5 watts.. takes more than 3 hours to charge from 0 to 100.. so guys be prepare to buy 18 watts charger . Finally I am an android user, it was my first Iapple phone, I promise u guys the iOS is so smooth.. overall the phone is damn good.... close eyes to buy it.. thanks t...\\nREAD MORE',\n",
       " 'Really worth of money. i just love it. It is the best phone ever.',\n",
       " 'Awesome Phone. Slightly high price but worth. Better than iPhone XR.\\nCamera is superb and wide angle camera is very clear.\\n12MP selfie camera is also very good.\\nA13 Chip gives a very good and smooth performance.',\n",
       " \"It's my first time to use iOS phone and I am loving my upgradation 😍😍 I love the color, I love the assebility of the phone....I need to learn more about its functionality, but as far as I have seen, it's quite easy and it has a lot of functions to work on, specially if you are a content writer or a blogger you get a lot of content creation platforms and they are really amazing.\\n\\nThis phone not only for good quality photography but a lot of other task too.😍💯\",\n",
       " 'Superb Product !!!\\nA big and worthy upgrade from mi 3S to iphone 11 .\\nTotally loved it !',\n",
       " 'This is my first ever I phone. Before this I was using my google nexus 5. But moving from android to iOS is a great experience. It’s worth at this price. I will highly recommend it if you want to move to iOS. The best part of this phone is it’s camera and it’s battery life. This two things have won my heart. I loved it. Happy to have it in my hand. Still exploring its features. And can’t forget to mention Flipkart service. Very prompt service and fast delivery.',\n",
       " 'I have migrated from OP 7pro... and trust me, iPhone 11 is totally worth it.. following are the reasons:-\\n1)there is ABSOLUTELY NO ISSUE WITH THE DISPLAY... its crisp, sharp and I found it to be much much better than OP7 pro. Netflix, Prime video all run crisply... you won’t miss a thing. True Tone works flawlessly...the display brightness is perfect. OP have not calibrated their screens properly.\\n2) iPhone 11 series have really good cameras... others have spoken in depth about them.\\n3) bat...\\nREAD MORE',\n",
       " 'It’s an amazing product from apple and the camera is simply superb. Phone is faster.Night shot is simply superb and detailing and colour differentiation from camera is an added advantage\\n\\nThis review I have written from iPhone 11 only and I am glad to say outside.\\n\\nCons wise if we see HD+ display only, no battery percentage indicator as in older iPhone 8.\\nNo assistive touch control button in it\\nNo oleophobic coating on back panel glass and finger prints are visible but since I bought mint gr...\\nREAD MORE',\n",
       " 'Looking so good 👍 😍 super 👌 stylish 😎 phone\\nClean box 📦 good 👍 delivery 👌 fast delivery\\nOriginal box Original iphone 📱 👌 😍😍😍',\n",
       " 'After 1 month use I found camera quality best compared to my previous Samsung note 10+.Display not good as note 10 also charging too slow.Apple should add fast charger like 11 plus and pro.Best phone for daily use',\n",
       " 'Upgraded from iphone 6 to 11 best phone for iphone users battery is much better than other iphones camera is awesome love to use it.camera is so clear in night.',\n",
       " 'I just directly switch from iphone 6s to iphone 11 .The best premium smartphone I recommend to everyone. Excellent quality and colors the iphone have in 11 series.\\nCamera quality is just awesome and the major feel when we hold in our hands. The sound quality and volume is also higher then the previous models.\\nI will recommend to buy iphone 11 instead of pro models , there is nothing much difference as this model contains everything which fulfill our needs.\\n\\nOnly one thing that I dislike abo...\\nREAD MORE',\n",
       " \"It's very high performances devise i am like the service of flipkart delevary very fast and packing very nice perfect phone\",\n",
       " 'Well you all know the specifications . One of a kind. Best iPhone till date. Many enhancements to the camera app with many options. Love the glass body with matte finish in the lens area on the back. Lovely colours to choose from. Best battery in an iPhone till date, enough to last more than a day in normal usage. I tested my iPhone 11 battery and lasted for than 24 hours after full charge still with 30% battery charge left. Watched movies for some time. Normal usage on calls, browsing, musi...\\nREAD MORE',\n",
       " 'This will help you more. See if you are planning to buy iPhone 11. I will say. Yes. But there are some plans I just want to disclose before you buy. 1) If you are an existing iPhone X/XS/XS Max/ XR user, better you guys do not think it to buy. You guys have more or less better gadget. 2) If you are an android user and planning to buy premium phone. I will suggest them to please buy iPhone instead of buying an Android. I bet you will never go back to android after using IOS. Now I want to shar...\\nREAD MORE',\n",
       " 'The built quality is not very premium.\\nThe battery back is great .\\nThe LCD panel is not so sharp but the brightness level is very High .\\nCamera is super duper awesome.\\nThe red colour which people think is bright is actually very soothing and excellent colour to choose from .\\nThe A13 Bionic chip is really a flagship processor and can beat any phone which even has 12 gb ram .\\nCamera module is very great and looks very stylish.',\n",
       " 'Really good actually this is my first apple product am using its really awesome performance wise excellent. Am really happy with this iphone11',\n",
       " 'it is very good at performance. Camera is best like before and very smooth response even in water. Don’t buy 12 mini buy iPhone 11 , it is far better than 12 mini believe me ! Have a nice day \\uf8ff ☺️',\n",
       " 'Reviewing again after 5 months. At the beginning the battery and performance was good but it degraded soon. Also I was facing heating issues. The mobile will heat up like a stove sometimes. You cannot even play Pubg even in low settings properly, performance is not a problem but heating is. Also if you play that game for 10 mins the brightness will be automatically down due to over heating even when the auto brightness is set to off. This will not be solved even if u manually increase the bri...\\nREAD MORE',\n",
       " 'Great iPhone very snappy experience as apple kind. Upgraded from iPhone 7.\\nPros\\n-Camera top class\\n- Battery top performed\\n-Chipset no need to say as apple kind\\n-Security as you expect from apple\\n- Display super bright industry leading colour\\naccuracy and super responsive\\n-Build quality as expect from apple sturdy\\npremium durable beautiful stylish.\\n-Os most stable os in smartphone industry\\n\\nCons\\n-No 5G\\n-Display is not based on OLED technology\\n-Charger headphones and 1 apple stic...\\nREAD MORE',\n",
       " 'It is just awesome mobile for this price from Apple,\\n\\nAfter 10 days review\\n\\nBattery enough for 1 day even 24*7 Internet will be on and mostly internet usage\\n\\nCamera is just awesome cool , android 64 MP is equal to this just 12 MP\\n\\nA13 Bionic chip will give more high performance without hanging\\n\\nAudio stereo speakers will give Dolby atoms sound with crystal clear\\n\\nVideo recording is like cinematic shots of every sec can be a 4K 60fps. Just awesome this phone\\niPhone 11 loved one',\n",
       " 'Best Apple iPhone that i have bought at a very reasonable price, camera quality is next level just awesome n of superior quality android phones not even close(RIP) to that and also battery is really good but packaging by Flipkart of iPhone was very poor of such a expensive product, firstly im bit worried about the quality of product if i purchased it through online how was the product but i think now this was mine best decision to bought it through Flipkart online because i got genuine Apple...\\nREAD MORE',\n",
       " \"I can say I'm damn impressed with iPhone 11. As they says iPhone 11 have the toughest glass ever in the smartphone which you'll find on the front and back and it's totally smooth. The fit and finish is full apple quality - there's no sense that any cheaping out has happened in the construction. Without saying it's camera features this review won't complete. The iPhone 11 has a dual camera system, consisting of a wide angle len's that's pretty much same as found on the iPhone XR last year, but...\\nREAD MORE\",\n",
       " 'Best Quality Product OF iPhone Series , Sound Quality & Camera quality is very awesome, Battery Life is very Sufficient for 24 hr Backup With Full Internet Access , I love this this Product too much , It is very fast & making me Very fast in all my daily Routine\\nHighlights;\\n1.Camera: 5 STAR\\n2.Video Recording: 5 star\\n3.Night mODE sHOOTING & Camera:4 star\\n4. Audio Quality: Awesome\\n5. Battery : 5 Star\\n6. Touch:5 Star\\n7. Processor: Very Fast\\nThe M...\\nREAD MORE',\n",
       " 'First thanks to Flipkart for this amazing deal and phone is outstanding. I upgraded from iPhone 7 and this is like very big upgrade. But the packaging was very basic I expected a good packaging as they only wrapped one layer of bubble wrap which I don’t think is enough to protect this expensive phone. And I recommend this phone and seller as well.\\n\\nAnd I’m posting this review after using it for 4 days.',\n",
       " 'Superfast delivery by Flipkart. Thanks.\\n\\n1. iPhone 11 is a pretty solid phone for the money you are paying.\\n2. All the bad reviews about the display is confusing. It’s not that bad.\\n3. I switched from a Oneplus 7t. I have no complaints about the display quality of iPhone. Yes, it’s not OLED, so, we are missing on the deep blacks. But that’s it. It is a very colour accurate display. Gets adequately bright and I could not find any pixelation.\\n4. Performance is one of the best, if not best, in ...\\nREAD MORE',\n",
       " 'Smooth like butter, camera like fantabulous, sound is crystal clear & its red color is damn attractive, i am just loving it. Must buy if you love photography.\\n\\nLucky to get it in sale, thank you Flipkart.',\n",
       " \"Again back to apple iphone after a gap of 2-3 years. It's pleasure to use iOS and the quality product by Apple. Iphone 11 still works like a beast in 2021 also. It really capable of doing day to day usage as well as hard core gaming. Battery is awesome. I'm really too much satisfied with it. Apart fto the very gorgious IPS LCD (AMOLED will be better) everything is mind boggling. Iphone💕.\",\n",
       " 'The ultimate performance\\nCamera is superb\\nThe battery backup also very good i never saw iphone gives this much of battery backup\\nIf any one wana buy iphone 11 definitely i will recommend this mobile\\nIt has the better battery and powerfull processer peak performance glorious camera and the display also 100% high quality lcd display if u had money for for 12 if u dont wana invest much money on that then go for iphone 11 it has maximum same specs only main difference between the 12 and 11 is...\\nREAD MORE',\n",
       " 'impressive super phone and best in class camera ,sound and face unlock is super fast just see and phone is unlock and fast in daily apps use',\n",
       " \"It's a great phone. From camera to display everything is best for the price.\\nBest camera , best performance. I think everyone should buy it . This phone has best battery life so far in iphone series which I had used earlier. Happy to have it. Thanks Flipkart\",\n",
       " 'Battery backup is extraordinary, camera is decent & performance offered by A13 bionic is awsome. The display is good in practical usage like the visibility of display is very good in direct sun light compare to pro models. Iam extremely satisfied for the money I spent.',\n",
       " 'Well while switching from android to iOS the first thing you need to be careful about is that you will loose all your whatsapp chat backups as both are different operating systems. Camera clarity is awesome and though being an lcd screen clarity and resolution is good. Battery backup is also good unlike previous gen iPhone. So far the experience is good will Padre after a few months of usage.\\n\\nP.S the black is more of a dark grey shade and not jet black',\n",
       " 'In love with this iphone great performance,camera ,battery everything. Go for it have a uncompareble battery backup, no doubts in iPhone camera here You can see the picture which is shot on my iPhone In love with this iphone great performance,camera ,battery everything. Go for it have a uncompareble battery backup, no doubts in iPhone camera here You can see the picture which is shot on my iPhone In love with this iphone great performance,camera ,battery everything. Go for it have a uncompare...\\nREAD MORE',\n",
       " 'Best in class. Battery backup is good especially when you play games like Pubg COD. But it is sort of heavy when you hold in hands. Portrait mode is best to click pictures. Stage light effect is awesome. Try to click photos outside in nature because photos inside home or room will not give you the quality in any phone even in DSLR.',\n",
       " 'Very excited to have this phone. This phone has the real power unlike the android phones having SD 855 . The battery life is very good and the camera quality is excellent as comapred to redmi and other phones except google pixel. I M enjoying every single bit of it. Would recommed only if you have the budget.',\n",
       " \"I upgraded (downgraded?) from my iPhone X since the phone fell down and I didn't want to repair the screen. The box that the phone came in was super slim and I was worried that there'd be no 5W charger with it and my fears were confirmed. However, thankfully I had the 18W USB-C PD charger from Apple which I bought for my iPhone X and it worked perfectly. The charging time is as lethargic as ever though and it takes about 1:30 mins or even 2 hours depending on charge remaining. I'll list some ...\\nREAD MORE\",\n",
       " 'Its Very awesome product working and good camera quality and all about best product and also flipkart is very great deal and offer nice price',\n",
       " 'I am using this phone for 5 days and its one of the best camera out there ❤️ the screen is not oled and i am coming from iphone xs so its little bit not up to the mark i would say\\nBut overall value for money💕😍the battery back up is far better than my iphone xs and its worth in my apple ecosystem💫❤️if u are an apple User and have the eco system then go for it❤️though i will be getting the new iphone but its pretty good💫',\n",
       " 'Best and amazing product.....phone looks so premium.... battary is also good as expected .... Wide angle camera is so addictive ...if you are a IOS lover....then this phone will be the best choice for you all!!💯🔥',\n",
       " 'Excellent camera and display touching very nice and smooth very improvement against iPhone XR and new processor is very fast',\n",
       " 'Awesome purchase. Amazing phone with good battery backup. It’s a top notch device. White colour looks amazing. Phone has a few extra feature than iPhone XR. Overall, this is value for money',\n",
       " 'Totally in love with this ❤ the camera quality is amazing just love it 😘😘😘 itsss dammnnnnnn amazing... Must buy iPhone 11 this is my best experience ever ☀👌👌🧡🧡🧡🧡🧡 thanku apple ❤',\n",
       " 'Always love the apple products, upgraded from old iPhone 6S plus to this after having my first baby. I just love to click baby’s photos with it. Overall I just love this phone. Battery back up is okay, sound quality is good. Haven’t tested yet waterproof yet. Only one thing I hate is apple could have given charger & headphones in box.',\n",
       " 'Value for money\\n5 star rating\\nExcellent camera\\nBattery backup full day in single charge.\\n\\nTougher and water resistant design, glossy back.\\nThe screen has excellent brightness and contrast.\\nApple A13 Bionic is the fastest smartphone chip on the planet.\\nExcellent battery life, fast charging support.\\nStereo speakers with great quality.',\n",
       " 'Amazing camera and feel super machine I am not describe my feeling but this is amazing Phone I am so lucky I have this',\n",
       " 'They are selling cheep quality items. There is a black line on the edge of the display. Waiting for the replacement..\\n\\nUpdate:today I got the replacement from flipkart.. The second one is nice and the display and camera quality is much better than the previous one.. Thanks for the support',\n",
       " 'awesome phone to have. it has got many smart features apart from mind blowing looks, camera, display, battery and sound. have fallen in love with this phone. must buy phone if you have got enough money. thanks to flipkart and apple of course..',\n",
       " 'Its a fabulous mobile look awesome performance unbeaten camera like dslr battery good i think this is a beast of mobile',\n",
       " 'Dear friends... I want to share my experience with you about this amazing I phone 11....this is my first iPhone and special things about this mobile is it has great camera, battery backup and awesome display.... I mean everything is perfect.loved it 👍👍👍',\n",
       " \"Just got this iphone 11\\nAnd it is most powerful mobile phone I have used ever\\n\\nSo,go for it if you want a phone with best specification like camera,battery backup,display, A13 bionic chip\\n\\nThat's my review about this phone but yours can be differ from me....\",\n",
       " 'Amazing phone and on great deal I received with super fast delivery by Flipkart...',\n",
       " 'finally an iPhone with very nice battery backup. update from iPhone 7 and happy to have it. camera is not up to the mark in low light but overall a recommended phone if your budget allows 😀',\n",
       " \"I'm switching this phone to oppo reno 10x zoom\\nIt's really impressive\\nRarely I'm missing smooth display touch response like oppo reno but\\nI really loved it.\\nCamera really impressive\",\n",
       " 'Worth the money’ starting first from its performance it beats out all phones , second the smoothness of camera is awesome, contrast ratio is much than expected. Price will not matter if u r a quality person, if not other phones are available with better discount',\n",
       " \"I'm Really happy with the product\\nDelivery was fast as well\\n..it was a gift for my sister and she loved it so much.\",\n",
       " 'Great iphone.\\nI am writing this review after 2 months of usage.\\nCamera is excellent, especially the nightmode\\nDisplay perfect\\nBattery backup awesome\\nSound quality very good\\nOverall Apple gives you a perfect iphone in this range.\\nReally in love with iPhone 11',\n",
       " 'Did an upgrade from 6s plus to iphone 11.\\nAo far the experience is well and good. Felt smoother than 6s plus. The camera quality is superb. Battery backup is descent. Not a heavy user, and gets power more than a day. Go for it if you need an alrounder iphone in a competitve price.',\n",
       " 'Damn this phone is a blast . Upgraded from android to ios and is a duperb experience. Battery backup is top notch and display also pretty good',\n",
       " 'awesome Phone Smooth Touch Too good Sexyy looks one word Awesome',\n",
       " \"Just go for it.\\nThis phone is really amazing. I ordered it for my wife and we click photos on this thing which are better than dslr. I own OnePlus 6t but it's camera sucks. iPhone is really amazing when it comes to camera. It's worth spending 50k on this. Cons- only display is lcd. While using u don't feel it but if u compare with other phone then u can see difference quite easily.\\nChanging from Android to iphone is bit difficult coz most of things u don't know but I liked it. Some of the a...\\nREAD MORE\",\n",
       " \"It was amazing experience for me. Honestly i am using iPhone first time so I don't have that much past experience about that. But after using 7 days this mobile i want to give some honest feedback.\\n1- Display 9 out of 10\\n2- Camera 9.5 out of 10\\n3- Battery 7 out of 10\\n4- Performance 9.5 out of 10\\n5- Features & Functions 10 out of 10\\n6- Outer looks and colour 10 out of 10\\nRest i think i will understand after using this for few months.\\nI will highly recommend you guys if you have budget then you...\\nREAD MORE\",\n",
       " \"I've used this phone for over a month now and here are my takeaways.\\nI would like to first talk about the best things about this phone and then the cons of it.\\n\\nPros:\\nThis phone is a performance beast. It handles large games and applications effortlessly and you won't find any stutters or lags while playing graphic intensive games like pubg, cod , mortal kombat and asphalt.\\n\\nThis phone has only 4gb ram and yet the ram management is amazing, it can keep 3 heavy games in memory without reload...\\nREAD MORE\",\n",
       " 'I rate this product 5* as it has got amazing user experience with the best performing A13 bionic processor. The screen responds and graphics rendering is top notch. With casual gaming and internet browsing, the battery lasts for approx. 1 day. Camera is very good. You will fall in love with the portrait mode. You can call me a loyal Apple customer or whatever but I won’t stop praising the products and overall experience. That user experience matters and is worth every penny you pay.\\n\\nBelow ar...\\nREAD MORE',\n",
       " 'Undoubtedly Iphone 11 is the most successful model till now and its performance is extraordinary and the security features are very impressive, display is more vibrant sound quality Camera Quality 5*****, but Iphone should add accessories too and act like scrooge.',\n",
       " 'Absolutely powerful gadget. Loved it’s look! Soo glassy and classy. I would definitely recommend this model of Apple. Only disappointed with the 5W charger, one should purchase an 18W adapter for fast charging. Though battery backup is great. Bought it in September 2020, reviewing after so long so I’m gonna put the genuine review here.✅',\n",
       " 'I was torn between the oneplus 8 pro and the iphone 11. I had to shell out extra money for this, but I say if you can afford it, this truely is the best package.\\nMind blowing camera, battery and overall performance. Face Id works like magic even in complete darkness without firing up the screen brightness. The phones with in display fingerprint scanners do this at night time and it really burns your eyes.\\nI wanted the oneplus for its display but tbh the OLEDs on oneplus is really bad. Flick...\\nREAD MORE',\n",
       " 'I purchased the iPhone 11 a month back. I must say Apple has impressed me yet again . I have been an Apple user for past 5 years . The phone is power packed with amazing features . What impressed me the most was the battery backup the phone offers . Battery can easily run upto 1.5 days in single charge with moderate to\\nHeavy usage . If you’re looking for a value for money device , I don’t see any other phone in the price range which can match the iPhone 11 .\\nOne thing I didn’t like was that ...\\nREAD MORE',\n",
       " 'Can’t beat the software and hardware integration of apple.\\nPerforms like a beast. Great quality camera\\n6-7 hours screen on time which is good. Nothing much to complaint about the screen. Good connectivity speeds.\\nGreat buy and Flipkart’s delivery top notch as usual',\n",
       " 'I dreamt about this day from a long time.... Getting an iPhone with my own money.... Super happy and worth spending every penny',\n",
       " 'I use a Note10+ and have been using both iOS and Android devices.\\n\\nCamera has really good features and portraits are super good, better than Samsung flagship. Overall camera setup can still be enhanced and hopeful for better upgrades on software in next release\\n\\nOperating system is quite a breeze and user experience of daily usage is very high as compared to Android. I moved to iOS very swiftly in 2 days for all my office work from Note10+\\n\\nBattery holds up quite well with 4 hrs of call and ...\\nREAD MORE',\n",
       " 'The phone is completely good\\nAs far as camera Apple is king of it\\nAnd its a beast in performance\\nAnd the battery is pretty good too',\n",
       " 'Everything u ll like it when u use this iPhone. Simple changes only not many to lower models but it’s nice to use. Little heavy compared to previous models like 7,8',\n",
       " 'I was using Iphone 6s and also Oneplus 6t. Both mobiles were perfectly alright in Photos, gaming, and smooth interface . My 6s mobile getting battery issue. thought upgrade to 11. Really like this mobile of its Internal storage (compare to 6s) , camera and its touch feeling. Its a worth buying mobile for me.',\n",
       " \"phone is good but in display is 720p lcd in this price range we can get full hd OLED displays with higher refresh rate processor is very good camera is nice but looks kind of oldish in front of todays phone also there's no charging in box had to buy it seperately\",\n",
       " 'Nice value for money good and best price I phone mind blowing camera processor very fast other android mobile I am happy India top selling phone 2020',\n",
       " 'We are on apple ecosystem for almost eight years now with couple of iPads and iPhones, including Xr.\\n\\nBought iPhone 11 as a gift to my daughter who loves it. We chose for a purple coloured one. Believe me it is gorgeous and towards the lighter shade. Dazzling and brilliant!\\n\\nThe phone is great and does excellent RAM management like any other Apple device.\\n\\nThe screen, though a LCD and lesser ppi as compared to other flagship phones of competitor brands, is a delight to watch with perfect re...\\nREAD MORE',\n",
       " 'This is my first ever iPhone.\\nAnd I truly don’t regret switching to IOS from my Android.\\n\\nIt is easily an alternative to a DSLR camera.\\nIf you’re obsessed with photos and videos, just don’t think twice or don’t compare to other androids(Samsung S10 lite or OnePlus 8/8T), as it’s far better from them in every field.\\nComparing will only make you confused.\\n\\nI am getting an average Screen on Time of around 10 hours with 30 percent left. I haven’t let my device discharged below 30 % as it aff...\\nREAD MORE',\n",
       " 'Everything is perfect pictures come out so clearly and at first I wasn’t sure when I got it then when I started to use it and get the hang of it it was amazing!! I can’t wait to see what the next future phones will be like. The screen display on this bad boy are unbelievable they are so clear and never fail me. The performance is super cool there is a lot of cool features as well I like this phone because I feel that it is easy to use and one of my favorite things about this phone is the Face...\\nREAD MORE',\n",
       " 'Value for money product. This iphone 11 is really amazing. Again nice release by apple. Great camera, battery backup is excellent. I just love this phone',\n",
       " \"The best all rounder iphone. Flipkart is doing a great job. They're delivery services are blazing fast. I got delivery on the same day. Genuine Apple Product. Working great. Talking about review There's no need of review for iphones. They're simply the best.\",\n",
       " 'A wort full value for money decision it’s . Simply go for it in 2021 its still a good decision . Awesome camera , Super smothered performance, Heck of build quality. And Most important it protects your privacy.',\n",
       " \"I genuinely liked it. One of the best mobile phones I have used. It's sho smooth and it's security is very astonishing. Plus it has a very good camera quality. so overall it's a win win.\",\n",
       " \"If you are looking for a premium phone under 55k, this is the one for you.Got the iPhone 11 during the Republic day sale. Performance is top notch in this price range. Camera's do a perfect job in taking good quality photos and videos. Battery backup too is satisfactory. Writing this review after using for a week. Any further observations would be updated.\",\n",
       " 'Awesome camera, smooth and fast UI, display is great (though not LED) but the black area at the top could have been reduced. Battery remains a day even if used heavily. Charger in the box is ok, but 12 or 18W could have been nothing like anything. Overall an excellent product and comfortable to use. I have got it almost a month back and so far so good.']"
      ]
     },
     "execution_count": 22,
     "metadata": {},
     "output_type": "execute_result"
    }
   ],
   "source": [
    "Full_Review"
   ]
  },
  {
   "cell_type": "markdown",
   "metadata": {},
   "source": [
    "### Q8: Scrape data for first 100 sneakers you find when you visit flipkart.com and search for “sneakers” in the search field."
   ]
  },
  {
   "cell_type": "code",
   "execution_count": null,
   "metadata": {},
   "outputs": [],
   "source": [
    "driver=webdriver.Chrome(\"chromedriver.exe\")"
   ]
  },
  {
   "cell_type": "code",
   "execution_count": 194,
   "metadata": {},
   "outputs": [],
   "source": [
    "url='https://www.flipkart.com'\n",
    "driver.get(url)"
   ]
  },
  {
   "cell_type": "code",
   "execution_count": 197,
   "metadata": {},
   "outputs": [
    {
     "data": {
      "text/plain": [
       "<selenium.webdriver.remote.webelement.WebElement (session=\"4c1a8a85d65737fccd04538d8ac22c4b\", element=\"cf37e07a-d341-40c2-a390-95f11acd8bf8\")>"
      ]
     },
     "execution_count": 197,
     "metadata": {},
     "output_type": "execute_result"
    }
   ],
   "source": [
    "search_job=driver.find_element_by_xpath('//input[@class=\"_3704LK\"]')\n",
    "search_job"
   ]
  },
  {
   "cell_type": "code",
   "execution_count": 198,
   "metadata": {},
   "outputs": [],
   "source": [
    "search_job.send_keys(\"sneakers\")\n"
   ]
  },
  {
   "cell_type": "code",
   "execution_count": 199,
   "metadata": {},
   "outputs": [],
   "source": [
    "search_btn=driver.find_element_by_xpath('//button[@class=\"L0Z3Pu\"]')\n",
    "search_btn.click()"
   ]
  },
  {
   "cell_type": "code",
   "execution_count": 200,
   "metadata": {},
   "outputs": [],
   "source": [
    "brand_tags=driver.find_elements_by_xpath('//div[@class=\"_2WkVRV\"]')"
   ]
  },
  {
   "cell_type": "code",
   "execution_count": 201,
   "metadata": {},
   "outputs": [
    {
     "data": {
      "text/plain": [
       "['DUCATI',\n",
       " 'ROCKFIELD',\n",
       " 'Labbin',\n",
       " 'KULP',\n",
       " 'CALCADOS',\n",
       " 'Robbie jones',\n",
       " 'PEHANOSA',\n",
       " 'Fzzirok',\n",
       " 'Nilatin',\n",
       " 'Shoes Bank',\n",
       " 'World Wear Footwear',\n",
       " 'French Connection',\n",
       " 'Numenzo',\n",
       " 'Stefano Rads',\n",
       " 'Numenzo',\n",
       " 'Chevit',\n",
       " 'Birde',\n",
       " 'believe',\n",
       " 'ESSENCE',\n",
       " 'DUCATI',\n",
       " 'Robbie jones',\n",
       " 'Chevit',\n",
       " 'bluemaker',\n",
       " 'luxury fashion',\n",
       " 'Chevit',\n",
       " 'Chevit',\n",
       " 'Chevit',\n",
       " 'Extoes',\n",
       " 'SCATCHITE',\n",
       " 'World Wear Footwear',\n",
       " 'T-ROCK',\n",
       " 'Nilatin',\n",
       " 'HOTSTYLE',\n",
       " 'WRIZT',\n",
       " 'Absolute comfort',\n",
       " 'Echor',\n",
       " 'Jokatoo',\n",
       " 'D-SNEAKERZ',\n",
       " 'STRANGER BROTHERS',\n",
       " 'Echor']"
      ]
     },
     "execution_count": 201,
     "metadata": {},
     "output_type": "execute_result"
    }
   ],
   "source": [
    "Brands=[]\n",
    "for i in brand_tags:\n",
    "    Brands.append(i.text)\n",
    "Brands"
   ]
  },
  {
   "cell_type": "code",
   "execution_count": 202,
   "metadata": {},
   "outputs": [],
   "source": [
    "Des=driver.find_elements_by_xpath('//a[@class=\"IRpwTa\"]')"
   ]
  },
  {
   "cell_type": "code",
   "execution_count": 203,
   "metadata": {},
   "outputs": [
    {
     "data": {
      "text/plain": [
       "['Sneakers For Men',\n",
       " 'Sneakers For Men',\n",
       " 'Sneakers For Men',\n",
       " 'Sneakers For Men',\n",
       " 'Casual Sneakers Shoes For Men Sneakers For Men',\n",
       " 'Sneakers For Men',\n",
       " 'Black Sneaker For Men Sneakers For Men',\n",
       " \"White Sneaker For Men's/Boy's Sneakers For Men\",\n",
       " '5011-Latest Collection Stylish Casual Loafer Sneakers S...',\n",
       " 'Sneakers For Men']"
      ]
     },
     "execution_count": 203,
     "metadata": {},
     "output_type": "execute_result"
    }
   ],
   "source": [
    "Description=[]\n",
    "for i in Des:\n",
    "    Description.append(i.text)\n",
    "Description[:10]\n"
   ]
  },
  {
   "cell_type": "code",
   "execution_count": 204,
   "metadata": {},
   "outputs": [],
   "source": [
    "price=driver.find_elements_by_xpath('//div[@class=\"_30jeq3\"]')"
   ]
  },
  {
   "cell_type": "code",
   "execution_count": 205,
   "metadata": {},
   "outputs": [
    {
     "data": {
      "text/plain": [
       "['₹1,445',\n",
       " '₹449',\n",
       " '₹499',\n",
       " '₹399',\n",
       " '₹748',\n",
       " '₹379',\n",
       " '₹495',\n",
       " '₹399',\n",
       " '₹449',\n",
       " '₹349']"
      ]
     },
     "execution_count": 205,
     "metadata": {},
     "output_type": "execute_result"
    }
   ],
   "source": [
    "Price=[]\n",
    "for i in price:\n",
    "    Price.append(i.text)\n",
    "Price[:10]"
   ]
  },
  {
   "cell_type": "code",
   "execution_count": 209,
   "metadata": {},
   "outputs": [],
   "source": [
    "discount=driver.find_elements_by_xpath('//div[@class=\"_3Ay6Sb\"]/span')"
   ]
  },
  {
   "cell_type": "code",
   "execution_count": 210,
   "metadata": {},
   "outputs": [
    {
     "data": {
      "text/plain": [
       "['60% off',\n",
       " '55% off',\n",
       " '50% off',\n",
       " '60% off',\n",
       " '62% off',\n",
       " '62% off',\n",
       " '50% off',\n",
       " '60% off',\n",
       " '65% off',\n",
       " '65% off']"
      ]
     },
     "execution_count": 210,
     "metadata": {},
     "output_type": "execute_result"
    }
   ],
   "source": [
    "Discount=[]\n",
    "for i in discount:\n",
    "    Discount.append(i.text)\n",
    "Discount[:10]"
   ]
  },
  {
   "cell_type": "code",
   "execution_count": 212,
   "metadata": {},
   "outputs": [],
   "source": [
    "import pandas as pd\n",
    "jobs=pd.DataFrame({})\n",
    "jobs['Brands']=Brands[:10]\n",
    "jobs['Description']=Description[:10]\n",
    "jobs['Price']=Price[:10]\n",
    "jobs['Discount']=Discount[:10]"
   ]
  },
  {
   "cell_type": "code",
   "execution_count": 213,
   "metadata": {},
   "outputs": [
    {
     "data": {
      "text/html": [
       "<div>\n",
       "<style scoped>\n",
       "    .dataframe tbody tr th:only-of-type {\n",
       "        vertical-align: middle;\n",
       "    }\n",
       "\n",
       "    .dataframe tbody tr th {\n",
       "        vertical-align: top;\n",
       "    }\n",
       "\n",
       "    .dataframe thead th {\n",
       "        text-align: right;\n",
       "    }\n",
       "</style>\n",
       "<table border=\"1\" class=\"dataframe\">\n",
       "  <thead>\n",
       "    <tr style=\"text-align: right;\">\n",
       "      <th></th>\n",
       "      <th>Brands</th>\n",
       "      <th>Description</th>\n",
       "      <th>Price</th>\n",
       "      <th>Discount</th>\n",
       "    </tr>\n",
       "  </thead>\n",
       "  <tbody>\n",
       "    <tr>\n",
       "      <th>0</th>\n",
       "      <td>DUCATI</td>\n",
       "      <td>Sneakers For Men</td>\n",
       "      <td>₹1,445</td>\n",
       "      <td>60% off</td>\n",
       "    </tr>\n",
       "    <tr>\n",
       "      <th>1</th>\n",
       "      <td>ROCKFIELD</td>\n",
       "      <td>Sneakers For Men</td>\n",
       "      <td>₹449</td>\n",
       "      <td>55% off</td>\n",
       "    </tr>\n",
       "    <tr>\n",
       "      <th>2</th>\n",
       "      <td>Labbin</td>\n",
       "      <td>Sneakers For Men</td>\n",
       "      <td>₹499</td>\n",
       "      <td>50% off</td>\n",
       "    </tr>\n",
       "    <tr>\n",
       "      <th>3</th>\n",
       "      <td>KULP</td>\n",
       "      <td>Sneakers For Men</td>\n",
       "      <td>₹399</td>\n",
       "      <td>60% off</td>\n",
       "    </tr>\n",
       "    <tr>\n",
       "      <th>4</th>\n",
       "      <td>CALCADOS</td>\n",
       "      <td>Casual Sneakers Shoes For Men Sneakers For Men</td>\n",
       "      <td>₹748</td>\n",
       "      <td>62% off</td>\n",
       "    </tr>\n",
       "    <tr>\n",
       "      <th>5</th>\n",
       "      <td>Robbie jones</td>\n",
       "      <td>Sneakers For Men</td>\n",
       "      <td>₹379</td>\n",
       "      <td>62% off</td>\n",
       "    </tr>\n",
       "    <tr>\n",
       "      <th>6</th>\n",
       "      <td>PEHANOSA</td>\n",
       "      <td>Black Sneaker For Men Sneakers For Men</td>\n",
       "      <td>₹495</td>\n",
       "      <td>50% off</td>\n",
       "    </tr>\n",
       "    <tr>\n",
       "      <th>7</th>\n",
       "      <td>Fzzirok</td>\n",
       "      <td>White Sneaker For Men's/Boy's Sneakers For Men</td>\n",
       "      <td>₹399</td>\n",
       "      <td>60% off</td>\n",
       "    </tr>\n",
       "    <tr>\n",
       "      <th>8</th>\n",
       "      <td>Nilatin</td>\n",
       "      <td>5011-Latest Collection Stylish Casual Loafer S...</td>\n",
       "      <td>₹449</td>\n",
       "      <td>65% off</td>\n",
       "    </tr>\n",
       "    <tr>\n",
       "      <th>9</th>\n",
       "      <td>Shoes Bank</td>\n",
       "      <td>Sneakers For Men</td>\n",
       "      <td>₹349</td>\n",
       "      <td>65% off</td>\n",
       "    </tr>\n",
       "  </tbody>\n",
       "</table>\n",
       "</div>"
      ],
      "text/plain": [
       "         Brands                                        Description   Price  \\\n",
       "0        DUCATI                                   Sneakers For Men  ₹1,445   \n",
       "1     ROCKFIELD                                   Sneakers For Men    ₹449   \n",
       "2        Labbin                                   Sneakers For Men    ₹499   \n",
       "3          KULP                                   Sneakers For Men    ₹399   \n",
       "4      CALCADOS     Casual Sneakers Shoes For Men Sneakers For Men    ₹748   \n",
       "5  Robbie jones                                   Sneakers For Men    ₹379   \n",
       "6      PEHANOSA             Black Sneaker For Men Sneakers For Men    ₹495   \n",
       "7       Fzzirok     White Sneaker For Men's/Boy's Sneakers For Men    ₹399   \n",
       "8       Nilatin  5011-Latest Collection Stylish Casual Loafer S...    ₹449   \n",
       "9    Shoes Bank                                   Sneakers For Men    ₹349   \n",
       "\n",
       "  Discount  \n",
       "0  60% off  \n",
       "1  55% off  \n",
       "2  50% off  \n",
       "3  60% off  \n",
       "4  62% off  \n",
       "5  62% off  \n",
       "6  50% off  \n",
       "7  60% off  \n",
       "8  65% off  \n",
       "9  65% off  "
      ]
     },
     "execution_count": 213,
     "metadata": {},
     "output_type": "execute_result"
    }
   ],
   "source": [
    "jobs"
   ]
  },
  {
   "cell_type": "markdown",
   "metadata": {},
   "source": [
    "### Q9: Go to the link - https://www.myntra.com/shoes\n",
    "Set Price filter to “Rs. 6649 to Rs. 13099” , Color filter to “Black”, as shown in the below image"
   ]
  },
  {
   "cell_type": "code",
   "execution_count": 1,
   "metadata": {},
   "outputs": [],
   "source": [
    "import selenium\n",
    "import pandas as pd\n",
    "from selenium import webdriver"
   ]
  },
  {
   "cell_type": "code",
   "execution_count": 3,
   "metadata": {},
   "outputs": [],
   "source": [
    "driver=webdriver.Chrome(\"chromedriver.exe\")"
   ]
  },
  {
   "cell_type": "code",
   "execution_count": 214,
   "metadata": {},
   "outputs": [],
   "source": [
    "url='https://www.myntra.com/shoes'\n",
    "driver.get(url)"
   ]
  },
  {
   "cell_type": "code",
   "execution_count": 215,
   "metadata": {},
   "outputs": [],
   "source": [
    "price_filter=driver.find_element_by_xpath('/html/body/div[2]/div/div[1]/main/div[3]/div[1]/section/div/div[5]/ul/li[2]/label')\n",
    "price_filter.click()"
   ]
  },
  {
   "cell_type": "code",
   "execution_count": 216,
   "metadata": {},
   "outputs": [],
   "source": [
    "color_filter=driver.find_element_by_xpath('/html/body/div[2]/div/div[1]/main/div[3]/div[1]/section/div/div[6]/ul/li[1]/label')\n",
    "color_filter.click()"
   ]
  },
  {
   "cell_type": "code",
   "execution_count": 217,
   "metadata": {},
   "outputs": [
    {
     "data": {
      "text/plain": [
       "[<selenium.webdriver.remote.webelement.WebElement (session=\"4c1a8a85d65737fccd04538d8ac22c4b\", element=\"273c7bbd-6fe9-4327-83c1-e065c71cfa87\")>,\n",
       " <selenium.webdriver.remote.webelement.WebElement (session=\"4c1a8a85d65737fccd04538d8ac22c4b\", element=\"90d8111a-c9d3-4782-b422-91f1d4876df5\")>,\n",
       " <selenium.webdriver.remote.webelement.WebElement (session=\"4c1a8a85d65737fccd04538d8ac22c4b\", element=\"d3d2eea9-cdc1-4245-9aa4-948862e15c74\")>,\n",
       " <selenium.webdriver.remote.webelement.WebElement (session=\"4c1a8a85d65737fccd04538d8ac22c4b\", element=\"4ab248a6-5143-4bf5-8a82-b9a03b7ef253\")>,\n",
       " <selenium.webdriver.remote.webelement.WebElement (session=\"4c1a8a85d65737fccd04538d8ac22c4b\", element=\"90541143-5a63-403f-a0cc-53ff845d8bfe\")>,\n",
       " <selenium.webdriver.remote.webelement.WebElement (session=\"4c1a8a85d65737fccd04538d8ac22c4b\", element=\"981d92c2-292e-45eb-9d8c-2daffd7e593e\")>,\n",
       " <selenium.webdriver.remote.webelement.WebElement (session=\"4c1a8a85d65737fccd04538d8ac22c4b\", element=\"dffb7e9d-772f-4cd5-8521-59423877a288\")>,\n",
       " <selenium.webdriver.remote.webelement.WebElement (session=\"4c1a8a85d65737fccd04538d8ac22c4b\", element=\"bbaca84a-220d-48cc-822e-24c9318a21b0\")>,\n",
       " <selenium.webdriver.remote.webelement.WebElement (session=\"4c1a8a85d65737fccd04538d8ac22c4b\", element=\"eddce716-8c4a-4a42-a5bc-bd70ff36c46a\")>,\n",
       " <selenium.webdriver.remote.webelement.WebElement (session=\"4c1a8a85d65737fccd04538d8ac22c4b\", element=\"91a57983-79a5-461a-86b4-3b69e4c7fed5\")>,\n",
       " <selenium.webdriver.remote.webelement.WebElement (session=\"4c1a8a85d65737fccd04538d8ac22c4b\", element=\"33d10ccb-dc1d-4ee6-9d39-07c9cab62998\")>,\n",
       " <selenium.webdriver.remote.webelement.WebElement (session=\"4c1a8a85d65737fccd04538d8ac22c4b\", element=\"6414fe0e-c4e0-4c96-9aae-65c82eee0f0f\")>,\n",
       " <selenium.webdriver.remote.webelement.WebElement (session=\"4c1a8a85d65737fccd04538d8ac22c4b\", element=\"efcea2f7-170e-4ad3-ace9-f8e966ad5632\")>,\n",
       " <selenium.webdriver.remote.webelement.WebElement (session=\"4c1a8a85d65737fccd04538d8ac22c4b\", element=\"dbaffef4-7241-4c6e-83c2-719f610b114a\")>,\n",
       " <selenium.webdriver.remote.webelement.WebElement (session=\"4c1a8a85d65737fccd04538d8ac22c4b\", element=\"4f310d9d-d8e4-481c-9042-4b21608eb8cf\")>,\n",
       " <selenium.webdriver.remote.webelement.WebElement (session=\"4c1a8a85d65737fccd04538d8ac22c4b\", element=\"a47eaeb9-8d19-4047-9272-18a773a75dfd\")>,\n",
       " <selenium.webdriver.remote.webelement.WebElement (session=\"4c1a8a85d65737fccd04538d8ac22c4b\", element=\"529f306b-9eb9-45c9-94a1-caa02faf7ccd\")>,\n",
       " <selenium.webdriver.remote.webelement.WebElement (session=\"4c1a8a85d65737fccd04538d8ac22c4b\", element=\"d9964ef9-ed47-45c9-89f6-8988e351d6b7\")>,\n",
       " <selenium.webdriver.remote.webelement.WebElement (session=\"4c1a8a85d65737fccd04538d8ac22c4b\", element=\"1c269321-e25b-4c24-8f6c-ff2bffdd49d8\")>,\n",
       " <selenium.webdriver.remote.webelement.WebElement (session=\"4c1a8a85d65737fccd04538d8ac22c4b\", element=\"4837ef29-3a99-4bbb-9e95-d2df870dfd60\")>,\n",
       " <selenium.webdriver.remote.webelement.WebElement (session=\"4c1a8a85d65737fccd04538d8ac22c4b\", element=\"52399207-075e-483b-b9ee-ff627bfa3bf3\")>,\n",
       " <selenium.webdriver.remote.webelement.WebElement (session=\"4c1a8a85d65737fccd04538d8ac22c4b\", element=\"1631d8c9-3e6a-4521-9cb0-71fd497fcceb\")>,\n",
       " <selenium.webdriver.remote.webelement.WebElement (session=\"4c1a8a85d65737fccd04538d8ac22c4b\", element=\"8cbf7295-6568-4d91-accf-367de6b9d553\")>,\n",
       " <selenium.webdriver.remote.webelement.WebElement (session=\"4c1a8a85d65737fccd04538d8ac22c4b\", element=\"d1c3ad04-47bf-45f3-8ae7-53a0beb56198\")>,\n",
       " <selenium.webdriver.remote.webelement.WebElement (session=\"4c1a8a85d65737fccd04538d8ac22c4b\", element=\"0b2f6098-1e3a-476d-a32c-1c342edae315\")>,\n",
       " <selenium.webdriver.remote.webelement.WebElement (session=\"4c1a8a85d65737fccd04538d8ac22c4b\", element=\"3fed3b51-0632-4243-8a3e-dfb62ced5b8d\")>,\n",
       " <selenium.webdriver.remote.webelement.WebElement (session=\"4c1a8a85d65737fccd04538d8ac22c4b\", element=\"90a5c136-c1c8-4d7f-ba09-52242145a5f3\")>,\n",
       " <selenium.webdriver.remote.webelement.WebElement (session=\"4c1a8a85d65737fccd04538d8ac22c4b\", element=\"e8e4a3fd-8617-4f4d-a803-332dbfb8aa20\")>,\n",
       " <selenium.webdriver.remote.webelement.WebElement (session=\"4c1a8a85d65737fccd04538d8ac22c4b\", element=\"08e4a8ca-7668-4040-a10c-e56e63570fdd\")>,\n",
       " <selenium.webdriver.remote.webelement.WebElement (session=\"4c1a8a85d65737fccd04538d8ac22c4b\", element=\"7dadc1e5-05f2-4b60-a62b-4abfd4ea6346\")>,\n",
       " <selenium.webdriver.remote.webelement.WebElement (session=\"4c1a8a85d65737fccd04538d8ac22c4b\", element=\"54d82040-2b6e-4ee9-866e-065b9691e6ac\")>,\n",
       " <selenium.webdriver.remote.webelement.WebElement (session=\"4c1a8a85d65737fccd04538d8ac22c4b\", element=\"44db6f5e-ddee-4e8f-a215-b79c9871cafd\")>,\n",
       " <selenium.webdriver.remote.webelement.WebElement (session=\"4c1a8a85d65737fccd04538d8ac22c4b\", element=\"6db7b449-8266-46ff-a0e6-206df7f27a54\")>,\n",
       " <selenium.webdriver.remote.webelement.WebElement (session=\"4c1a8a85d65737fccd04538d8ac22c4b\", element=\"8a32a3ff-2672-478d-ae6c-204b361de437\")>,\n",
       " <selenium.webdriver.remote.webelement.WebElement (session=\"4c1a8a85d65737fccd04538d8ac22c4b\", element=\"ab972f6d-25bb-45fa-b6f5-22ba9fe7fa46\")>,\n",
       " <selenium.webdriver.remote.webelement.WebElement (session=\"4c1a8a85d65737fccd04538d8ac22c4b\", element=\"740786b8-8ef3-4612-a503-bbccf1686eb9\")>,\n",
       " <selenium.webdriver.remote.webelement.WebElement (session=\"4c1a8a85d65737fccd04538d8ac22c4b\", element=\"a5aa24db-ece8-403c-ac35-e65b97d4c155\")>,\n",
       " <selenium.webdriver.remote.webelement.WebElement (session=\"4c1a8a85d65737fccd04538d8ac22c4b\", element=\"3c2070b2-dbda-4e43-bdfc-0277108b7356\")>,\n",
       " <selenium.webdriver.remote.webelement.WebElement (session=\"4c1a8a85d65737fccd04538d8ac22c4b\", element=\"6edefaac-ed1a-4665-b68b-09a9d36847d8\")>,\n",
       " <selenium.webdriver.remote.webelement.WebElement (session=\"4c1a8a85d65737fccd04538d8ac22c4b\", element=\"bee585c5-d836-47e1-82ae-9dc85b038b10\")>,\n",
       " <selenium.webdriver.remote.webelement.WebElement (session=\"4c1a8a85d65737fccd04538d8ac22c4b\", element=\"8049d007-9ddd-4c70-bb64-ac53d7274d8c\")>,\n",
       " <selenium.webdriver.remote.webelement.WebElement (session=\"4c1a8a85d65737fccd04538d8ac22c4b\", element=\"b81e0b04-f532-4079-8ea3-b4833e2ffe2e\")>,\n",
       " <selenium.webdriver.remote.webelement.WebElement (session=\"4c1a8a85d65737fccd04538d8ac22c4b\", element=\"fa1e3a70-7595-4140-8b4e-379c5bac4c85\")>,\n",
       " <selenium.webdriver.remote.webelement.WebElement (session=\"4c1a8a85d65737fccd04538d8ac22c4b\", element=\"3935f57f-1407-4906-b8df-d2eb48940c7b\")>,\n",
       " <selenium.webdriver.remote.webelement.WebElement (session=\"4c1a8a85d65737fccd04538d8ac22c4b\", element=\"eb32aa6e-8e40-4efe-92ef-027807be3421\")>,\n",
       " <selenium.webdriver.remote.webelement.WebElement (session=\"4c1a8a85d65737fccd04538d8ac22c4b\", element=\"e984cc07-34d5-4914-82a7-6070a4d88f36\")>,\n",
       " <selenium.webdriver.remote.webelement.WebElement (session=\"4c1a8a85d65737fccd04538d8ac22c4b\", element=\"bd27fc49-0773-4f50-b048-041356ca9d6e\")>,\n",
       " <selenium.webdriver.remote.webelement.WebElement (session=\"4c1a8a85d65737fccd04538d8ac22c4b\", element=\"e79abafb-83c5-4b4d-aee3-2873e36fda66\")>,\n",
       " <selenium.webdriver.remote.webelement.WebElement (session=\"4c1a8a85d65737fccd04538d8ac22c4b\", element=\"d3ca9719-97e8-4661-9443-0adf31288b4e\")>,\n",
       " <selenium.webdriver.remote.webelement.WebElement (session=\"4c1a8a85d65737fccd04538d8ac22c4b\", element=\"76fad79e-c695-4142-b675-adbb7d6a2d93\")>]"
      ]
     },
     "execution_count": 217,
     "metadata": {},
     "output_type": "execute_result"
    }
   ],
   "source": [
    "brand_tags=driver.find_elements_by_xpath(\"//h3[@class='product-brand']\")\n",
    "brand_tags"
   ]
  },
  {
   "cell_type": "code",
   "execution_count": 218,
   "metadata": {},
   "outputs": [],
   "source": [
    "price_tags=driver.find_elements_by_xpath(\"//div[@class='product-price']\")"
   ]
  },
  {
   "cell_type": "code",
   "execution_count": 219,
   "metadata": {},
   "outputs": [],
   "source": [
    "#creating empty lists\n",
    "shoe_names=[]\n",
    "description=[]\n",
    "Price=[]\n",
    "\n",
    "page_urls = []\n",
    "# scrape next pages urls\n",
    "nxt_page = driver.find_elements_by_xpath(\"//ul[@class='pagination-container']/li/a\")\n",
    "for i in nxt_page:\n",
    "    page_urls.append(i.get_attribute('href'))\n",
    "    \n",
    "\n",
    "for url in page_urls[:3]:\n",
    "    driver.get(url)\n",
    "    Names=driver.find_elements_by_xpath(\"//div[@class='product-productMetaInfo']/h3\")  #for scrapping shoe brand names\n",
    "    for i in Names:\n",
    "        shoe_names.append(i.text)\n",
    "        \n",
    "    desc=driver.find_elements_by_xpath(\"//h4[@class='product-product']\") \n",
    "    for i in desc:\n",
    "        description.append(i.text)\n",
    "    \n",
    "    price=driver.find_elements_by_xpath(\"//div[@class='product-price']/span\") \n",
    "    for i in price:\n",
    "        Price.append(i.text)"
   ]
  },
  {
   "cell_type": "code",
   "execution_count": 220,
   "metadata": {},
   "outputs": [
    {
     "name": "stdout",
     "output_type": "stream",
     "text": [
      "150 150 196\n"
     ]
    }
   ],
   "source": [
    "print(len(shoe_names),len(description),len(Price))"
   ]
  },
  {
   "cell_type": "code",
   "execution_count": 225,
   "metadata": {},
   "outputs": [
    {
     "data": {
      "text/plain": [
       "['Rs. 12316Rs. 17595',\n",
       " '(30% OFF)',\n",
       " 'Rs. 8236Rs. 10295',\n",
       " '(20% OFF)',\n",
       " 'Rs. 6999',\n",
       " 'Rs. 6999',\n",
       " 'Rs. 9999',\n",
       " 'Rs. 12316Rs. 17595',\n",
       " '(30% OFF)',\n",
       " 'Rs. 11999',\n",
       " 'Rs. 7195Rs. 7995',\n",
       " '(10% OFF)',\n",
       " 'Rs. 7857Rs. 8449',\n",
       " '(7% OFF)',\n",
       " 'Rs. 8999',\n",
       " 'Rs. 9999',\n",
       " 'Rs. 7375Rs. 8195',\n",
       " '(10% OFF)',\n",
       " 'Rs. 11999',\n",
       " 'Rs. 7499Rs. 9999',\n",
       " '(25% OFF)',\n",
       " 'Rs. 7499Rs. 9999',\n",
       " '(25% OFF)',\n",
       " 'Rs. 10999',\n",
       " 'Rs. 10999',\n",
       " 'Rs. 6999',\n",
       " 'Rs. 7375Rs. 8195',\n",
       " '(10% OFF)',\n",
       " 'Rs. 8999',\n",
       " 'Rs. 7699Rs. 10999',\n",
       " '(30% OFF)',\n",
       " 'Rs. 6990',\n",
       " 'Rs. 9659Rs. 13999',\n",
       " '(31% OFF)',\n",
       " 'Rs. 8999',\n",
       " 'Rs. 8999',\n",
       " 'Rs. 6999',\n",
       " 'Rs. 9999',\n",
       " 'Rs. 9099Rs. 12999',\n",
       " '(30% OFF)',\n",
       " 'Rs. 11249Rs. 14999',\n",
       " '(25% OFF)',\n",
       " 'Rs. 6999Rs. 9999',\n",
       " '(30% OFF)',\n",
       " 'Rs. 7499',\n",
       " 'Rs. 6990',\n",
       " 'Rs. 6999Rs. 9999',\n",
       " '(30% OFF)',\n",
       " 'Rs. 7999',\n",
       " 'Rs. 9999',\n",
       " 'Rs. 9999',\n",
       " 'Rs. 6999Rs. 9999',\n",
       " '(30% OFF)',\n",
       " 'Rs. 6990',\n",
       " 'Rs. 7999',\n",
       " 'Rs. 6899Rs. 9999',\n",
       " '(31% OFF)',\n",
       " 'Rs. 9999',\n",
       " 'Rs. 6990',\n",
       " 'Rs. 9990',\n",
       " 'Rs. 7413Rs. 10590',\n",
       " '(30% OFF)',\n",
       " 'Rs. 7495Rs. 14990',\n",
       " '(50% OFF)',\n",
       " 'Rs. 7490',\n",
       " 'Rs. 7006Rs. 7149',\n",
       " '(2% OFF)',\n",
       " 'Rs. 6990',\n",
       " 'Rs. 7499',\n",
       " 'Rs. 9371Rs. 12495',\n",
       " '(25% OFF)',\n",
       " 'Rs. 9371Rs. 12495',\n",
       " '(25% OFF)',\n",
       " 'Rs. 6999',\n",
       " 'Rs. 11305Rs. 11900',\n",
       " '(5% OFF)',\n",
       " 'Rs. 6999',\n",
       " 'Rs. 10490',\n",
       " 'Rs. 10493Rs. 14990',\n",
       " '(30% OFF)',\n",
       " 'Rs. 8499',\n",
       " 'Rs. 9995',\n",
       " 'Rs. 8999',\n",
       " 'Rs. 9995',\n",
       " 'Rs. 8990',\n",
       " 'Rs. 8295',\n",
       " 'Rs. 6999',\n",
       " 'Rs. 8990',\n",
       " 'Rs. 8990',\n",
       " 'Rs. 7349Rs. 10499',\n",
       " '(30% OFF)',\n",
       " 'Rs. 8295',\n",
       " 'Rs. 8154Rs. 13590',\n",
       " '(40% OFF)',\n",
       " 'Rs. 11495',\n",
       " 'Rs. 11495',\n",
       " 'Rs. 7495Rs. 14990',\n",
       " '(50% OFF)',\n",
       " 'Rs. 7192Rs. 8990',\n",
       " '(20% OFF)',\n",
       " 'Rs. 10499',\n",
       " 'Rs. 8195',\n",
       " 'Rs. 6999',\n",
       " 'Rs. 6995Rs. 13990',\n",
       " '(50% OFF)',\n",
       " 'Rs. 6990',\n",
       " 'Rs. 6675Rs. 8900',\n",
       " '(25% OFF)',\n",
       " 'Rs. 6995',\n",
       " 'Rs. 7195Rs. 7995',\n",
       " '(10% OFF)',\n",
       " 'Rs. 9999',\n",
       " 'Rs. 12999',\n",
       " 'Rs. 11999',\n",
       " 'Rs. 9490',\n",
       " 'Rs. 7999',\n",
       " 'Rs. 10999',\n",
       " 'Rs. 7039Rs. 10999',\n",
       " '(36% OFF)',\n",
       " 'Rs. 7690',\n",
       " 'Rs. 11999',\n",
       " 'Rs. 6999',\n",
       " 'Rs. 6999',\n",
       " 'Rs. 7999',\n",
       " 'Rs. 7990',\n",
       " 'Rs. 8500',\n",
       " 'Rs. 8650',\n",
       " 'Rs. 11999',\n",
       " 'Rs. 7052Rs. 10850',\n",
       " '(35% OFF)',\n",
       " 'Rs. 7999',\n",
       " 'Rs. 6990',\n",
       " 'Rs. 9999',\n",
       " 'Rs. 7999Rs. 15999',\n",
       " '(50% OFF)',\n",
       " 'Rs. 8295',\n",
       " 'Rs. 11999',\n",
       " 'Rs. 12999',\n",
       " 'Rs. 7999',\n",
       " 'Rs. 7693Rs. 10990',\n",
       " '(30% OFF)',\n",
       " 'Rs. 11990',\n",
       " 'Rs. 9490',\n",
       " 'Rs. 6993Rs. 9990',\n",
       " '(30% OFF)',\n",
       " 'Rs. 8295',\n",
       " 'Rs. 6993Rs. 9990',\n",
       " '(30% OFF)',\n",
       " 'Rs. 7440Rs. 8000',\n",
       " '(7% OFF)',\n",
       " 'Rs. 9295',\n",
       " 'Rs. 10990',\n",
       " 'Rs. 11990',\n",
       " 'Rs. 6999',\n",
       " 'Rs. 6995',\n",
       " 'Rs. 11999',\n",
       " 'Rs. 7192Rs. 8990',\n",
       " '(20% OFF)',\n",
       " 'Rs. 9513Rs. 13590',\n",
       " '(30% OFF)',\n",
       " 'Rs. 6990',\n",
       " 'Rs. 6799Rs. 8499',\n",
       " '(20% OFF)',\n",
       " 'Rs. 7990',\n",
       " 'Rs. 7499',\n",
       " 'Rs. 6990',\n",
       " 'Rs. 8990',\n",
       " 'Rs. 8999',\n",
       " 'Rs. 7499',\n",
       " 'Rs. 7000',\n",
       " 'Rs. 7999',\n",
       " 'Rs. 9093Rs. 12990',\n",
       " '(30% OFF)',\n",
       " 'Rs. 10999',\n",
       " 'Rs. 6999',\n",
       " 'Rs. 7499',\n",
       " 'Rs. 9599Rs. 15999',\n",
       " '(40% OFF)',\n",
       " 'Rs. 9303Rs. 13290',\n",
       " '(30% OFF)',\n",
       " 'Rs. 9999',\n",
       " 'Rs. 7999Rs. 9999',\n",
       " '(20% OFF)',\n",
       " 'Rs. 11999',\n",
       " 'Rs. 10990',\n",
       " 'Rs. 9990',\n",
       " 'Rs. 7999',\n",
       " 'Rs. 8990',\n",
       " 'Rs. 7799Rs. 12999',\n",
       " '(40% OFF)',\n",
       " 'Rs. 7499',\n",
       " 'Rs. 6990',\n",
       " 'Rs. 6990',\n",
       " 'Rs. 9499',\n",
       " 'Rs. 11990',\n",
       " 'Rs. 11990']"
      ]
     },
     "execution_count": 225,
     "metadata": {},
     "output_type": "execute_result"
    }
   ],
   "source": [
    "Price"
   ]
  },
  {
   "cell_type": "markdown",
   "metadata": {},
   "source": [
    "### Q10: Go to webpage https://www.amazon.in/\n",
    "Enter “Laptop” in the search field and then click the search icon.\n",
    "Then set CPU Type filter to “Intel Core i7” and “Intel Core i9” as shown in the below image:"
   ]
  },
  {
   "cell_type": "code",
   "execution_count": 84,
   "metadata": {},
   "outputs": [],
   "source": [
    "driver=webdriver.Chrome(\"chromedriver.exe\")"
   ]
  },
  {
   "cell_type": "code",
   "execution_count": 4,
   "metadata": {},
   "outputs": [],
   "source": [
    "url='https://www.amazon.in/'\n",
    "driver.get(url)"
   ]
  },
  {
   "cell_type": "code",
   "execution_count": 5,
   "metadata": {},
   "outputs": [
    {
     "data": {
      "text/plain": [
       "<selenium.webdriver.remote.webelement.WebElement (session=\"a7964796885e73e86c3680592db6217f\", element=\"9d9b8cef-dad7-4924-a70d-9507e9ab6d98\")>"
      ]
     },
     "execution_count": 5,
     "metadata": {},
     "output_type": "execute_result"
    }
   ],
   "source": [
    "search_job=driver.find_element_by_id('twotabsearchtextbox')\n",
    "search_job"
   ]
  },
  {
   "cell_type": "code",
   "execution_count": 6,
   "metadata": {},
   "outputs": [],
   "source": [
    "search_job.send_keys(\"laptop\")"
   ]
  },
  {
   "cell_type": "code",
   "execution_count": 8,
   "metadata": {},
   "outputs": [],
   "source": [
    "search_btn=driver.find_element_by_xpath('//div[@class=\"nav-search-submit nav-sprite\"]')\n",
    "search_btn.click()"
   ]
  },
  {
   "cell_type": "code",
   "execution_count": 9,
   "metadata": {},
   "outputs": [],
   "source": [
    "Intel_i7=driver.find_element_by_xpath('/html/body/div[1]/div[2]/div[1]/div/div[2]/div/div[3]/span/div[1]/span/div/div/div[6]/ul[1]/li[26]/span/a/div/label/i')\n",
    "Intel_i7.click()"
   ]
  },
  {
   "cell_type": "code",
   "execution_count": 19,
   "metadata": {},
   "outputs": [],
   "source": [
    "Intel_i9=driver.find_element_by_xpath('/html/body/div[1]/div[2]/div[1]/div/div[2]/div/div[3]/span/div[1]/span/div/div/div[6]/ul[1]/li[28]/span/a/div/label/i')\n",
    "Intel_i9.click()"
   ]
  },
  {
   "cell_type": "code",
   "execution_count": 47,
   "metadata": {},
   "outputs": [
    {
     "data": {
      "text/plain": [
       "[<selenium.webdriver.remote.webelement.WebElement (session=\"e6b97871fad4ca8f800b680685576975\", element=\"46e885c6-7b38-48ab-a8cf-7803fb61b62d\")>,\n",
       " <selenium.webdriver.remote.webelement.WebElement (session=\"e6b97871fad4ca8f800b680685576975\", element=\"e8d39595-f1e4-46fe-95a5-8f81de917942\")>,\n",
       " <selenium.webdriver.remote.webelement.WebElement (session=\"e6b97871fad4ca8f800b680685576975\", element=\"7699eaa1-da13-441a-abc8-d67b0dce807e\")>,\n",
       " <selenium.webdriver.remote.webelement.WebElement (session=\"e6b97871fad4ca8f800b680685576975\", element=\"6a7781b2-45bd-4115-9932-d9ede30917b3\")>,\n",
       " <selenium.webdriver.remote.webelement.WebElement (session=\"e6b97871fad4ca8f800b680685576975\", element=\"b561c220-ad28-4970-a979-d3481398bd65\")>,\n",
       " <selenium.webdriver.remote.webelement.WebElement (session=\"e6b97871fad4ca8f800b680685576975\", element=\"9db3a9ef-a2a6-4919-9042-666d27643199\")>,\n",
       " <selenium.webdriver.remote.webelement.WebElement (session=\"e6b97871fad4ca8f800b680685576975\", element=\"ae3fa890-c616-4bc2-9783-88d5287087f2\")>,\n",
       " <selenium.webdriver.remote.webelement.WebElement (session=\"e6b97871fad4ca8f800b680685576975\", element=\"86478f03-4879-4c73-8318-bf032403c65d\")>,\n",
       " <selenium.webdriver.remote.webelement.WebElement (session=\"e6b97871fad4ca8f800b680685576975\", element=\"a769827f-6def-46f3-8c68-9d39573e4fff\")>,\n",
       " <selenium.webdriver.remote.webelement.WebElement (session=\"e6b97871fad4ca8f800b680685576975\", element=\"19ab3001-7b9e-4898-ba39-fc606787e7a3\")>,\n",
       " <selenium.webdriver.remote.webelement.WebElement (session=\"e6b97871fad4ca8f800b680685576975\", element=\"09828f12-ccba-47ba-898d-8c006d708411\")>,\n",
       " <selenium.webdriver.remote.webelement.WebElement (session=\"e6b97871fad4ca8f800b680685576975\", element=\"fb7ece22-306b-4185-bb73-80d4f9bccd8e\")>,\n",
       " <selenium.webdriver.remote.webelement.WebElement (session=\"e6b97871fad4ca8f800b680685576975\", element=\"1bb5229e-b39a-4c5e-ac7d-08b16a5cb7ba\")>,\n",
       " <selenium.webdriver.remote.webelement.WebElement (session=\"e6b97871fad4ca8f800b680685576975\", element=\"dea4a4f2-761f-4aea-91da-2bf6b5e8fbaa\")>,\n",
       " <selenium.webdriver.remote.webelement.WebElement (session=\"e6b97871fad4ca8f800b680685576975\", element=\"f0b73fe7-057b-4141-b798-83598de1a8d9\")>,\n",
       " <selenium.webdriver.remote.webelement.WebElement (session=\"e6b97871fad4ca8f800b680685576975\", element=\"db3f95d1-3d2d-4299-93c6-01ded69b332b\")>,\n",
       " <selenium.webdriver.remote.webelement.WebElement (session=\"e6b97871fad4ca8f800b680685576975\", element=\"1f6dabc0-bb24-4d1b-b055-45fce7d938dc\")>,\n",
       " <selenium.webdriver.remote.webelement.WebElement (session=\"e6b97871fad4ca8f800b680685576975\", element=\"069d5cd2-457b-4c06-9cd9-c69d1507adc6\")>,\n",
       " <selenium.webdriver.remote.webelement.WebElement (session=\"e6b97871fad4ca8f800b680685576975\", element=\"c0a9a74e-16bc-4948-9e31-dbca24d59b50\")>,\n",
       " <selenium.webdriver.remote.webelement.WebElement (session=\"e6b97871fad4ca8f800b680685576975\", element=\"a644fe61-f20a-42fe-ba17-3ef31439ae0e\")>,\n",
       " <selenium.webdriver.remote.webelement.WebElement (session=\"e6b97871fad4ca8f800b680685576975\", element=\"d25582e2-44ce-47e8-8de0-394728a6e08a\")>,\n",
       " <selenium.webdriver.remote.webelement.WebElement (session=\"e6b97871fad4ca8f800b680685576975\", element=\"9419134a-f06e-4c14-850a-46f03c9840e5\")>,\n",
       " <selenium.webdriver.remote.webelement.WebElement (session=\"e6b97871fad4ca8f800b680685576975\", element=\"2bdd1e7f-75f5-4138-a356-fdf6bbe9add3\")>,\n",
       " <selenium.webdriver.remote.webelement.WebElement (session=\"e6b97871fad4ca8f800b680685576975\", element=\"f7d18c9e-a329-4848-9118-219f2b746fbc\")>,\n",
       " <selenium.webdriver.remote.webelement.WebElement (session=\"e6b97871fad4ca8f800b680685576975\", element=\"075a90dc-1b2e-4c19-bceb-b0238cbb6296\")>,\n",
       " <selenium.webdriver.remote.webelement.WebElement (session=\"e6b97871fad4ca8f800b680685576975\", element=\"45f1d0cc-a8e8-4731-b4e0-e930a47b87c5\")>]"
      ]
     },
     "execution_count": 47,
     "metadata": {},
     "output_type": "execute_result"
    }
   ],
   "source": [
    "title_tags=driver.find_elements_by_xpath('//h2[@class=\"a-size-mini a-spacing-none a-color-base s-line-clamp-2\"]/a')\n",
    "title_tags"
   ]
  },
  {
   "cell_type": "code",
   "execution_count": 48,
   "metadata": {},
   "outputs": [],
   "source": [
    "title=[]\n",
    "for i in title_tags:\n",
    "    title.append(i.text)"
   ]
  },
  {
   "cell_type": "code",
   "execution_count": 50,
   "metadata": {},
   "outputs": [
    {
     "data": {
      "text/plain": [
       "['MSI GS66 Stealth, Intel 10th Gen. i7-10875H, 15.6\" (39.62cms) FHD Gaming Laptop (16GB*2/1TB NVMe SSD/Windows 10 Home/Nvidia RTX 2070 Super Max-Q/ Black/2.1Kg), 10SFS-488IN',\n",
       " 'HP Pavilion (2021) Thin & Light 11th Gen Core i7 Laptop, 16 GB RAM, 1TB SSD, Iris Xe Graphics, 14\" (35.56cms) FHD Screen, Windows 10, MS Office, Backlit Keyboard (14-dv0058TU)',\n",
       " 'Lenovo Legion Y540 Intel Core i7 9th Gen 15.6” FHD Gaming (8GB/256SSD + 1TBHDD/Win10/NVIDIA GeForce GTX 1650 4GB/Raven Black/2.3kg), 81SY00U7IN',\n",
       " 'Mi Notebook Horizon Edition 14 Intel Core i7-10510U 10th Gen 14-inch (35.56 cms) Thin and Light Laptop(8GB/512GB SSD/Windows 10/Nvidia MX350 2GB Graphics/Grey/1.35Kg), XMA1904-AF+Webcam',\n",
       " 'HP Pavilion Gaming 10th Gen Intel Core i7 Processor 15.6-inch FHD Gaming Laptop (16GB/512GB SSD + 32GB Intel Optane/Windows 10/NVIDIA 1650Ti 4GB/Shadow Black), 15-dk1509TX',\n",
       " 'HP Pavilion x360 (2021) 14\" (35.56cms) FHD Touchscreen Laptop, 11th Gen Core i7, 8 GB RAM, 512GB SSD, 2-in-1 Convertible, Windows 10, MS Office, Finger Print Reader (14-dw1040TU)',\n",
       " 'ASUS VivoBook S S14 Intel Core i7-1165G7 11th Gen 14-inch FHD Thin and Light Laptop (8GB RAM/512GB SSD + 32GB Optane Memory/Windows 10/Office 2019/Iris X Graphics ;Dreamy White;1.4 Kg), S433EA-AM702TS',\n",
       " 'Dell 14 (2021) i7-1165G7 2in1 Touch Screen Laptop, 16Gb RAM, 512Gb SSD, 14” (35.56 cms) FHD Display, Win 10 + MSO, Backlit KB + FPR + Active Pen, Silver Metal Color (Inspiron 5410, D560469WIN9S)',\n",
       " 'HP 14 Thin & Light 14\" (35.56cms) FHD Laptop (11th Gen Intel i7-1165G7/8GB/512GB SSD/Windows 10/MS Office 2019/Alexa Built-in/Pale Gold/1.47 kg), 14s-dr2007TU',\n",
       " 'Lenovo IdeaPad Flex 5 11th Gen Intel Core i7 14-inch FHD IPS 2-in-1 Touchscreen Laptop (16GB/512GB SSD/Win 10/Office 2019/Lenovo Digital Pen Stylus/Fingerprint Reader/Graphite Grey/1.5Kg), 82HS0092IN']"
      ]
     },
     "execution_count": 50,
     "metadata": {},
     "output_type": "execute_result"
    }
   ],
   "source": [
    "title[:10]"
   ]
  },
  {
   "cell_type": "code",
   "execution_count": 29,
   "metadata": {},
   "outputs": [],
   "source": [
    "Rating=[]\n",
    "page_urls = []\n",
    "# scrape next pages urls\n",
    "nxt_page = driver.find_elements_by_xpath(\"//a[@class='a-link-normal a-text-normal']\")\n",
    "for i in nxt_page:\n",
    "    page_urls.append(i.get_attribute('href'))\n",
    "    "
   ]
  },
  {
   "cell_type": "code",
   "execution_count": 30,
   "metadata": {},
   "outputs": [],
   "source": [
    "\n",
    "for url in page_urls[:10]:\n",
    "    driver.get(url)\n",
    "    Names=driver.find_elements_by_xpath(\"//span[@class='a-size-medium a-color-base']\")  #for scrapping shoe brand names\n",
    "    for i in Names:\n",
    "        Rating.append(i.text)\n",
    "    "
   ]
  },
  {
   "cell_type": "code",
   "execution_count": 31,
   "metadata": {},
   "outputs": [
    {
     "data": {
      "text/plain": [
       "['3 out of 5',\n",
       " '4.5 out of 5',\n",
       " '4.3 out of 5',\n",
       " '4.6 out of 5',\n",
       " '4.2 out of 5',\n",
       " '4.4 out of 5',\n",
       " '2 out of 5',\n",
       " '4 out of 5',\n",
       " '3.8 out of 5',\n",
       " '4.4 out of 5']"
      ]
     },
     "execution_count": 31,
     "metadata": {},
     "output_type": "execute_result"
    }
   ],
   "source": [
    "Rating"
   ]
  },
  {
   "cell_type": "code",
   "execution_count": 32,
   "metadata": {},
   "outputs": [
    {
     "data": {
      "text/plain": [
       "[<selenium.webdriver.remote.webelement.WebElement (session=\"a7964796885e73e86c3680592db6217f\", element=\"6480eb35-fb67-4c9a-adcd-ffa5e6d43e31\")>,\n",
       " <selenium.webdriver.remote.webelement.WebElement (session=\"a7964796885e73e86c3680592db6217f\", element=\"02ca8835-ce33-4a50-91b0-eb3a09063d7a\")>,\n",
       " <selenium.webdriver.remote.webelement.WebElement (session=\"a7964796885e73e86c3680592db6217f\", element=\"38e79114-c2f5-4158-9eca-da35ad2e074d\")>,\n",
       " <selenium.webdriver.remote.webelement.WebElement (session=\"a7964796885e73e86c3680592db6217f\", element=\"44a73da0-b7e9-4e07-8e52-1778bcdb06fa\")>,\n",
       " <selenium.webdriver.remote.webelement.WebElement (session=\"a7964796885e73e86c3680592db6217f\", element=\"5d92ab79-bc9f-4e5b-8025-1f805759b94b\")>,\n",
       " <selenium.webdriver.remote.webelement.WebElement (session=\"a7964796885e73e86c3680592db6217f\", element=\"b4351982-e4e0-42ec-a736-7b14f20526a9\")>,\n",
       " <selenium.webdriver.remote.webelement.WebElement (session=\"a7964796885e73e86c3680592db6217f\", element=\"9691aaf2-426a-446e-b8c5-129ae908b2d3\")>,\n",
       " <selenium.webdriver.remote.webelement.WebElement (session=\"a7964796885e73e86c3680592db6217f\", element=\"1c085511-ac28-4b3a-b84d-5ce78b232d92\")>,\n",
       " <selenium.webdriver.remote.webelement.WebElement (session=\"a7964796885e73e86c3680592db6217f\", element=\"f1f3cd40-aa9c-4326-9a68-3d1ee1637392\")>,\n",
       " <selenium.webdriver.remote.webelement.WebElement (session=\"a7964796885e73e86c3680592db6217f\", element=\"0aa48e99-24de-4ea1-90a1-ca1e1f69c9cb\")>,\n",
       " <selenium.webdriver.remote.webelement.WebElement (session=\"a7964796885e73e86c3680592db6217f\", element=\"a29e06b0-ca2e-467e-bb03-9b48e1e02874\")>,\n",
       " <selenium.webdriver.remote.webelement.WebElement (session=\"a7964796885e73e86c3680592db6217f\", element=\"4feab87a-8c78-4c2c-9ff0-50a5508ac093\")>,\n",
       " <selenium.webdriver.remote.webelement.WebElement (session=\"a7964796885e73e86c3680592db6217f\", element=\"85cc53b6-f1db-4d9a-86c8-4c99c72ac2b7\")>,\n",
       " <selenium.webdriver.remote.webelement.WebElement (session=\"a7964796885e73e86c3680592db6217f\", element=\"3e6688d6-bb8a-41bc-8989-ebca0d9998fb\")>,\n",
       " <selenium.webdriver.remote.webelement.WebElement (session=\"a7964796885e73e86c3680592db6217f\", element=\"bcf3ec4f-819e-4d31-9a3f-2cb1f1ac2e52\")>,\n",
       " <selenium.webdriver.remote.webelement.WebElement (session=\"a7964796885e73e86c3680592db6217f\", element=\"8de84fe8-c1df-44db-8324-f79a5d45967e\")>,\n",
       " <selenium.webdriver.remote.webelement.WebElement (session=\"a7964796885e73e86c3680592db6217f\", element=\"11dc2db7-895a-4453-95cc-7501ab8e6a3d\")>,\n",
       " <selenium.webdriver.remote.webelement.WebElement (session=\"a7964796885e73e86c3680592db6217f\", element=\"97eaec07-c74f-4d07-af08-6c48828730ca\")>,\n",
       " <selenium.webdriver.remote.webelement.WebElement (session=\"a7964796885e73e86c3680592db6217f\", element=\"1a307fb6-bbfe-42f0-b9c7-98be414bff18\")>,\n",
       " <selenium.webdriver.remote.webelement.WebElement (session=\"a7964796885e73e86c3680592db6217f\", element=\"763dbca5-53d3-4e83-b957-6d01904985f0\")>,\n",
       " <selenium.webdriver.remote.webelement.WebElement (session=\"a7964796885e73e86c3680592db6217f\", element=\"9e96f1cf-5870-4e71-94d5-f336746a4e50\")>,\n",
       " <selenium.webdriver.remote.webelement.WebElement (session=\"a7964796885e73e86c3680592db6217f\", element=\"d3f2b674-f3f5-4513-adae-dbf75c145483\")>,\n",
       " <selenium.webdriver.remote.webelement.WebElement (session=\"a7964796885e73e86c3680592db6217f\", element=\"09567166-ed58-4aa0-9c2e-021ee5a1f207\")>]"
      ]
     },
     "execution_count": 32,
     "metadata": {},
     "output_type": "execute_result"
    }
   ],
   "source": [
    "price_tags=driver.find_elements_by_xpath('//span[@class=\"a-price-whole\"]')\n",
    "price_tags"
   ]
  },
  {
   "cell_type": "code",
   "execution_count": 33,
   "metadata": {},
   "outputs": [
    {
     "data": {
      "text/plain": [
       "['2,56,074',\n",
       " '84,990',\n",
       " '69,990',\n",
       " '92,828',\n",
       " '86,990',\n",
       " '59,999',\n",
       " '91,990',\n",
       " '79,046',\n",
       " '82,990',\n",
       " '76,990']"
      ]
     },
     "execution_count": 33,
     "metadata": {},
     "output_type": "execute_result"
    }
   ],
   "source": [
    "Price=[]\n",
    "for i in price_tags:\n",
    "    Price.append(i.text)\n",
    "Price[:10]"
   ]
  },
  {
   "cell_type": "code",
   "execution_count": null,
   "metadata": {},
   "outputs": [],
   "source": []
  }
 ],
 "metadata": {
  "kernelspec": {
   "display_name": "Python 3",
   "language": "python",
   "name": "python3"
  },
  "language_info": {
   "codemirror_mode": {
    "name": "ipython",
    "version": 3
   },
   "file_extension": ".py",
   "mimetype": "text/x-python",
   "name": "python",
   "nbconvert_exporter": "python",
   "pygments_lexer": "ipython3",
   "version": "3.8.5"
  }
 },
 "nbformat": 4,
 "nbformat_minor": 4
}
